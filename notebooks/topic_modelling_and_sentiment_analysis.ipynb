{
 "cells": [
  {
   "cell_type": "markdown",
   "metadata": {},
   "source": [
    "# Topic modelling and sentiment analysis"
   ]
  },
  {
   "cell_type": "markdown",
   "metadata": {},
   "source": [
    "## Imports "
   ]
  },
  {
   "cell_type": "code",
   "execution_count": 24,
   "metadata": {},
   "outputs": [
    {
     "name": "stderr",
     "output_type": "stream",
     "text": [
      "/Users/ea/Library/Python/3.9/lib/python/site-packages/ipykernel/ipkernel.py:283: DeprecationWarning: `should_run_async` will not call `transform_cell` automatically in the future. Please pass the result to `transformed_cell` argument and any exception that happen during thetransform in `preprocessing_exc_tuple` in IPython 7.17 and above.\n",
      "  and should_run_async(code)\n"
     ]
    }
   ],
   "source": [
    "import re\n",
    "import warnings\n",
    "import gensim\n",
    "import string\n",
    "import pandas as pd\n",
    "import numpy as np\n",
    "import matplotlib.pyplot as plt\n",
    "import seaborn as sns\n",
    "import matplotlib.pyplot as plt\n",
    "from pprint import pprint\n",
    "from gensim import corpora\n",
    "from wordcloud import WordCloud, STOPWORDS\n",
    "from gensim.models import CoherenceModel\n",
    "from nltk.stem import WordNetLemmatizer\n",
    "\n",
    "warnings.filterwarnings('ignore')"
   ]
  },
  {
   "cell_type": "markdown",
   "metadata": {},
   "source": [
    "## Data reading "
   ]
  },
  {
   "cell_type": "code",
   "execution_count": 25,
   "metadata": {},
   "outputs": [
    {
     "data": {
      "text/html": [
       "<div>\n",
       "<style scoped>\n",
       "    .dataframe tbody tr th:only-of-type {\n",
       "        vertical-align: middle;\n",
       "    }\n",
       "\n",
       "    .dataframe tbody tr th {\n",
       "        vertical-align: top;\n",
       "    }\n",
       "\n",
       "    .dataframe thead th {\n",
       "        text-align: right;\n",
       "    }\n",
       "</style>\n",
       "<table border=\"1\" class=\"dataframe\">\n",
       "  <thead>\n",
       "    <tr style=\"text-align: right;\">\n",
       "      <th></th>\n",
       "      <th>created_at</th>\n",
       "      <th>original_text</th>\n",
       "      <th>polarity</th>\n",
       "      <th>subjectivity</th>\n",
       "      <th>favorite_count</th>\n",
       "      <th>retweet_count</th>\n",
       "      <th>original_author</th>\n",
       "      <th>followers_count</th>\n",
       "      <th>friends_count</th>\n",
       "      <th>possibly_sensitive</th>\n",
       "      <th>hashtags</th>\n",
       "      <th>place</th>\n",
       "      <th>hashtags_in_tweets</th>\n",
       "      <th>screen_name</th>\n",
       "      <th>device</th>\n",
       "    </tr>\n",
       "  </thead>\n",
       "  <tbody>\n",
       "    <tr>\n",
       "      <th>0</th>\n",
       "      <td>2021-06-18 17:55:49+00:00</td>\n",
       "      <td>africa is  in the midst of a full blown third...</td>\n",
       "      <td>0.166667</td>\n",
       "      <td>0.188889</td>\n",
       "      <td>548</td>\n",
       "      <td>612</td>\n",
       "      <td>ketuesriche</td>\n",
       "      <td>551</td>\n",
       "      <td>351</td>\n",
       "      <td>False</td>\n",
       "      <td></td>\n",
       "      <td>mass</td>\n",
       "      <td></td>\n",
       "      <td>@telglobalhealth, @telglobalhealth</td>\n",
       "      <td>twitter for iphone</td>\n",
       "    </tr>\n",
       "    <tr>\n",
       "      <th>1</th>\n",
       "      <td>2021-06-18 17:55:59+00:00</td>\n",
       "      <td>dr moeti is head of who in africa  and one of ...</td>\n",
       "      <td>0.133333</td>\n",
       "      <td>0.455556</td>\n",
       "      <td>195</td>\n",
       "      <td>92</td>\n",
       "      <td>grid1949</td>\n",
       "      <td>66</td>\n",
       "      <td>92</td>\n",
       "      <td>False</td>\n",
       "      <td></td>\n",
       "      <td>edinburgh, scotland</td>\n",
       "      <td></td>\n",
       "      <td>@globalhlthtwit</td>\n",
       "      <td>twitter web app</td>\n",
       "    </tr>\n",
       "  </tbody>\n",
       "</table>\n",
       "</div>"
      ],
      "text/plain": [
       "                  created_at  \\\n",
       "0  2021-06-18 17:55:49+00:00   \n",
       "1  2021-06-18 17:55:59+00:00   \n",
       "\n",
       "                                       original_text  polarity  subjectivity  \\\n",
       "0   africa is  in the midst of a full blown third...  0.166667      0.188889   \n",
       "1  dr moeti is head of who in africa  and one of ...  0.133333      0.455556   \n",
       "\n",
       "   favorite_count  retweet_count original_author  followers_count  \\\n",
       "0             548            612     ketuesriche              551   \n",
       "1             195             92        grid1949               66   \n",
       "\n",
       "   friends_count  possibly_sensitive hashtags                place  \\\n",
       "0            351               False                          mass   \n",
       "1             92               False           edinburgh, scotland   \n",
       "\n",
       "  hashtags_in_tweets                         screen_name              device  \n",
       "0                     @telglobalhealth, @telglobalhealth  twitter for iphone  \n",
       "1                                        @globalhlthtwit     twitter web app  "
      ]
     },
     "execution_count": 25,
     "metadata": {},
     "output_type": "execute_result"
    }
   ],
   "source": [
    "tweets = pd.read_csv(\"./clean_tweets.csv\")\n",
    "tweets[:2]"
   ]
  },
  {
   "cell_type": "code",
   "execution_count": 26,
   "metadata": {},
   "outputs": [
    {
     "name": "stdout",
     "output_type": "stream",
     "text": [
      "<class 'pandas.core.frame.DataFrame'>\n",
      "RangeIndex: 6532 entries, 0 to 6531\n",
      "Data columns (total 15 columns):\n",
      " #   Column              Non-Null Count  Dtype  \n",
      "---  ------              --------------  -----  \n",
      " 0   created_at          6532 non-null   object \n",
      " 1   original_text       6532 non-null   object \n",
      " 2   polarity            6532 non-null   float64\n",
      " 3   subjectivity        6532 non-null   float64\n",
      " 4   favorite_count      6532 non-null   int64  \n",
      " 5   retweet_count       6532 non-null   int64  \n",
      " 6   original_author     6532 non-null   object \n",
      " 7   followers_count     6532 non-null   int64  \n",
      " 8   friends_count       6532 non-null   int64  \n",
      " 9   possibly_sensitive  6532 non-null   bool   \n",
      " 10  hashtags            6532 non-null   object \n",
      " 11  place               6532 non-null   object \n",
      " 12  hashtags_in_tweets  6532 non-null   object \n",
      " 13  screen_name         6532 non-null   object \n",
      " 14  device              6532 non-null   object \n",
      "dtypes: bool(1), float64(2), int64(4), object(8)\n",
      "memory usage: 720.9+ KB\n"
     ]
    }
   ],
   "source": [
    "tweets.info()"
   ]
  },
  {
   "cell_type": "markdown",
   "metadata": {},
   "source": [
    "## Topic modelling"
   ]
  },
  {
   "cell_type": "markdown",
   "metadata": {},
   "source": [
    "## Feature Extraction"
   ]
  },
  {
   "cell_type": "markdown",
   "metadata": {},
   "source": [
    "We will create a dataset containg only the columns we need for topic modeling."
   ]
  },
  {
   "cell_type": "code",
   "execution_count": 27,
   "metadata": {},
   "outputs": [
    {
     "data": {
      "text/html": [
       "<div>\n",
       "<style scoped>\n",
       "    .dataframe tbody tr th:only-of-type {\n",
       "        vertical-align: middle;\n",
       "    }\n",
       "\n",
       "    .dataframe tbody tr th {\n",
       "        vertical-align: top;\n",
       "    }\n",
       "\n",
       "    .dataframe thead th {\n",
       "        text-align: right;\n",
       "    }\n",
       "</style>\n",
       "<table border=\"1\" class=\"dataframe\">\n",
       "  <thead>\n",
       "    <tr style=\"text-align: right;\">\n",
       "      <th></th>\n",
       "      <th>clean_text</th>\n",
       "      <th>polarity</th>\n",
       "    </tr>\n",
       "  </thead>\n",
       "  <tbody>\n",
       "    <tr>\n",
       "      <th>0</th>\n",
       "      <td>africa is  in the midst of a full blown third...</td>\n",
       "      <td>0.166667</td>\n",
       "    </tr>\n",
       "    <tr>\n",
       "      <th>1</th>\n",
       "      <td>dr moeti is head of who in africa  and one of ...</td>\n",
       "      <td>0.133333</td>\n",
       "    </tr>\n",
       "  </tbody>\n",
       "</table>\n",
       "</div>"
      ],
      "text/plain": [
       "                                          clean_text  polarity\n",
       "0   africa is  in the midst of a full blown third...  0.166667\n",
       "1  dr moeti is head of who in africa  and one of ...  0.133333"
      ]
     },
     "execution_count": 27,
     "metadata": {},
     "output_type": "execute_result"
    }
   ],
   "source": [
    "df = pd.DataFrame(columns=['clean_text', 'polarity'])\n",
    "\n",
    "df['clean_text'] = tweets['original_text'].astype(str)\n",
    "df['polarity'] = tweets['polarity']\n",
    "df[:2]"
   ]
  },
  {
   "cell_type": "markdown",
   "metadata": {},
   "source": [
    "### Data Pre-processing"
   ]
  },
  {
   "cell_type": "markdown",
   "metadata": {},
   "source": [
    "I have already done common data preprocessing tasks like, converting to lowercase, removing Punctuation and links. Here we will go further and make the data ready for topic modelling."
   ]
  },
  {
   "cell_type": "markdown",
   "metadata": {},
   "source": [
    "### Remove stop words"
   ]
  },
  {
   "cell_type": "code",
   "execution_count": 28,
   "metadata": {},
   "outputs": [
    {
     "name": "stdout",
     "output_type": "stream",
     "text": [
      "FREQ X: \n",
      " the         7191\n",
      "to          6094\n",
      "vaccines    4462\n",
      "of          4162\n",
      "and         3501\n",
      "in          3499\n",
      "#covid      3086\n",
      "a           2397\n",
      "is          2261\n",
      "are         1986\n",
      "dtype: int64\n"
     ]
    }
   ],
   "source": [
    "freqX = pd.Series(\n",
    "    ' '.join(df['clean_text']).split()).value_counts()[:10]\n",
    "\n",
    "print('FREQ X: \\n', freqX)"
   ]
  },
  {
   "cell_type": "markdown",
   "metadata": {},
   "source": [
    "As we can see most them are stop words so should we remove them. While exploring the data, I have also found while exploring the data using word cloud, there are some meaning less characters in the data. we will also remove those."
   ]
  },
  {
   "cell_type": "code",
   "execution_count": 29,
   "metadata": {},
   "outputs": [],
   "source": [
    "custom_stopwords = ['t', 'rt', 'ti', 'vk', 'to', 'co',\n",
    "                    'dqlw', 'z', 'nd', 'm', 's', 'kur', 'u', 'o', 'd']\n",
    "STOP_WORDS = STOPWORDS.union(custom_stopwords)"
   ]
  },
  {
   "cell_type": "markdown",
   "metadata": {},
   "source": [
    "#### Tokenizing\n"
   ]
  },
  {
   "cell_type": "code",
   "execution_count": 30,
   "metadata": {},
   "outputs": [],
   "source": [
    "tweets['clean_text'] = tweets['original_text'].astype(str)\n",
    "tweets['clean_text'] = tweets['clean_text'].apply(lambda x: x.lower())\n",
    "tweets['clean_text'] = tweets['clean_text'].apply(\n",
    "    lambda x: x.translate(str.maketrans(' ', ' ', string.punctuation)))"
   ]
  },
  {
   "cell_type": "code",
   "execution_count": 31,
   "metadata": {},
   "outputs": [
    {
     "data": {
      "text/plain": [
       "6532"
      ]
     },
     "execution_count": 31,
     "metadata": {},
     "output_type": "execute_result"
    }
   ],
   "source": [
    "sentence_list = []\n",
    "for w in tweets['clean_text']:\n",
    "    if w not in STOP_WORDS:\n",
    "        sentence_list.append(w)\n",
    "\n",
    "len(sentence_list)"
   ]
  },
  {
   "cell_type": "code",
   "execution_count": 32,
   "metadata": {},
   "outputs": [],
   "source": [
    "word_list = [sent.split() for sent in sentence_list]"
   ]
  },
  {
   "cell_type": "code",
   "execution_count": 33,
   "metadata": {},
   "outputs": [
    {
     "name": "stdout",
     "output_type": "stream",
     "text": [
      "[['africa', 'is', 'in', 'the', 'midst', 'of', 'a', 'full', 'blown', 'third', 'wave', 'of', 'coronavirus', 'the', 'head', 'of', 'whoafro', 'has', 'warned', 'cases', 'have', 'risen', 'across', 'the', 'continent', 'by', 'more', 'than', 'and', 'deaths', 'have', 'also', 'risen', 'by', 'in', 'the', 'last', 'week', 'jriggers', 'reports'], ['dr', 'moeti', 'is', 'head', 'of', 'who', 'in', 'africa', 'and', 'one', 'of', 'the', 'best', 'public', 'health', 'experts', 'and', 'leaders', 'i', 'know', 'hers', 'is', 'a', 'desperate', 'request', 'for', 'vaccines', 'to', 'africa', 'we', 'plead', 'with', 'germany', 'and', 'the', 'uk', 'to', 'lift', 'patent', 'restrictions', 'and', 'urgently', 'transfer', 'technology', 'to', 'enable', 'production', 'in', 'africa']]\n"
     ]
    }
   ],
   "source": [
    "print(word_list[:2])"
   ]
  },
  {
   "cell_type": "markdown",
   "metadata": {},
   "source": [
    "### Lemmatization"
   ]
  },
  {
   "cell_type": "code",
   "execution_count": 34,
   "metadata": {},
   "outputs": [
    {
     "name": "stdout",
     "output_type": "stream",
     "text": [
      "[['africa', 'is', 'in', 'the', 'midst', 'of', 'a', 'full', 'blown', 'third', 'wave', 'of', 'coronavirus', 'the', 'head', 'of', 'whoafro', 'ha', 'warned', 'case', 'have', 'risen', 'across', 'the', 'continent', 'by', 'more', 'than', 'and', 'death', 'have', 'also', 'risen', 'by', 'in', 'the', 'last', 'week', 'jriggers', 'report'], ['dr', 'moeti', 'is', 'head', 'of', 'who', 'in', 'africa', 'and', 'one', 'of', 'the', 'best', 'public', 'health', 'expert', 'and', 'leader', 'i', 'know', 'hers', 'is', 'a', 'desperate', 'request', 'for', 'vaccine', 'to', 'africa', 'we', 'plead', 'with', 'germany', 'and', 'the', 'uk', 'to', 'lift', 'patent', 'restriction', 'and', 'urgently', 'transfer', 'technology', 'to', 'enable', 'production', 'in', 'africa']]\n"
     ]
    }
   ],
   "source": [
    "lemmatizer = WordNetLemmatizer()\n",
    "word_list_lematized = []\n",
    "\n",
    "for w in word_list:\n",
    "    word_list_lematized.append([lemmatizer.lemmatize(x) for x in w])\n",
    "print(word_list_lematized[:2])"
   ]
  },
  {
   "cell_type": "markdown",
   "metadata": {},
   "source": [
    "### Model"
   ]
  },
  {
   "cell_type": "code",
   "execution_count": 35,
   "metadata": {},
   "outputs": [],
   "source": [
    "#Create dictionary which contains Id and word\n",
    "id2word = corpora.Dictionary(word_list_lematized)\n",
    "corpus = [id2word.doc2bow(tweet) for tweet in word_list]\n"
   ]
  },
  {
   "cell_type": "code",
   "execution_count": 36,
   "metadata": {},
   "outputs": [
    {
     "name": "stdout",
     "output_type": "stream",
     "text": [
      "(6532,)\n",
      "(6244,)\n",
      "(6532,)\n"
     ]
    }
   ],
   "source": [
    "print(np.array(word_list).shape)\n",
    "print(np.array(id2word).shape)\n",
    "print(np.array(corpus).shape)"
   ]
  },
  {
   "cell_type": "code",
   "execution_count": 37,
   "metadata": {},
   "outputs": [],
   "source": [
    "# Build LDA model\n",
    "lda_model = gensim.models.ldamodel.LdaModel(corpus,\n",
    "                                            id2word=id2word,\n",
    "                                            num_topics=5,\n",
    "                                            random_state=100,\n",
    "                                            update_every=1,\n",
    "                                            chunksize=100,\n",
    "                                            passes=10,\n",
    "                                            alpha='auto',\n",
    "                                            per_word_topics=True)"
   ]
  },
  {
   "cell_type": "code",
   "execution_count": 38,
   "metadata": {},
   "outputs": [
    {
     "name": "stdout",
     "output_type": "stream",
     "text": [
      "[(0,\n",
      "  [('rt', 0.05135388),\n",
      "   ('to', 0.04899923),\n",
      "   ('you', 0.047530957),\n",
      "   ('just', 0.04639975),\n",
      "   ('by', 0.04287168),\n",
      "   ('your', 0.040858533),\n",
      "   ('israel', 0.039500218),\n",
      "   ('expired', 0.036287107),\n",
      "   ('another', 0.036159504),\n",
      "   ('off', 0.034197006)]),\n",
      " (1,\n",
      "  [('the', 0.055367418),\n",
      "   ('india', 0.04609642),\n",
      "   ('of', 0.045332506),\n",
      "   ('in', 0.035756595),\n",
      "   ('covid', 0.03425202),\n",
      "   ('to', 0.03176906),\n",
      "   ('a', 0.023968818),\n",
      "   ('africa', 0.020553645),\n",
      "   ('and', 0.01960582),\n",
      "   ('you', 0.01767912)]),\n",
      " (2,\n",
      "  [('the', 0.04535592),\n",
      "   ('covid', 0.044756),\n",
      "   ('to', 0.04405555),\n",
      "   ('are', 0.0225899),\n",
      "   ('of', 0.020903906),\n",
      "   ('and', 0.018832086),\n",
      "   ('in', 0.017606916),\n",
      "   ('s', 0.016779993),\n",
      "   ('for', 0.015218426),\n",
      "   ('amp', 0.0148701705)]),\n",
      " (3,\n",
      "  [('dose', 0.059763003),\n",
      "   ('capacity', 0.041330624),\n",
      "   ('age', 0.038345903),\n",
      "   ('code', 0.034806795),\n",
      "   ('pin', 0.03457041),\n",
      "   ('limit', 0.03457005),\n",
      "   ('min', 0.03457005),\n",
      "   ('covaxin', 0.029363401),\n",
      "   ('pmcg', 0.022434188),\n",
      "   ('hospital', 0.021163784)]),\n",
      " (4,\n",
      "  [('the', 0.052942567),\n",
      "   ('to', 0.045801032),\n",
      "   ('africa', 0.031528126),\n",
      "   ('and', 0.030581992),\n",
      "   ('is', 0.030514732),\n",
      "   ('of', 0.027045876),\n",
      "   ('in', 0.026751824),\n",
      "   ('so', 0.022977628),\n",
      "   ('help', 0.016334543),\n",
      "   ('with', 0.01361046)])]\n"
     ]
    }
   ],
   "source": [
    "pprint(lda_model.show_topics(formatted=False))"
   ]
  },
  {
   "cell_type": "code",
   "execution_count": 39,
   "metadata": {},
   "outputs": [
    {
     "name": "stdout",
     "output_type": "stream",
     "text": [
      "\n",
      "Perplexity:  -6.145317042964687\n",
      "\n",
      " Ldamodel Coherence Score/Accuracy on Tweets:  0.46964481291085464\n"
     ]
    }
   ],
   "source": [
    "# Compute Perplexity\n",
    "\n",
    "#It's a measure of how good the model is. The lower the better. Perplexity is a negative value\n",
    "print('\\nPerplexity: ', lda_model.log_perplexity(corpus))\n",
    "doc_lda = lda_model[corpus]\n",
    "\n",
    "\n",
    "# Compute Coherence Score\n",
    "coherence_model_lda = CoherenceModel(\n",
    "    model=lda_model, texts=word_list, dictionary=id2word, coherence='c_v')\n",
    "coherence_lda = coherence_model_lda.get_coherence()\n",
    "print('\\n Ldamodel Coherence Score/Accuracy on Tweets: ', coherence_lda)\n"
   ]
  },
  {
   "cell_type": "markdown",
   "metadata": {},
   "source": [
    "### Visualization"
   ]
  },
  {
   "cell_type": "code",
   "execution_count": null,
   "metadata": {},
   "outputs": [],
   "source": [
    "import pyLDAvis.gensim_models as gensimvis\n",
    "import pyLDAvis"
   ]
  },
  {
   "cell_type": "code",
   "execution_count": 60,
   "metadata": {},
   "outputs": [
    {
     "data": {
      "text/html": [
       "\n",
       "<link rel=\"stylesheet\" type=\"text/css\" href=\"https://cdn.jsdelivr.net/gh/bmabey/pyLDAvis@3.3.1/pyLDAvis/js/ldavis.v1.0.0.css\">\n",
       "\n",
       "\n",
       "<div id=\"ldavis_el435850623259688676820837\"></div>\n",
       "<script type=\"text/javascript\">\n",
       "\n",
       "var ldavis_el435850623259688676820837_data = {\"mdsDat\": {\"x\": [0.1738977935698057, 0.16391594468296522, 0.18655621161056732, -0.24245856934283522, -0.28191138052050335], \"y\": [0.05435312584473819, -0.027275344698867377, -7.748165020733272e-05, -0.3188178842482762, 0.2918175847526131], \"topics\": [1, 2, 3, 4, 5], \"cluster\": [1, 1, 1, 1, 1], \"Freq\": [32.262269064981474, 28.27269365746117, 16.300290395122982, 12.298990839348566, 10.865756043085813]}, \"tinfo\": {\"Term\": [\"india\", \"dose\", \"rt\", \"you\", \"just\", \"by\", \"your\", \"the\", \"africa\", \"capacity\", \"israel\", \"another\", \"expired\", \"age\", \"to\", \"off\", \"tried\", \"war\", \"crime\", \"load\", \"shawajason\", \"code\", \"pin\", \"min\", \"limit\", \"covid\", \"in\", \"covaxin\", \"so\", \"and\", \"from\", \"vaccination\", \"don\", \"be\", \"over\", \"t\", \"oxygen\", \"go\", \"them\", \"our\", \"being\", \"re\", \"free\", \"via\", \"stand\", \"had\", \"covidvaccination\", \"each\", \"must\", \"they\", \"register\", \"see\", \"huge\", \"jab\", \"virus\", \"failure\", \"indiafightscorona\", \"providing\", \"directly\", \"coverage\", \"not\", \"committed\", \"need\", \"education\", \"on\", \"people\", \"will\", \"are\", \"covid\", \"we\", \"these\", \"s\", \"this\", \"as\", \"at\", \"amp\", \"for\", \"to\", \"the\", \"with\", \"and\", \"have\", \"that\", \"of\", \"in\", \"world\", \"a\", \"is\", \"india\", \"wave\", \"third\", \"today\", \"full\", \"support\", \"coronavirus\", \"why\", \"australia\", \"midst\", \"new\", \"blown\", \"everyone\", \"administered\", \"take\", \"june\", \"into\", \"m\", \"ve\", \"here\", \"also\", \"seen\", \"overwhelm\", \"action\", \"department\", \"elsewhere\", \"surging\", \"urgent\", \"trajectory\", \"quickly\", \"said\", \"there\", \"no\", \"of\", \"government\", \"in\", \"a\", \"the\", \"africa\", \"more\", \"vaccine\", \"covid\", \"you\", \"to\", \"and\", \"amp\", \"are\", \"is\", \"by\", \"so\", \"rich\", \"uk\", \"ontario\", \"urgently\", \"public\", \"provide\", \"indian\", \"sending\", \"pandemic\", \"wolfofwallst\", \"sent\", \"technology\", \"far\", \"germany\", \"production\", \"best\", \"helping\", \"transfer\", \"lift\", \"desperate\", \"request\", \"patent\", \"hers\", \"moeti\", \"enable\", \"plead\", \"palestinian\", \"friday\", \"nft\", \"up\", \"help\", \"africa\", \"million\", \"is\", \"who\", \"the\", \"and\", \"one\", \"to\", \"in\", \"of\", \"with\", \"been\", \"head\", \"for\", \"than\", \"s\", \"dr\", \"a\", \"covid\", \"i\", \"rt\", \"another\", \"off\", \"tried\", \"war\", \"crime\", \"load\", \"shawajason\", \"an\", \"please\", \"china\", \"expired\", \"question\", \"graphic\", \"release\", \"zweli\", \"givenkazeni\", \"when\", \"speaks\", \"taiwan\", \"response\", \"benefit\", \"myocarditis\", \"child\", \"his\", \"ccp\", \"well\", \"zimbabwe\", \"latest\", \"greater\", \"good\", \"israel\", \"just\", \"your\", \"by\", \"you\", \"what\", \"to\", \"dose\", \"capacity\", \"age\", \"pin\", \"limit\", \"min\", \"covaxin\", \"pmcg\", \"hospital\", \"risk\", \"covishield\", \"where\", \"fully\", \"medical\", \"astrazeneca\", \"america\", \"threat\", \"cause\", \"deadly\", \"rural\", \"down\", \"little\", \"read\", \"pose\", \"shunned\", \"michael\", \"yeadon\", \"first\", \"sinovac\", \"aundh\", \"code\", \"could\", \"delta\", \"vaccinated\", \"that\", \"if\", \"but\", \"should\", \"you\", \"people\", \"at\", \"pfizer\", \"south\"], \"Freq\": [2156.0, 1075.0, 1045.0, 1924.0, 1131.0, 1342.0, 1006.0, 6485.0, 1812.0, 743.0, 929.0, 736.0, 742.0, 690.0, 6069.0, 696.0, 689.0, 689.0, 688.0, 688.0, 688.0, 715.0, 622.0, 622.0, 622.0, 4323.0, 3333.0, 528.0, 620.0, 2747.0, 777.8684173512812, 538.5766775354568, 504.24444974405924, 432.832574936898, 421.20901586180645, 786.2307115223776, 306.555844145473, 306.55837907772883, 260.7225790046837, 246.63352493572094, 242.1784312006007, 239.6868164635833, 214.82795359193645, 197.85113949028556, 194.7559872058803, 226.57858235942226, 179.44381589732646, 166.33064861617729, 165.1138438549489, 156.2157470174778, 156.2298009801316, 155.41914455607375, 149.4163752696428, 145.7639479515191, 145.16484653557896, 138.4298670374982, 142.95907026268682, 141.87119911462904, 142.71479723187457, 145.46063833665002, 354.9190710867187, 147.6818478735705, 601.6647294963459, 147.58174290174102, 628.3667117884963, 631.1970879135492, 463.35877591206065, 1205.6197454335845, 2388.6213341437633, 726.1884055191815, 313.19798796275205, 895.5458378056869, 478.96948519829607, 463.93768485292344, 469.8089855939279, 793.6188958434673, 812.2052179616502, 2351.238539052931, 2420.6390196718985, 652.3107871953789, 1005.0657468516266, 537.9770417955608, 440.17368904531503, 1115.6384977611667, 939.6786107437804, 417.0173314108025, 653.7053478679802, 613.8431405081467, 2155.9344131801704, 534.8353521063077, 507.3563187160069, 432.84225417513676, 420.5838419601728, 433.108960134381, 389.4827386628079, 380.4468383336525, 406.2815552187321, 323.6637762434944, 327.86065999853605, 320.7749843816527, 317.2870297201403, 286.0453863643887, 261.7091754017164, 258.64885192669425, 201.90997948142478, 187.182718594734, 181.74426698311754, 202.35281242845343, 172.86957500855354, 169.9079649714111, 162.81766131138394, 160.5069937095568, 171.95532414213727, 155.49990838748556, 152.71724572206696, 149.40477556705548, 148.9245153628848, 147.9255223041266, 152.77076767983627, 392.6950579641868, 392.7453239574855, 2120.206007225874, 298.7949374072897, 1672.339665811071, 1121.0240807493471, 2589.5398480039958, 961.2960901512739, 437.9593671393852, 590.0302004636612, 1601.9705856049518, 826.8542463173065, 1485.8422025079963, 916.9661883315724, 508.1005516115886, 577.0648410465849, 557.8895842286247, 424.2242498075998, 619.5861123255371, 307.4626306263482, 239.26093097831523, 226.9236986704769, 209.9138750158881, 209.8266705214462, 215.79514953542156, 192.0916244067449, 170.83921734156937, 170.531584495806, 214.9042699269762, 167.36920673645727, 164.67461924930916, 153.4658846712724, 146.0903181336607, 144.5707751093445, 140.4910362039294, 142.61798458665203, 133.91019203668733, 133.59964609622122, 132.26168178956155, 132.04259697760727, 131.87663847464995, 131.32499627820414, 131.31226404532234, 131.30692755718155, 131.30692755718155, 128.9093250524006, 123.82527163533089, 165.4139174816706, 299.8330346967921, 440.45695573364856, 850.1482160539642, 240.73550938137922, 822.8222827753171, 346.75013256060714, 1427.5833548039916, 824.6359353566257, 324.0953717506872, 1235.0136312856023, 721.3563816357598, 729.2854236104492, 367.00272032060906, 252.97048201999723, 181.16050022001355, 325.43700253861067, 206.32108751420972, 307.6540159257411, 216.27784430508834, 288.9236708252324, 329.24672770054434, 198.86360274452616, 1044.8257717785268, 735.6870098811659, 695.7588031072632, 688.9001169784867, 688.1982711407059, 688.1064854701278, 688.0741217365714, 688.0713173849517, 358.9149799366488, 296.9953888312977, 188.53062856388766, 738.2831573413721, 151.1359260984715, 139.55189801643567, 135.3742762518075, 135.3742762518075, 135.3658442486268, 111.43594238593913, 110.00517355859034, 109.87652392803922, 101.69059312781876, 93.96789194952676, 83.6135720527044, 84.29887600559377, 89.58453878145077, 70.06851583318536, 67.16206591884954, 74.0710408935621, 88.61511421801588, 60.485406843006125, 128.04783185220322, 803.6558527065914, 944.031007932449, 831.2916010188676, 872.2502933230585, 967.0460942949977, 184.1148169206465, 996.9190330601659, 1074.2206722942858, 742.9046193422453, 689.2552198782623, 621.3919654413083, 621.3854702350278, 621.3854702350278, 527.7976499999613, 403.24728186685735, 380.4121788915805, 317.5054029751347, 285.633994924047, 199.8403217843037, 156.92271059846775, 157.09913580205202, 132.2189970410778, 124.88444438088166, 104.7130623297467, 92.54321361879724, 89.37778823015013, 89.09882079442283, 91.91180591134955, 88.13330335875268, 91.08168339422855, 84.14190702813298, 84.07045975904695, 82.8406728028926, 82.7602444045037, 81.79499481239151, 80.02461585516053, 78.6190147135385, 625.6409017230185, 223.69816864543128, 126.07769580170793, 222.7513249278177, 265.9607516700519, 112.37597445178034, 122.01958968493362, 115.69469842680404, 129.84946041479984, 114.41870845690146, 107.82779832504974, 94.43346930843802, 94.3624489150225], \"Total\": [2156.0, 1075.0, 1045.0, 1924.0, 1131.0, 1342.0, 1006.0, 6485.0, 1812.0, 743.0, 929.0, 736.0, 742.0, 690.0, 6069.0, 696.0, 689.0, 689.0, 688.0, 688.0, 688.0, 715.0, 622.0, 622.0, 622.0, 4323.0, 3333.0, 528.0, 620.0, 2747.0, 778.7095911092478, 539.3984275878104, 505.0885044417185, 433.64507164383195, 422.0273680759202, 787.9277559889089, 307.3634656428228, 307.3905036299835, 261.53224596936474, 247.4443526558028, 242.99141881789308, 240.519119838523, 215.64169065206985, 198.67411694860166, 195.57695072734094, 227.55640699625584, 180.2588253085357, 167.13887934237044, 165.92558933883018, 157.0268146152237, 157.04472428719183, 156.23402638315036, 150.24522347981267, 146.57872403309295, 145.98008731688012, 139.23734364297007, 143.79341335463874, 142.70273577129964, 143.55355395059777, 146.32570919078245, 362.2084427988096, 148.69180271828253, 633.8971160319892, 148.6918609476973, 710.7813746074415, 746.2295394600833, 549.8469643207501, 1783.2924646635606, 4323.2876299594955, 1070.0159132657213, 375.47342671291057, 1446.8042477129718, 659.8675648844246, 638.9925315100292, 651.1561581154631, 1302.3200999587032, 1376.8025261967975, 6069.223561873663, 6485.138420906474, 1091.017218945181, 2747.0494622467213, 951.264148544495, 717.1880282935203, 4033.0206549074674, 3333.756589441818, 662.1557159316031, 2064.0331032973704, 2049.423856272208, 2156.74036873963, 535.628601757594, 508.1490844048897, 433.65330792855076, 421.3778652821879, 433.93742697036606, 390.2822435633283, 381.2755469740089, 407.2719864824047, 324.4542564943976, 328.66315208941137, 321.56836104439, 318.10206886864785, 286.86478022121275, 262.5161501742537, 259.4728832766932, 202.71640278248734, 187.98453394720588, 182.53884635079712, 203.26905152994374, 173.67169598140816, 170.69871110015274, 163.60934615391471, 161.2982824210866, 172.8161115827469, 156.29039510718178, 153.50810839947, 150.19551857100979, 149.71521563137958, 148.71593623298517, 153.60718083040516, 412.42784647046693, 427.04594463995403, 4033.0206549074674, 362.3174304323624, 3333.756589441818, 2064.0331032973704, 6485.138420906474, 1812.0242863222277, 637.3874231637193, 988.6868721538045, 4323.2876299594955, 1924.1787468458215, 6069.223561873663, 2747.0494622467213, 1302.3200999587032, 1783.2924646635606, 2049.423856272208, 1342.0996506450097, 620.3843658002625, 308.29276464668317, 240.06321427698535, 227.73885791262393, 210.70817853372446, 210.62273375155306, 216.6371746366481, 192.90599885870955, 171.62893487915753, 171.33430398479896, 215.91982397853022, 168.16037384258252, 165.46290676699, 154.25404571054656, 146.8782524697034, 145.35725050341824, 141.27713619737344, 143.42340532277214, 134.69536332635275, 134.3869872454611, 133.04703089890455, 132.82814682362178, 132.6617857235196, 132.1101137713646, 132.09737978783195, 132.09204227279687, 132.09204227279687, 129.69530337038972, 124.6254224094388, 166.4954573731146, 347.59221656368607, 574.750208803051, 1812.0242863222277, 320.5037838340435, 2049.423856272208, 583.9875033632095, 6485.138420906474, 2747.0494622467213, 605.3354068890897, 6069.223561873663, 3333.756589441818, 4033.0206549074674, 1091.017218945181, 518.6945897500477, 252.58187733470137, 1376.8025261967975, 372.8615847662219, 1446.8042477129718, 443.42646505618563, 2064.0331032973704, 4323.2876299594955, 558.9447602708216, 1045.6675011762827, 736.5251458182465, 696.5967371265988, 689.7378442019088, 689.0359774927624, 688.9441889096245, 688.9118248817765, 688.9090205301568, 359.7956068280227, 297.95155559685634, 189.40005403890447, 742.395050573121, 151.98611716536672, 140.39782159741821, 136.21469994127978, 136.21469994127978, 136.20627178486268, 112.28607179967956, 110.8752755567783, 110.77448587810514, 102.61869062566898, 94.85851187624709, 84.46028971634624, 85.18040509942445, 90.56098503616401, 70.92445437203858, 68.02546091340439, 75.03409837986828, 89.77293126397917, 61.35083520414602, 132.98772763357962, 929.3993518224187, 1131.233795150157, 1006.2129308935394, 1342.0996506450097, 1924.1787468458215, 237.95903660167207, 6069.223561873663, 1075.0167302157886, 743.6999442707815, 690.0573637365958, 622.1867308743344, 622.1802355921133, 622.1802355921133, 528.5938448150644, 404.0420484252581, 381.21217204239343, 318.3187525202694, 286.4307102764655, 200.7049807699661, 157.72166694524566, 157.90838394860205, 133.03810936640625, 125.69595547686207, 105.5109997094251, 93.34034455359946, 90.1758936218808, 89.89605440378119, 92.74169154600315, 88.92989104419574, 91.91419345238855, 84.93769373083846, 84.8667120233985, 83.65345276111867, 83.57350120711554, 82.61340382618701, 80.83024023501409, 79.41376343676616, 715.4714372134956, 252.98730660196512, 168.35235017402664, 470.99070518426555, 717.1880282935203, 243.20346213473624, 362.0016329619043, 321.9871785587103, 1924.1787468458215, 746.2295394600833, 651.1561581154631, 144.8286173898975, 375.71338965946336], \"Category\": [\"Default\", \"Default\", \"Default\", \"Default\", \"Default\", \"Default\", \"Default\", \"Default\", \"Default\", \"Default\", \"Default\", \"Default\", \"Default\", \"Default\", \"Default\", \"Default\", \"Default\", \"Default\", \"Default\", \"Default\", \"Default\", \"Default\", \"Default\", \"Default\", \"Default\", \"Default\", \"Default\", \"Default\", \"Default\", \"Default\", \"Topic1\", \"Topic1\", \"Topic1\", \"Topic1\", \"Topic1\", \"Topic1\", \"Topic1\", \"Topic1\", \"Topic1\", \"Topic1\", \"Topic1\", \"Topic1\", \"Topic1\", \"Topic1\", \"Topic1\", \"Topic1\", \"Topic1\", \"Topic1\", \"Topic1\", \"Topic1\", \"Topic1\", \"Topic1\", \"Topic1\", \"Topic1\", \"Topic1\", \"Topic1\", \"Topic1\", \"Topic1\", \"Topic1\", \"Topic1\", \"Topic1\", \"Topic1\", \"Topic1\", \"Topic1\", \"Topic1\", \"Topic1\", \"Topic1\", \"Topic1\", \"Topic1\", \"Topic1\", \"Topic1\", \"Topic1\", \"Topic1\", \"Topic1\", \"Topic1\", \"Topic1\", \"Topic1\", \"Topic1\", \"Topic1\", \"Topic1\", \"Topic1\", \"Topic1\", \"Topic1\", \"Topic1\", \"Topic1\", \"Topic1\", \"Topic1\", \"Topic1\", \"Topic2\", \"Topic2\", \"Topic2\", \"Topic2\", \"Topic2\", \"Topic2\", \"Topic2\", \"Topic2\", \"Topic2\", \"Topic2\", \"Topic2\", \"Topic2\", \"Topic2\", \"Topic2\", \"Topic2\", \"Topic2\", \"Topic2\", \"Topic2\", \"Topic2\", \"Topic2\", \"Topic2\", \"Topic2\", \"Topic2\", \"Topic2\", \"Topic2\", \"Topic2\", \"Topic2\", \"Topic2\", \"Topic2\", \"Topic2\", \"Topic2\", \"Topic2\", \"Topic2\", \"Topic2\", \"Topic2\", \"Topic2\", \"Topic2\", \"Topic2\", \"Topic2\", \"Topic2\", \"Topic2\", \"Topic2\", \"Topic2\", \"Topic2\", \"Topic2\", \"Topic2\", \"Topic2\", \"Topic2\", \"Topic2\", \"Topic3\", \"Topic3\", \"Topic3\", \"Topic3\", \"Topic3\", \"Topic3\", \"Topic3\", \"Topic3\", \"Topic3\", \"Topic3\", \"Topic3\", \"Topic3\", \"Topic3\", \"Topic3\", \"Topic3\", \"Topic3\", \"Topic3\", \"Topic3\", \"Topic3\", \"Topic3\", \"Topic3\", \"Topic3\", \"Topic3\", \"Topic3\", \"Topic3\", \"Topic3\", \"Topic3\", \"Topic3\", \"Topic3\", \"Topic3\", \"Topic3\", \"Topic3\", \"Topic3\", \"Topic3\", \"Topic3\", \"Topic3\", \"Topic3\", \"Topic3\", \"Topic3\", \"Topic3\", \"Topic3\", \"Topic3\", \"Topic3\", \"Topic3\", \"Topic3\", \"Topic3\", \"Topic3\", \"Topic3\", \"Topic3\", \"Topic3\", \"Topic3\", \"Topic3\", \"Topic4\", \"Topic4\", \"Topic4\", \"Topic4\", \"Topic4\", \"Topic4\", \"Topic4\", \"Topic4\", \"Topic4\", \"Topic4\", \"Topic4\", \"Topic4\", \"Topic4\", \"Topic4\", \"Topic4\", \"Topic4\", \"Topic4\", \"Topic4\", \"Topic4\", \"Topic4\", \"Topic4\", \"Topic4\", \"Topic4\", \"Topic4\", \"Topic4\", \"Topic4\", \"Topic4\", \"Topic4\", \"Topic4\", \"Topic4\", \"Topic4\", \"Topic4\", \"Topic4\", \"Topic4\", \"Topic4\", \"Topic4\", \"Topic4\", \"Topic4\", \"Topic5\", \"Topic5\", \"Topic5\", \"Topic5\", \"Topic5\", \"Topic5\", \"Topic5\", \"Topic5\", \"Topic5\", \"Topic5\", \"Topic5\", \"Topic5\", \"Topic5\", \"Topic5\", \"Topic5\", \"Topic5\", \"Topic5\", \"Topic5\", \"Topic5\", \"Topic5\", \"Topic5\", \"Topic5\", \"Topic5\", \"Topic5\", \"Topic5\", \"Topic5\", \"Topic5\", \"Topic5\", \"Topic5\", \"Topic5\", \"Topic5\", \"Topic5\", \"Topic5\", \"Topic5\", \"Topic5\", \"Topic5\", \"Topic5\", \"Topic5\", \"Topic5\", \"Topic5\", \"Topic5\", \"Topic5\", \"Topic5\"], \"logprob\": [30.0, 29.0, 28.0, 27.0, 26.0, 25.0, 24.0, 23.0, 22.0, 21.0, 20.0, 19.0, 18.0, 17.0, 16.0, 15.0, 14.0, 13.0, 12.0, 11.0, 10.0, 9.0, 8.0, 7.0, 6.0, 5.0, 4.0, 3.0, 2.0, 1.0, -4.2284, -4.5961, -4.6619, -4.8147, -4.8419, -4.2178, -5.1596, -5.1596, -5.3215, -5.3771, -5.3953, -5.4057, -5.5152, -5.5975, -5.6133, -5.4619, -5.6951, -5.771, -5.7784, -5.8338, -5.8337, -5.8389, -5.8783, -5.903, -5.9071, -5.9546, -5.9224, -5.9301, -5.9242, -5.9051, -5.0131, -5.8899, -4.4853, -5.8906, -4.4419, -4.4374, -4.7465, -3.7903, -3.1065, -4.2972, -5.1382, -4.0876, -4.7134, -4.7453, -4.7327, -4.2084, -4.1852, -3.1223, -3.0932, -4.4045, -3.9722, -4.5972, -4.7978, -3.8678, -4.0395, -4.8519, -4.4023, -4.4653, -3.077, -4.471, -4.5238, -4.6826, -4.7114, -4.682, -4.7882, -4.8117, -4.746, -4.9733, -4.9604, -4.9823, -4.9932, -5.0968, -5.1858, -5.1975, -5.4452, -5.5209, -5.5504, -5.443, -5.6005, -5.6177, -5.6604, -5.6747, -5.6058, -5.7064, -5.7244, -5.7463, -5.7496, -5.7563, -5.7241, -4.78, -4.7798, -3.0937, -5.0532, -3.331, -3.731, -2.8938, -3.8847, -4.6709, -4.3728, -3.374, -4.0354, -3.4493, -3.9319, -4.5223, -4.395, -4.4288, -4.7027, -3.7732, -4.4739, -4.7247, -4.7777, -4.8556, -4.856, -4.828, -4.9443, -5.0616, -5.0634, -4.8321, -5.0821, -5.0983, -5.1688, -5.2181, -5.2285, -5.2571, -5.2421, -5.3051, -5.3074, -5.3175, -5.3192, -5.3204, -5.3246, -5.3247, -5.3247, -5.3247, -5.3432, -5.3834, -5.0938, -4.4991, -4.1145, -3.4569, -4.7186, -3.4895, -4.3537, -2.9385, -3.4873, -4.4212, -3.0834, -3.6212, -3.6102, -4.2969, -4.669, -5.0029, -4.4171, -4.8729, -4.4733, -4.8257, -4.5361, -4.4055, -4.9097, -2.969, -3.3198, -3.3756, -3.3855, -3.3865, -3.3867, -3.3867, -3.3867, -4.0375, -4.2269, -4.6814, -3.3163, -4.9024, -4.9822, -5.0126, -5.0126, -5.0126, -5.2072, -5.2201, -5.2213, -5.2987, -5.3777, -5.4944, -5.4863, -5.4254, -5.6711, -5.7135, -5.6156, -5.4363, -5.8182, -5.0682, -3.2314, -3.0705, -3.1976, -3.1495, -3.0464, -4.7051, -3.016, -2.8174, -3.1862, -3.2611, -3.3648, -3.3648, -3.3648, -3.528, -3.7972, -3.8555, -4.0362, -4.142, -4.4992, -4.741, -4.7398, -4.9123, -4.9693, -5.1455, -5.269, -5.3038, -5.307, -5.2759, -5.3179, -5.285, -5.3642, -5.3651, -5.3798, -5.3808, -5.3925, -5.4144, -5.4321, -3.3579, -4.3864, -4.9598, -4.3907, -4.2134, -5.0749, -4.9925, -5.0458, -4.9303, -5.0569, -5.1162, -5.2488, -5.2496], \"loglift\": [30.0, 29.0, 28.0, 27.0, 26.0, 25.0, 24.0, 23.0, 22.0, 21.0, 20.0, 19.0, 18.0, 17.0, 16.0, 15.0, 14.0, 13.0, 12.0, 11.0, 10.0, 9.0, 8.0, 7.0, 6.0, 5.0, 4.0, 3.0, 2.0, 1.0, 1.1302, 1.1297, 1.1296, 1.1294, 1.1293, 1.1291, 1.1286, 1.1286, 1.1282, 1.128, 1.1279, 1.1278, 1.1275, 1.1271, 1.1271, 1.127, 1.1267, 1.1264, 1.1264, 1.1261, 1.1261, 1.126, 1.1257, 1.1257, 1.1257, 1.1255, 1.1255, 1.1254, 1.1254, 1.1253, 1.1109, 1.1245, 1.0791, 1.1238, 1.008, 0.9639, 0.9601, 0.7398, 0.538, 0.7437, 0.9499, 0.6516, 0.8109, 0.8111, 0.8048, 0.636, 0.6035, 0.183, 0.1458, 0.6169, 0.1258, 0.5613, 0.6431, -0.1538, -0.135, 0.6689, -0.0185, -0.0743, 1.2629, 1.2618, 1.2617, 1.2614, 1.2614, 1.2614, 1.2612, 1.2611, 1.2608, 1.2608, 1.2608, 1.2608, 1.2607, 1.2604, 1.2602, 1.2601, 1.2593, 1.259, 1.2589, 1.2588, 1.2586, 1.2586, 1.2584, 1.2584, 1.2583, 1.2582, 1.2581, 1.258, 1.258, 1.2579, 1.2578, 1.2142, 1.1795, 0.6203, 1.0705, 0.5734, 0.6529, 0.3452, 0.6294, 0.888, 0.7471, 0.2705, 0.4186, -0.144, 0.1661, 0.3221, 0.135, -0.0379, 0.1115, 1.8127, 1.8113, 1.8106, 1.8104, 1.8102, 1.8102, 1.8101, 1.8098, 1.8094, 1.8093, 1.8093, 1.8093, 1.8092, 1.8089, 1.8086, 1.8086, 1.8084, 1.8084, 1.8081, 1.8081, 1.8081, 1.8081, 1.8081, 1.808, 1.808, 1.808, 1.808, 1.8079, 1.8075, 1.8075, 1.6662, 1.5479, 1.0572, 1.5278, 0.9014, 1.2927, 0.3005, 0.6106, 1.1892, 0.2218, 0.2833, 0.1038, 0.7245, 1.0959, 1.4816, 0.3716, 1.2222, 0.2659, 1.096, -0.1523, -0.761, 0.7806, 2.0948, 2.0945, 2.0944, 2.0944, 2.0944, 2.0944, 2.0944, 2.0944, 2.0932, 2.0924, 2.0911, 2.0901, 2.09, 2.0896, 2.0895, 2.0895, 2.0895, 2.0881, 2.0878, 2.0875, 2.0866, 2.0862, 2.0856, 2.0853, 2.0848, 2.0835, 2.0829, 2.0827, 2.0827, 2.0814, 2.0578, 1.9503, 1.9147, 1.9047, 1.6647, 1.4076, 1.8391, 0.2893, 2.2188, 2.2185, 2.2184, 2.2183, 2.2183, 2.2183, 2.218, 2.2176, 2.2175, 2.217, 2.2168, 2.2152, 2.2145, 2.2144, 2.2134, 2.2131, 2.212, 2.211, 2.2107, 2.2106, 2.2106, 2.2106, 2.2105, 2.2101, 2.2101, 2.2098, 2.2098, 2.2096, 2.2095, 2.2095, 2.0854, 2.0965, 1.9304, 1.4708, 1.2276, 1.4475, 1.1321, 1.196, -0.4763, 0.3444, 0.4213, 1.7919, 0.8379]}, \"token.table\": {\"Topic\": [1, 2, 3, 2, 2, 2, 3, 5, 2, 5, 1, 2, 4, 1, 2, 3, 4, 1, 2, 1, 2, 5, 5, 1, 2, 5, 5, 2, 1, 1, 3, 1, 4, 3, 2, 1, 5, 2, 4, 5, 5, 5, 4, 4, 4, 2, 5, 1, 2, 3, 5, 5, 1, 1, 2, 3, 4, 1, 5, 4, 5, 1, 5, 2, 3, 1, 1, 5, 5, 2, 3, 1, 1, 2, 3, 2, 3, 4, 1, 3, 5, 1, 2, 3, 1, 3, 1, 2, 5, 3, 4, 1, 4, 5, 2, 4, 4, 4, 1, 1, 2, 3, 2, 3, 1, 3, 3, 2, 3, 4, 5, 1, 1, 2, 3, 4, 1, 2, 5, 1, 2, 3, 2, 1, 3, 2, 1, 2, 3, 5, 3, 4, 1, 2, 2, 4, 4, 3, 5, 5, 4, 2, 5, 5, 2, 3, 5, 5, 3, 1, 2, 3, 1, 4, 1, 2, 2, 3, 2, 5, 1, 5, 1, 2, 3, 5, 4, 1, 4, 1, 2, 3, 3, 1, 1, 2, 1, 3, 3, 3, 1, 5, 1, 5, 5, 3, 4, 5, 5, 3, 3, 1, 3, 4, 2, 1, 5, 1, 4, 3, 4, 3, 5, 4, 5, 1, 2, 3, 4, 5, 2, 1, 2, 3, 3, 4, 2, 5, 5, 5, 3, 2, 5, 4, 1, 2, 2, 1, 2, 4, 2, 3, 2, 3, 1, 3, 5, 1, 2, 3, 5, 1, 2, 5, 1, 3, 4, 1, 2, 1, 2, 5, 1, 2, 3, 4, 2, 2, 3, 4, 3, 2, 3, 2, 3, 1, 5, 1, 1, 2, 2, 1, 1, 4, 2, 1, 2, 3, 4, 2, 4, 4, 5, 1, 2, 3, 2, 1, 3, 1, 2, 3, 5, 3, 1, 2, 3, 5, 2, 4, 5, 2, 4, 4, 4], \"Freq\": [0.31685538325679485, 0.5431114443897049, 0.14001713419145828, 0.9981507402521007, 0.9969854081754271, 0.5303460926290852, 0.46908863552000246, 0.9984677161752608, 0.9961323808257158, 0.9944631832088648, 0.6096811375522637, 0.39007307037348865, 0.9977887255627249, 0.36584707112555725, 0.33381270071854324, 0.3003222225657559, 0.9992869953982859, 0.6762771804946343, 0.32355881687015253, 0.7261430722883455, 0.22378978305438235, 0.050078832571610034, 0.9921969022910034, 0.7217930662903438, 0.11210828476424488, 0.16585883225395132, 0.9947897767482633, 0.9968768132240304, 0.9985124432721288, 0.51089794502715, 0.4877629437429017, 0.9959199430880475, 0.9909495536113079, 0.9909600645104443, 0.9982325343123184, 0.6602180162683174, 0.33701505432943396, 0.3159228897766471, 0.6497282072765007, 0.033529551981012075, 0.9990588351173431, 0.996353725120395, 0.9869656470363621, 0.9861422929599049, 0.9978877828682018, 0.12439350527621766, 0.8749475764372163, 0.995347405131719, 0.9967145736592543, 0.1146302571046651, 0.8854199169463787, 0.9988765574535358, 0.9909400118535974, 0.5525887251740367, 0.37055133433604304, 0.07609949375565428, 0.0006939163564345375, 0.9930165676693995, 0.9984962845776915, 0.9986295132104694, 0.9869600003432017, 0.2494767667726907, 0.7484303003180721, 0.9952775723555373, 0.9921303700516239, 0.9961439202627594, 0.9978449233507667, 0.9990542191696082, 0.9920026092511451, 0.5119225348248831, 0.48711571595671693, 0.9931860298043668, 0.9953470153424157, 0.9917436058287725, 0.9917327171720035, 0.9965354866362001, 0.004040975216206024, 0.9940799031866819, 0.9911134210794567, 0.9918702572449882, 0.99257500843958, 0.5897723054322275, 0.1735906169929832, 0.23605418628752944, 0.99702427369156, 0.9949815824303964, 0.9990887602806626, 0.9991032626216975, 0.9954244273521646, 0.9940205411288879, 0.9911437867797455, 0.9987296171307439, 0.9624948277383738, 0.03007796336682418, 0.8252432118520929, 0.17388067674475538, 0.997166468874717, 0.9779817960154724, 0.9975548612161687, 0.5655632043141541, 0.3237796783062443, 0.11037943578621966, 0.2810969684333942, 0.7165993138935824, 0.2331447608850154, 0.765549961114976, 0.9970478645251849, 0.9937567892387357, 0.9915970568817629, 0.9938054446300469, 0.996820216846962, 0.9917120594520599, 0.3238244865419283, 0.2594174063457437, 0.3560280266400206, 0.060828909074174375, 0.3659487378131708, 0.16858312640831463, 0.4605197599446644, 0.28196419707936365, 0.5015363165071234, 0.21627253839810764, 0.9996567186526663, 0.9944822691378642, 0.9953034179130265, 0.9964659851267387, 0.29959639540686966, 0.27227164273132454, 0.4015762759281005, 0.026836810663481807, 0.1344954671583243, 0.8650748447623419, 0.9960517869362657, 0.9981775233283666, 0.16530623537036224, 0.8344870919231121, 0.9913901523198975, 0.9971203518034505, 0.9981030647960232, 0.9895435490443408, 0.9986764273034028, 0.9947626864480119, 0.9942473988658023, 0.9921885739374718, 0.9985999367081644, 0.7519412005593966, 0.24648694956096406, 0.9981030647960232, 0.9916926453076169, 0.2196466307808518, 0.6871801734429507, 0.09256536582907327, 0.9944216600795669, 0.9945502233310816, 0.9496809257760064, 0.050481378114339205, 0.9979822742975734, 0.991018028979834, 0.9202756868030711, 0.07961672608474407, 0.9800986339713413, 0.019325888557181377, 0.2767156668642465, 0.5256605857994647, 0.18075781464519328, 0.01686081124262434, 0.9991433535433136, 0.8835346879296592, 0.11536599428380899, 0.12389825400340675, 0.3403072043293572, 0.5352404572947171, 0.9967556792046994, 0.9982042319776807, 0.9975656363694987, 0.9962756030248939, 0.998817472850709, 0.9946389471914489, 0.9980488204812236, 0.9950114818678919, 0.8455843230978837, 0.15276800765952256, 0.3452356371351215, 0.6490429978140284, 0.9980926451570789, 0.9917327171720035, 0.9968063412357415, 0.9974209406438774, 0.9889602167229787, 0.9975422587990557, 0.9970587936363332, 0.9950755269862109, 0.9970433687738208, 0.9935117944733479, 0.9951858808738322, 0.9978416691410166, 0.9900538380629745, 0.9933476002334131, 0.9910824606903409, 0.9937652760847334, 0.9939709752492767, 0.9958066980645338, 0.9989986373163827, 0.9993616506436971, 0.9900323277843048, 0.6192959423614821, 0.1444563079838725, 0.21288298018675947, 0.018661819691696446, 0.005529428056798947, 0.9960471845969523, 0.9921014236673129, 0.9959067581960663, 0.996335496228533, 0.9930996000064274, 0.9986804926295533, 0.6397770275266985, 0.36026279219950014, 0.9897873736034507, 0.9897285937465958, 0.9993804392543538, 0.7479105289664841, 0.25019071075747157, 0.992105764315958, 0.9970500065309573, 0.9978397185582472, 0.9966900224048898, 0.9975533848449223, 0.0012691518891156772, 0.9930084452934643, 0.998033834589182, 0.997202353228075, 0.4452054241631765, 0.5524838396241829, 0.6135071733516488, 0.01533767933379122, 0.3708929729807695, 0.37331508487086384, 0.3993746674165788, 0.22019576257562723, 0.007247339524547956, 0.9979648935166981, 0.9528939506953051, 0.04606866428297913, 0.8336142526520841, 0.1091954771844583, 0.05326608643144307, 0.9934608963587537, 0.9977386864600268, 0.7259032349679083, 0.272782008964976, 0.9951569058123572, 0.3873642115885759, 0.24484186236521643, 0.20348566623219536, 0.1642714244805658, 0.9984934787384157, 0.9952228260276461, 0.994837511038387, 0.9989302541420464, 0.9955711070511677, 0.13521591612333653, 0.8630803156808714, 0.9920402513844342, 0.9966390553102754, 0.5265496691765393, 0.47347006542890435, 0.9992613482586663, 0.40255414652464944, 0.5967511217325205, 0.9970480455992278, 0.9966069211281504, 0.9932861574828857, 0.9984964827286202, 0.9988264223465079, 0.6784945821826386, 0.17663288709713318, 0.14392309319025667, 0.9849253367836818, 0.22272741038500063, 0.7732423303932098, 0.9885464708216533, 0.996487477454413, 0.30308867737862416, 0.10274192453512683, 0.5941907968948169, 0.9966545271939619, 0.8420524801332023, 0.1564071561370527, 0.5976074333917183, 0.038496184359589215, 0.3363833252373629, 0.027497274542563725, 0.9957399743961366, 0.6297612328443204, 0.28090069378667526, 0.08759268946036111, 0.9931377625822536, 0.4297937503756583, 0.5025520636194215, 0.06756129086920869, 0.17292562504189263, 0.8258689333897286, 0.9862182873893807, 0.9910824606903409], \"Term\": [\"a\", \"a\", \"a\", \"action\", \"administered\", \"africa\", \"africa\", \"age\", \"also\", \"america\", \"amp\", \"amp\", \"an\", \"and\", \"and\", \"and\", \"another\", \"are\", \"are\", \"as\", \"as\", \"as\", \"astrazeneca\", \"at\", \"at\", \"at\", \"aundh\", \"australia\", \"be\", \"been\", \"been\", \"being\", \"benefit\", \"best\", \"blown\", \"but\", \"but\", \"by\", \"by\", \"by\", \"capacity\", \"cause\", \"ccp\", \"child\", \"china\", \"code\", \"code\", \"committed\", \"coronavirus\", \"could\", \"could\", \"covaxin\", \"coverage\", \"covid\", \"covid\", \"covid\", \"covid\", \"covidvaccination\", \"covishield\", \"crime\", \"deadly\", \"delta\", \"delta\", \"department\", \"desperate\", \"directly\", \"don\", \"dose\", \"down\", \"dr\", \"dr\", \"each\", \"education\", \"elsewhere\", \"enable\", \"everyone\", \"expired\", \"expired\", \"failure\", \"far\", \"first\", \"for\", \"for\", \"for\", \"free\", \"friday\", \"from\", \"full\", \"fully\", \"germany\", \"givenkazeni\", \"go\", \"good\", \"good\", \"government\", \"government\", \"graphic\", \"greater\", \"had\", \"have\", \"have\", \"have\", \"head\", \"head\", \"help\", \"help\", \"helping\", \"here\", \"hers\", \"his\", \"hospital\", \"huge\", \"i\", \"i\", \"i\", \"i\", \"if\", \"if\", \"if\", \"in\", \"in\", \"in\", \"india\", \"indiafightscorona\", \"indian\", \"into\", \"is\", \"is\", \"is\", \"is\", \"israel\", \"israel\", \"jab\", \"june\", \"just\", \"just\", \"latest\", \"lift\", \"limit\", \"little\", \"load\", \"m\", \"medical\", \"michael\", \"midst\", \"million\", \"million\", \"min\", \"moeti\", \"more\", \"more\", \"more\", \"must\", \"myocarditis\", \"need\", \"need\", \"new\", \"nft\", \"no\", \"no\", \"not\", \"not\", \"of\", \"of\", \"of\", \"of\", \"off\", \"on\", \"on\", \"one\", \"one\", \"one\", \"ontario\", \"our\", \"over\", \"overwhelm\", \"oxygen\", \"palestinian\", \"pandemic\", \"patent\", \"people\", \"people\", \"pfizer\", \"pfizer\", \"pin\", \"plead\", \"please\", \"pmcg\", \"pose\", \"production\", \"provide\", \"providing\", \"public\", \"question\", \"quickly\", \"re\", \"read\", \"register\", \"release\", \"request\", \"response\", \"rich\", \"risk\", \"rt\", \"rural\", \"s\", \"s\", \"s\", \"s\", \"s\", \"said\", \"see\", \"seen\", \"sending\", \"sent\", \"shawajason\", \"should\", \"should\", \"shunned\", \"sinovac\", \"so\", \"south\", \"south\", \"speaks\", \"stand\", \"support\", \"surging\", \"t\", \"t\", \"taiwan\", \"take\", \"technology\", \"than\", \"than\", \"that\", \"that\", \"that\", \"the\", \"the\", \"the\", \"the\", \"them\", \"there\", \"there\", \"these\", \"these\", \"these\", \"they\", \"third\", \"this\", \"this\", \"threat\", \"to\", \"to\", \"to\", \"to\", \"today\", \"trajectory\", \"transfer\", \"tried\", \"uk\", \"up\", \"up\", \"urgent\", \"urgently\", \"vaccinated\", \"vaccinated\", \"vaccination\", \"vaccine\", \"vaccine\", \"ve\", \"via\", \"virus\", \"war\", \"wave\", \"we\", \"we\", \"we\", \"well\", \"what\", \"what\", \"when\", \"where\", \"who\", \"who\", \"who\", \"why\", \"will\", \"will\", \"with\", \"with\", \"with\", \"with\", \"wolfofwallst\", \"world\", \"world\", \"world\", \"yeadon\", \"you\", \"you\", \"you\", \"your\", \"your\", \"zimbabwe\", \"zweli\"]}, \"R\": 30, \"lambda.step\": 0.01, \"plot.opts\": {\"xlab\": \"PC1\", \"ylab\": \"PC2\"}, \"topic.order\": [3, 2, 5, 1, 4]};\n",
       "\n",
       "function LDAvis_load_lib(url, callback){\n",
       "  var s = document.createElement('script');\n",
       "  s.src = url;\n",
       "  s.async = true;\n",
       "  s.onreadystatechange = s.onload = callback;\n",
       "  s.onerror = function(){console.warn(\"failed to load library \" + url);};\n",
       "  document.getElementsByTagName(\"head\")[0].appendChild(s);\n",
       "}\n",
       "\n",
       "if(typeof(LDAvis) !== \"undefined\"){\n",
       "   // already loaded: just create the visualization\n",
       "   !function(LDAvis){\n",
       "       new LDAvis(\"#\" + \"ldavis_el435850623259688676820837\", ldavis_el435850623259688676820837_data);\n",
       "   }(LDAvis);\n",
       "}else if(typeof define === \"function\" && define.amd){\n",
       "   // require.js is available: use it to load d3/LDAvis\n",
       "   require.config({paths: {d3: \"https://d3js.org/d3.v5\"}});\n",
       "   require([\"d3\"], function(d3){\n",
       "      window.d3 = d3;\n",
       "      LDAvis_load_lib(\"https://cdn.jsdelivr.net/gh/bmabey/pyLDAvis@3.3.1/pyLDAvis/js/ldavis.v3.0.0.js\", function(){\n",
       "        new LDAvis(\"#\" + \"ldavis_el435850623259688676820837\", ldavis_el435850623259688676820837_data);\n",
       "      });\n",
       "    });\n",
       "}else{\n",
       "    // require.js not available: dynamically load d3 & LDAvis\n",
       "    LDAvis_load_lib(\"https://d3js.org/d3.v5.js\", function(){\n",
       "         LDAvis_load_lib(\"https://cdn.jsdelivr.net/gh/bmabey/pyLDAvis@3.3.1/pyLDAvis/js/ldavis.v3.0.0.js\", function(){\n",
       "                 new LDAvis(\"#\" + \"ldavis_el435850623259688676820837\", ldavis_el435850623259688676820837_data);\n",
       "            })\n",
       "         });\n",
       "}\n",
       "</script>"
      ],
      "text/plain": [
       "<IPython.core.display.HTML object>"
      ]
     },
     "execution_count": 60,
     "metadata": {},
     "output_type": "execute_result"
    }
   ],
   "source": [
    "vis_data = gensimvis.prepare(lda_model, corpus, id2word)\n",
    "pyLDAvis.display(vis_data)\n"
   ]
  },
  {
   "cell_type": "markdown",
   "metadata": {},
   "source": [
    "##  Sentiment analysis"
   ]
  },
  {
   "cell_type": "markdown",
   "metadata": {},
   "source": [
    "### Form a new data frame (named `cleanTweet`), containing columns $\\textbf{clean-text}$ and $\\textbf{polarity}$"
   ]
  },
  {
   "cell_type": "code",
   "execution_count": 42,
   "metadata": {},
   "outputs": [],
   "source": [
    "cleanTweet = pd.DataFrame(columns=['original_text', 'clean_text'])\n",
    "\n",
    "cleanTweet['original_text'] = tweets['original_text'].to_list()"
   ]
  },
  {
   "cell_type": "code",
   "execution_count": 43,
   "metadata": {},
   "outputs": [],
   "source": [
    "def clean_tweet(tweet):\n",
    "    clean_tweet = re.sub(\"[^a-zA-Z]\",  \" \",  tweet)\n",
    "    return clean_tweet"
   ]
  },
  {
   "cell_type": "code",
   "execution_count": 44,
   "metadata": {},
   "outputs": [
    {
     "data": {
      "text/html": [
       "<div>\n",
       "<style scoped>\n",
       "    .dataframe tbody tr th:only-of-type {\n",
       "        vertical-align: middle;\n",
       "    }\n",
       "\n",
       "    .dataframe tbody tr th {\n",
       "        vertical-align: top;\n",
       "    }\n",
       "\n",
       "    .dataframe thead th {\n",
       "        text-align: right;\n",
       "    }\n",
       "</style>\n",
       "<table border=\"1\" class=\"dataframe\">\n",
       "  <thead>\n",
       "    <tr style=\"text-align: right;\">\n",
       "      <th></th>\n",
       "      <th>original_text</th>\n",
       "      <th>clean_text</th>\n",
       "      <th>clean-text</th>\n",
       "    </tr>\n",
       "  </thead>\n",
       "  <tbody>\n",
       "    <tr>\n",
       "      <th>0</th>\n",
       "      <td>africa is  in the midst of a full blown third...</td>\n",
       "      <td>NaN</td>\n",
       "      <td>africa is  in the midst of a full blown third...</td>\n",
       "    </tr>\n",
       "    <tr>\n",
       "      <th>1</th>\n",
       "      <td>dr moeti is head of who in africa  and one of ...</td>\n",
       "      <td>NaN</td>\n",
       "      <td>dr moeti is head of who in africa  and one of ...</td>\n",
       "    </tr>\n",
       "    <tr>\n",
       "      <th>2</th>\n",
       "      <td>thank you  research note for creating this ama...</td>\n",
       "      <td>NaN</td>\n",
       "      <td>thank you  research note for creating this ama...</td>\n",
       "    </tr>\n",
       "    <tr>\n",
       "      <th>3</th>\n",
       "      <td>former pfizer vp and virologist  dr  michael y...</td>\n",
       "      <td>NaN</td>\n",
       "      <td>former pfizer vp and virologist  dr  michael y...</td>\n",
       "    </tr>\n",
       "    <tr>\n",
       "      <th>4</th>\n",
       "      <td>i think it s important that we don t sell cova...</td>\n",
       "      <td>NaN</td>\n",
       "      <td>i think it s important that we don t sell cova...</td>\n",
       "    </tr>\n",
       "    <tr>\n",
       "      <th>...</th>\n",
       "      <td>...</td>\n",
       "      <td>...</td>\n",
       "      <td>...</td>\n",
       "    </tr>\n",
       "    <tr>\n",
       "      <th>6527</th>\n",
       "      <td>rt  givenkazeni  zweli please just release the...</td>\n",
       "      <td>NaN</td>\n",
       "      <td>rt  givenkazeni  zweli please just release the...</td>\n",
       "    </tr>\n",
       "    <tr>\n",
       "      <th>6528</th>\n",
       "      <td>former pfizer vp and virologist  dr  michael y...</td>\n",
       "      <td>NaN</td>\n",
       "      <td>former pfizer vp and virologist  dr  michael y...</td>\n",
       "    </tr>\n",
       "    <tr>\n",
       "      <th>6529</th>\n",
       "      <td>jenfeds    dcrinyyc respectfully  veterinaria...</td>\n",
       "      <td>NaN</td>\n",
       "      <td>jenfeds    dcrinyyc respectfully  veterinaria...</td>\n",
       "    </tr>\n",
       "    <tr>\n",
       "      <th>6530</th>\n",
       "      <td>africa needs millions more doses here  amp  n...</td>\n",
       "      <td>NaN</td>\n",
       "      <td>africa needs millions more doses here  amp  n...</td>\n",
       "    </tr>\n",
       "    <tr>\n",
       "      <th>6531</th>\n",
       "      <td>rt  shawajason  liars  you tried to load off y...</td>\n",
       "      <td>NaN</td>\n",
       "      <td>rt  shawajason  liars  you tried to load off y...</td>\n",
       "    </tr>\n",
       "  </tbody>\n",
       "</table>\n",
       "<p>6532 rows × 3 columns</p>\n",
       "</div>"
      ],
      "text/plain": [
       "                                          original_text clean_text  \\\n",
       "0      africa is  in the midst of a full blown third...        NaN   \n",
       "1     dr moeti is head of who in africa  and one of ...        NaN   \n",
       "2     thank you  research note for creating this ama...        NaN   \n",
       "3     former pfizer vp and virologist  dr  michael y...        NaN   \n",
       "4     i think it s important that we don t sell cova...        NaN   \n",
       "...                                                 ...        ...   \n",
       "6527  rt  givenkazeni  zweli please just release the...        NaN   \n",
       "6528  former pfizer vp and virologist  dr  michael y...        NaN   \n",
       "6529   jenfeds    dcrinyyc respectfully  veterinaria...        NaN   \n",
       "6530   africa needs millions more doses here  amp  n...        NaN   \n",
       "6531  rt  shawajason  liars  you tried to load off y...        NaN   \n",
       "\n",
       "                                             clean-text  \n",
       "0      africa is  in the midst of a full blown third...  \n",
       "1     dr moeti is head of who in africa  and one of ...  \n",
       "2     thank you  research note for creating this ama...  \n",
       "3     former pfizer vp and virologist  dr  michael y...  \n",
       "4     i think it s important that we don t sell cova...  \n",
       "...                                                 ...  \n",
       "6527  rt  givenkazeni  zweli please just release the...  \n",
       "6528  former pfizer vp and virologist  dr  michael y...  \n",
       "6529   jenfeds    dcrinyyc respectfully  veterinaria...  \n",
       "6530   africa needs millions more doses here  amp  n...  \n",
       "6531  rt  shawajason  liars  you tried to load off y...  \n",
       "\n",
       "[6532 rows x 3 columns]"
      ]
     },
     "execution_count": 44,
     "metadata": {},
     "output_type": "execute_result"
    }
   ],
   "source": [
    "cleanTweet[\"clean-text\"] = cleanTweet.original_text.apply(clean_tweet)\n",
    "tweets.drop(['original_text'], axis=1, inplace=True)\n",
    "cleanTweet\n"
   ]
  },
  {
   "cell_type": "code",
   "execution_count": 45,
   "metadata": {},
   "outputs": [
    {
     "name": "stdout",
     "output_type": "stream",
     "text": [
      "duplicate count: 6532\n"
     ]
    }
   ],
   "source": [
    "print(\"duplicate count: {}\".format(cleanTweet.isnull().sum().sum()))"
   ]
  },
  {
   "cell_type": "markdown",
   "metadata": {},
   "source": [
    "### Write a function `text_category` that takes a value `p` and returns, depending on the value of p, a string `'positive'`, `'negative'` or `'neutral'`."
   ]
  },
  {
   "cell_type": "code",
   "execution_count": 46,
   "metadata": {},
   "outputs": [],
   "source": [
    "def text_category(p):\n",
    "  if p > 0:\n",
    "    return \"positive\"\n",
    "  elif p < 0:\n",
    "    return \"negative\"\n",
    "  else:\n",
    "    return \"neutral\""
   ]
  },
  {
   "cell_type": "markdown",
   "metadata": {},
   "source": [
    "### Apply this function (`text_category`) on the $\\textbf{polarity}$ column of `cleanTweet` in 1 above to form a new column called $\\textbf{score}$ in `cleanTweet`."
   ]
  },
  {
   "cell_type": "code",
   "execution_count": 47,
   "metadata": {},
   "outputs": [
    {
     "data": {
      "text/html": [
       "<div>\n",
       "<style scoped>\n",
       "    .dataframe tbody tr th:only-of-type {\n",
       "        vertical-align: middle;\n",
       "    }\n",
       "\n",
       "    .dataframe tbody tr th {\n",
       "        vertical-align: top;\n",
       "    }\n",
       "\n",
       "    .dataframe thead th {\n",
       "        text-align: right;\n",
       "    }\n",
       "</style>\n",
       "<table border=\"1\" class=\"dataframe\">\n",
       "  <thead>\n",
       "    <tr style=\"text-align: right;\">\n",
       "      <th></th>\n",
       "      <th>original_text</th>\n",
       "      <th>clean_text</th>\n",
       "      <th>clean-text</th>\n",
       "      <th>score</th>\n",
       "    </tr>\n",
       "  </thead>\n",
       "  <tbody>\n",
       "    <tr>\n",
       "      <th>0</th>\n",
       "      <td>africa is  in the midst of a full blown third...</td>\n",
       "      <td>NaN</td>\n",
       "      <td>africa is  in the midst of a full blown third...</td>\n",
       "      <td>positive</td>\n",
       "    </tr>\n",
       "    <tr>\n",
       "      <th>1</th>\n",
       "      <td>dr moeti is head of who in africa  and one of ...</td>\n",
       "      <td>NaN</td>\n",
       "      <td>dr moeti is head of who in africa  and one of ...</td>\n",
       "      <td>positive</td>\n",
       "    </tr>\n",
       "    <tr>\n",
       "      <th>2</th>\n",
       "      <td>thank you  research note for creating this ama...</td>\n",
       "      <td>NaN</td>\n",
       "      <td>thank you  research note for creating this ama...</td>\n",
       "      <td>positive</td>\n",
       "    </tr>\n",
       "    <tr>\n",
       "      <th>3</th>\n",
       "      <td>former pfizer vp and virologist  dr  michael y...</td>\n",
       "      <td>NaN</td>\n",
       "      <td>former pfizer vp and virologist  dr  michael y...</td>\n",
       "      <td>positive</td>\n",
       "    </tr>\n",
       "    <tr>\n",
       "      <th>4</th>\n",
       "      <td>i think it s important that we don t sell cova...</td>\n",
       "      <td>NaN</td>\n",
       "      <td>i think it s important that we don t sell cova...</td>\n",
       "      <td>positive</td>\n",
       "    </tr>\n",
       "    <tr>\n",
       "      <th>...</th>\n",
       "      <td>...</td>\n",
       "      <td>...</td>\n",
       "      <td>...</td>\n",
       "      <td>...</td>\n",
       "    </tr>\n",
       "    <tr>\n",
       "      <th>6527</th>\n",
       "      <td>rt  givenkazeni  zweli please just release the...</td>\n",
       "      <td>NaN</td>\n",
       "      <td>rt  givenkazeni  zweli please just release the...</td>\n",
       "      <td>neutral</td>\n",
       "    </tr>\n",
       "    <tr>\n",
       "      <th>6528</th>\n",
       "      <td>former pfizer vp and virologist  dr  michael y...</td>\n",
       "      <td>NaN</td>\n",
       "      <td>former pfizer vp and virologist  dr  michael y...</td>\n",
       "      <td>positive</td>\n",
       "    </tr>\n",
       "    <tr>\n",
       "      <th>6529</th>\n",
       "      <td>jenfeds    dcrinyyc respectfully  veterinaria...</td>\n",
       "      <td>NaN</td>\n",
       "      <td>jenfeds    dcrinyyc respectfully  veterinaria...</td>\n",
       "      <td>positive</td>\n",
       "    </tr>\n",
       "    <tr>\n",
       "      <th>6530</th>\n",
       "      <td>africa needs millions more doses here  amp  n...</td>\n",
       "      <td>NaN</td>\n",
       "      <td>africa needs millions more doses here  amp  n...</td>\n",
       "      <td>positive</td>\n",
       "    </tr>\n",
       "    <tr>\n",
       "      <th>6531</th>\n",
       "      <td>rt  shawajason  liars  you tried to load off y...</td>\n",
       "      <td>NaN</td>\n",
       "      <td>rt  shawajason  liars  you tried to load off y...</td>\n",
       "      <td>neutral</td>\n",
       "    </tr>\n",
       "  </tbody>\n",
       "</table>\n",
       "<p>6532 rows × 4 columns</p>\n",
       "</div>"
      ],
      "text/plain": [
       "                                          original_text clean_text  \\\n",
       "0      africa is  in the midst of a full blown third...        NaN   \n",
       "1     dr moeti is head of who in africa  and one of ...        NaN   \n",
       "2     thank you  research note for creating this ama...        NaN   \n",
       "3     former pfizer vp and virologist  dr  michael y...        NaN   \n",
       "4     i think it s important that we don t sell cova...        NaN   \n",
       "...                                                 ...        ...   \n",
       "6527  rt  givenkazeni  zweli please just release the...        NaN   \n",
       "6528  former pfizer vp and virologist  dr  michael y...        NaN   \n",
       "6529   jenfeds    dcrinyyc respectfully  veterinaria...        NaN   \n",
       "6530   africa needs millions more doses here  amp  n...        NaN   \n",
       "6531  rt  shawajason  liars  you tried to load off y...        NaN   \n",
       "\n",
       "                                             clean-text     score  \n",
       "0      africa is  in the midst of a full blown third...  positive  \n",
       "1     dr moeti is head of who in africa  and one of ...  positive  \n",
       "2     thank you  research note for creating this ama...  positive  \n",
       "3     former pfizer vp and virologist  dr  michael y...  positive  \n",
       "4     i think it s important that we don t sell cova...  positive  \n",
       "...                                                 ...       ...  \n",
       "6527  rt  givenkazeni  zweli please just release the...   neutral  \n",
       "6528  former pfizer vp and virologist  dr  michael y...  positive  \n",
       "6529   jenfeds    dcrinyyc respectfully  veterinaria...  positive  \n",
       "6530   africa needs millions more doses here  amp  n...  positive  \n",
       "6531  rt  shawajason  liars  you tried to load off y...   neutral  \n",
       "\n",
       "[6532 rows x 4 columns]"
      ]
     },
     "execution_count": 47,
     "metadata": {},
     "output_type": "execute_result"
    }
   ],
   "source": [
    "cleanTweet[\"score\"] = tweets[\"polarity\"].apply(text_category)\n",
    "cleanTweet"
   ]
  },
  {
   "cell_type": "markdown",
   "metadata": {},
   "source": [
    "### Visualize The $\\textbf{score}$ column using piechart and barchart"
   ]
  },
  {
   "cell_type": "code",
   "execution_count": 48,
   "metadata": {
    "id": "85WxmGNGDcBY"
   },
   "outputs": [
    {
     "data": {
      "text/plain": [
       "score\n",
       "negative    1277\n",
       "neutral     1829\n",
       "positive    3426\n",
       "dtype: int64"
      ]
     },
     "execution_count": 48,
     "metadata": {},
     "output_type": "execute_result"
    }
   ],
   "source": [
    "category = cleanTweet.groupby(['score']).size()\n",
    "category"
   ]
  },
  {
   "cell_type": "code",
   "execution_count": 49,
   "metadata": {},
   "outputs": [
    {
     "data": {
      "text/plain": [
       "<AxesSubplot:ylabel='None'>"
      ]
     },
     "execution_count": 49,
     "metadata": {},
     "output_type": "execute_result"
    },
    {
     "data": {
      "image/png": "[encoded data removed]",
      "text/plain": [
       "<Figure size 432x288 with 1 Axes>"
      ]
     },
     "metadata": {},
     "output_type": "display_data"
    }
   ],
   "source": [
    "category.plot(kind='pie', y='score')"
   ]
  },
  {
   "cell_type": "code",
   "execution_count": 50,
   "metadata": {},
   "outputs": [
    {
     "data": {
      "text/plain": [
       "<AxesSubplot:xlabel='score'>"
      ]
     },
     "execution_count": 50,
     "metadata": {},
     "output_type": "execute_result"
    },
    {
     "data": {
      "image/png": "[encoded data removed]",
      "text/plain": [
       "<Figure size 432x288 with 1 Axes>"
      ]
     },
     "metadata": {
      "needs_background": "light"
     },
     "output_type": "display_data"
    }
   ],
   "source": [
    "category.plot(kind='bar', y='score')"
   ]
  },
  {
   "cell_type": "markdown",
   "metadata": {},
   "source": [
    "## build a classification model on the clean tweet."
   ]
  },
  {
   "cell_type": "markdown",
   "metadata": {},
   "source": [
    "### Remove rows from `cleanTweet` where $\\textbf{polarity}$ $= 0$ (i.e where $\\textbf{score}$ = Neutral) and reset the frame index."
   ]
  },
  {
   "cell_type": "code",
   "execution_count": 51,
   "metadata": {},
   "outputs": [
    {
     "data": {
      "text/html": [
       "<div>\n",
       "<style scoped>\n",
       "    .dataframe tbody tr th:only-of-type {\n",
       "        vertical-align: middle;\n",
       "    }\n",
       "\n",
       "    .dataframe tbody tr th {\n",
       "        vertical-align: top;\n",
       "    }\n",
       "\n",
       "    .dataframe thead th {\n",
       "        text-align: right;\n",
       "    }\n",
       "</style>\n",
       "<table border=\"1\" class=\"dataframe\">\n",
       "  <thead>\n",
       "    <tr style=\"text-align: right;\">\n",
       "      <th></th>\n",
       "      <th>original_text</th>\n",
       "      <th>clean_text</th>\n",
       "      <th>clean-text</th>\n",
       "      <th>score</th>\n",
       "    </tr>\n",
       "  </thead>\n",
       "  <tbody>\n",
       "    <tr>\n",
       "      <th>0</th>\n",
       "      <td>africa is  in the midst of a full blown third...</td>\n",
       "      <td>NaN</td>\n",
       "      <td>africa is  in the midst of a full blown third...</td>\n",
       "      <td>positive</td>\n",
       "    </tr>\n",
       "    <tr>\n",
       "      <th>1</th>\n",
       "      <td>dr moeti is head of who in africa  and one of ...</td>\n",
       "      <td>NaN</td>\n",
       "      <td>dr moeti is head of who in africa  and one of ...</td>\n",
       "      <td>positive</td>\n",
       "    </tr>\n",
       "    <tr>\n",
       "      <th>2</th>\n",
       "      <td>thank you  research note for creating this ama...</td>\n",
       "      <td>NaN</td>\n",
       "      <td>thank you  research note for creating this ama...</td>\n",
       "      <td>positive</td>\n",
       "    </tr>\n",
       "    <tr>\n",
       "      <th>3</th>\n",
       "      <td>former pfizer vp and virologist  dr  michael y...</td>\n",
       "      <td>NaN</td>\n",
       "      <td>former pfizer vp and virologist  dr  michael y...</td>\n",
       "      <td>positive</td>\n",
       "    </tr>\n",
       "    <tr>\n",
       "      <th>4</th>\n",
       "      <td>i think it s important that we don t sell cova...</td>\n",
       "      <td>NaN</td>\n",
       "      <td>i think it s important that we don t sell cova...</td>\n",
       "      <td>positive</td>\n",
       "    </tr>\n",
       "    <tr>\n",
       "      <th>...</th>\n",
       "      <td>...</td>\n",
       "      <td>...</td>\n",
       "      <td>...</td>\n",
       "      <td>...</td>\n",
       "    </tr>\n",
       "    <tr>\n",
       "      <th>6524</th>\n",
       "      <td>covid   vaccines reach the remotest places of ...</td>\n",
       "      <td>NaN</td>\n",
       "      <td>covid   vaccines reach the remotest places of ...</td>\n",
       "      <td>negative</td>\n",
       "    </tr>\n",
       "    <tr>\n",
       "      <th>6526</th>\n",
       "      <td>although there is not yet a vaccine for kids t...</td>\n",
       "      <td>NaN</td>\n",
       "      <td>although there is not yet a vaccine for kids t...</td>\n",
       "      <td>positive</td>\n",
       "    </tr>\n",
       "    <tr>\n",
       "      <th>6528</th>\n",
       "      <td>former pfizer vp and virologist  dr  michael y...</td>\n",
       "      <td>NaN</td>\n",
       "      <td>former pfizer vp and virologist  dr  michael y...</td>\n",
       "      <td>positive</td>\n",
       "    </tr>\n",
       "    <tr>\n",
       "      <th>6529</th>\n",
       "      <td>jenfeds    dcrinyyc respectfully  veterinaria...</td>\n",
       "      <td>NaN</td>\n",
       "      <td>jenfeds    dcrinyyc respectfully  veterinaria...</td>\n",
       "      <td>positive</td>\n",
       "    </tr>\n",
       "    <tr>\n",
       "      <th>6530</th>\n",
       "      <td>africa needs millions more doses here  amp  n...</td>\n",
       "      <td>NaN</td>\n",
       "      <td>africa needs millions more doses here  amp  n...</td>\n",
       "      <td>positive</td>\n",
       "    </tr>\n",
       "  </tbody>\n",
       "</table>\n",
       "<p>4703 rows × 4 columns</p>\n",
       "</div>"
      ],
      "text/plain": [
       "                                          original_text clean_text  \\\n",
       "0      africa is  in the midst of a full blown third...        NaN   \n",
       "1     dr moeti is head of who in africa  and one of ...        NaN   \n",
       "2     thank you  research note for creating this ama...        NaN   \n",
       "3     former pfizer vp and virologist  dr  michael y...        NaN   \n",
       "4     i think it s important that we don t sell cova...        NaN   \n",
       "...                                                 ...        ...   \n",
       "6524  covid   vaccines reach the remotest places of ...        NaN   \n",
       "6526  although there is not yet a vaccine for kids t...        NaN   \n",
       "6528  former pfizer vp and virologist  dr  michael y...        NaN   \n",
       "6529   jenfeds    dcrinyyc respectfully  veterinaria...        NaN   \n",
       "6530   africa needs millions more doses here  amp  n...        NaN   \n",
       "\n",
       "                                             clean-text     score  \n",
       "0      africa is  in the midst of a full blown third...  positive  \n",
       "1     dr moeti is head of who in africa  and one of ...  positive  \n",
       "2     thank you  research note for creating this ama...  positive  \n",
       "3     former pfizer vp and virologist  dr  michael y...  positive  \n",
       "4     i think it s important that we don t sell cova...  positive  \n",
       "...                                                 ...       ...  \n",
       "6524  covid   vaccines reach the remotest places of ...  negative  \n",
       "6526  although there is not yet a vaccine for kids t...  positive  \n",
       "6528  former pfizer vp and virologist  dr  michael y...  positive  \n",
       "6529   jenfeds    dcrinyyc respectfully  veterinaria...  positive  \n",
       "6530   africa needs millions more doses here  amp  n...  positive  \n",
       "\n",
       "[4703 rows x 4 columns]"
      ]
     },
     "execution_count": 51,
     "metadata": {},
     "output_type": "execute_result"
    }
   ],
   "source": [
    "cleanTweet = cleanTweet[cleanTweet['score'] != 'neutral']\n",
    "cleanTweet"
   ]
  },
  {
   "cell_type": "markdown",
   "metadata": {},
   "source": [
    "### Construct a column $\\textbf{scoremap}$ Use the mapping {'positive':1, 'negative':0} on the $\\textbf{score}$ column"
   ]
  },
  {
   "cell_type": "code",
   "execution_count": 52,
   "metadata": {},
   "outputs": [
    {
     "data": {
      "text/html": [
       "<div>\n",
       "<style scoped>\n",
       "    .dataframe tbody tr th:only-of-type {\n",
       "        vertical-align: middle;\n",
       "    }\n",
       "\n",
       "    .dataframe tbody tr th {\n",
       "        vertical-align: top;\n",
       "    }\n",
       "\n",
       "    .dataframe thead th {\n",
       "        text-align: right;\n",
       "    }\n",
       "</style>\n",
       "<table border=\"1\" class=\"dataframe\">\n",
       "  <thead>\n",
       "    <tr style=\"text-align: right;\">\n",
       "      <th></th>\n",
       "      <th>original_text</th>\n",
       "      <th>clean_text</th>\n",
       "      <th>clean-text</th>\n",
       "      <th>score</th>\n",
       "      <th>scoremap</th>\n",
       "    </tr>\n",
       "  </thead>\n",
       "  <tbody>\n",
       "    <tr>\n",
       "      <th>0</th>\n",
       "      <td>africa is  in the midst of a full blown third...</td>\n",
       "      <td>NaN</td>\n",
       "      <td>africa is  in the midst of a full blown third...</td>\n",
       "      <td>positive</td>\n",
       "      <td>1</td>\n",
       "    </tr>\n",
       "    <tr>\n",
       "      <th>1</th>\n",
       "      <td>dr moeti is head of who in africa  and one of ...</td>\n",
       "      <td>NaN</td>\n",
       "      <td>dr moeti is head of who in africa  and one of ...</td>\n",
       "      <td>positive</td>\n",
       "      <td>1</td>\n",
       "    </tr>\n",
       "    <tr>\n",
       "      <th>2</th>\n",
       "      <td>thank you  research note for creating this ama...</td>\n",
       "      <td>NaN</td>\n",
       "      <td>thank you  research note for creating this ama...</td>\n",
       "      <td>positive</td>\n",
       "      <td>1</td>\n",
       "    </tr>\n",
       "    <tr>\n",
       "      <th>3</th>\n",
       "      <td>former pfizer vp and virologist  dr  michael y...</td>\n",
       "      <td>NaN</td>\n",
       "      <td>former pfizer vp and virologist  dr  michael y...</td>\n",
       "      <td>positive</td>\n",
       "      <td>1</td>\n",
       "    </tr>\n",
       "    <tr>\n",
       "      <th>4</th>\n",
       "      <td>i think it s important that we don t sell cova...</td>\n",
       "      <td>NaN</td>\n",
       "      <td>i think it s important that we don t sell cova...</td>\n",
       "      <td>positive</td>\n",
       "      <td>1</td>\n",
       "    </tr>\n",
       "    <tr>\n",
       "      <th>...</th>\n",
       "      <td>...</td>\n",
       "      <td>...</td>\n",
       "      <td>...</td>\n",
       "      <td>...</td>\n",
       "      <td>...</td>\n",
       "    </tr>\n",
       "    <tr>\n",
       "      <th>6524</th>\n",
       "      <td>covid   vaccines reach the remotest places of ...</td>\n",
       "      <td>NaN</td>\n",
       "      <td>covid   vaccines reach the remotest places of ...</td>\n",
       "      <td>negative</td>\n",
       "      <td>0</td>\n",
       "    </tr>\n",
       "    <tr>\n",
       "      <th>6526</th>\n",
       "      <td>although there is not yet a vaccine for kids t...</td>\n",
       "      <td>NaN</td>\n",
       "      <td>although there is not yet a vaccine for kids t...</td>\n",
       "      <td>positive</td>\n",
       "      <td>1</td>\n",
       "    </tr>\n",
       "    <tr>\n",
       "      <th>6528</th>\n",
       "      <td>former pfizer vp and virologist  dr  michael y...</td>\n",
       "      <td>NaN</td>\n",
       "      <td>former pfizer vp and virologist  dr  michael y...</td>\n",
       "      <td>positive</td>\n",
       "      <td>1</td>\n",
       "    </tr>\n",
       "    <tr>\n",
       "      <th>6529</th>\n",
       "      <td>jenfeds    dcrinyyc respectfully  veterinaria...</td>\n",
       "      <td>NaN</td>\n",
       "      <td>jenfeds    dcrinyyc respectfully  veterinaria...</td>\n",
       "      <td>positive</td>\n",
       "      <td>1</td>\n",
       "    </tr>\n",
       "    <tr>\n",
       "      <th>6530</th>\n",
       "      <td>africa needs millions more doses here  amp  n...</td>\n",
       "      <td>NaN</td>\n",
       "      <td>africa needs millions more doses here  amp  n...</td>\n",
       "      <td>positive</td>\n",
       "      <td>1</td>\n",
       "    </tr>\n",
       "  </tbody>\n",
       "</table>\n",
       "<p>4703 rows × 5 columns</p>\n",
       "</div>"
      ],
      "text/plain": [
       "                                          original_text clean_text  \\\n",
       "0      africa is  in the midst of a full blown third...        NaN   \n",
       "1     dr moeti is head of who in africa  and one of ...        NaN   \n",
       "2     thank you  research note for creating this ama...        NaN   \n",
       "3     former pfizer vp and virologist  dr  michael y...        NaN   \n",
       "4     i think it s important that we don t sell cova...        NaN   \n",
       "...                                                 ...        ...   \n",
       "6524  covid   vaccines reach the remotest places of ...        NaN   \n",
       "6526  although there is not yet a vaccine for kids t...        NaN   \n",
       "6528  former pfizer vp and virologist  dr  michael y...        NaN   \n",
       "6529   jenfeds    dcrinyyc respectfully  veterinaria...        NaN   \n",
       "6530   africa needs millions more doses here  amp  n...        NaN   \n",
       "\n",
       "                                             clean-text     score  scoremap  \n",
       "0      africa is  in the midst of a full blown third...  positive         1  \n",
       "1     dr moeti is head of who in africa  and one of ...  positive         1  \n",
       "2     thank you  research note for creating this ama...  positive         1  \n",
       "3     former pfizer vp and virologist  dr  michael y...  positive         1  \n",
       "4     i think it s important that we don t sell cova...  positive         1  \n",
       "...                                                 ...       ...       ...  \n",
       "6524  covid   vaccines reach the remotest places of ...  negative         0  \n",
       "6526  although there is not yet a vaccine for kids t...  positive         1  \n",
       "6528  former pfizer vp and virologist  dr  michael y...  positive         1  \n",
       "6529   jenfeds    dcrinyyc respectfully  veterinaria...  positive         1  \n",
       "6530   africa needs millions more doses here  amp  n...  positive         1  \n",
       "\n",
       "[4703 rows x 5 columns]"
      ]
     },
     "execution_count": 52,
     "metadata": {},
     "output_type": "execute_result"
    }
   ],
   "source": [
    "cleanTweet['scoremap'] = cleanTweet[\"score\"].map( lambda score: 1 if score == \"positive\" else 0)\n",
    "cleanTweet"
   ]
  },
  {
   "cell_type": "markdown",
   "metadata": {},
   "source": [
    "### Create feature and target variables `(X,y)` from $\\textbf{clean-text}$ and $\\textbf{scoremap}$ columns respectively."
   ]
  },
  {
   "cell_type": "code",
   "execution_count": 53,
   "metadata": {},
   "outputs": [],
   "source": [
    "(X, y) = cleanTweet['clean-text'], cleanTweet['scoremap']"
   ]
  },
  {
   "cell_type": "markdown",
   "metadata": {},
   "source": [
    "### Use `train_test_split` function to construct `(X_train, y_train)` and `(X_test, y_test)` from `(X,y)`"
   ]
  },
  {
   "cell_type": "code",
   "execution_count": 54,
   "metadata": {},
   "outputs": [],
   "source": [
    "from sklearn.model_selection import train_test_split"
   ]
  },
  {
   "cell_type": "code",
   "execution_count": 55,
   "metadata": {},
   "outputs": [],
   "source": [
    "X_train, X_test, y_train, y_test = train_test_split(X, y, test_size=0.2)\n"
   ]
  },
  {
   "cell_type": "markdown",
   "metadata": {},
   "source": [
    "## Build an `SGDClassifier` model from the vectorize train text data. Use `CountVectorizer()` with a $\\textit{trigram}$ parameter and Evaluate your model on the test data."
   ]
  },
  {
   "cell_type": "code",
   "execution_count": 56,
   "metadata": {},
   "outputs": [],
   "source": [
    "from sklearn.feature_extraction.text import CountVectorizer, TfidfTransformer\n",
    "from joblib import dump, load # used for saving and loading sklearn objects\n",
    "from scipy.sparse import save_npz, load_npz # used for saving and loading sparse matrices\n",
    "from sklearn.decomposition import NMF, LatentDirichletAllocation\n",
    "from sklearn.linear_model import SGDClassifier\n",
    "from sklearn.model_selection import train_test_split"
   ]
  },
  {
   "cell_type": "code",
   "execution_count": 57,
   "metadata": {},
   "outputs": [
    {
     "data": {
      "text/plain": [
       "<4703x21713 sparse matrix of type '<class 'numpy.int64'>'\n",
       "\twith 133587 stored elements in Compressed Sparse Row format>"
      ]
     },
     "execution_count": 57,
     "metadata": {},
     "output_type": "execute_result"
    }
   ],
   "source": [
    "trigram_vectorizer = CountVectorizer(ngram_range=(3, 3))\n",
    "trigram_vectorizer.fit_transform(X)"
   ]
  },
  {
   "cell_type": "code",
   "execution_count": 58,
   "metadata": {},
   "outputs": [],
   "source": [
    "trigram_vectorizer = CountVectorizer(ngram_range=(1, 3))\n",
    "trigram_vectorizer.fit_transform(X.values)\n",
    "\n",
    "X_trigram = trigram_vectorizer.transform(X)\n",
    "\n",
    "\n",
    "def train_and_show_scores(X, y, title: str) -> None:\n",
    "    X_train, X_valid, y_train, y_valid = train_test_split(\n",
    "        X, y, train_size=0.75, stratify=y\n",
    "    )\n",
    "\n",
    "    clf = SGDClassifier()\n",
    "    clf.fit(X_train, y_train)\n",
    "    train_score = clf.score(X_train, y_train)\n",
    "    valid_score = clf.score(X_valid, y_valid)\n",
    "    print(f'{title}\\nTrain score: {round(train_score, 2)} ; Validation score: {round(valid_score, 2)}\\n')"
   ]
  },
  {
   "cell_type": "code",
   "execution_count": 59,
   "metadata": {},
   "outputs": [
    {
     "name": "stdout",
     "output_type": "stream",
     "text": [
      "sentiment\n",
      "Train score: 1.0 ; Validation score: 0.96\n",
      "\n"
     ]
    }
   ],
   "source": [
    "train_and_show_scores(X_trigram, cleanTweet['scoremap'], title=\"sentiment\")"
   ]
  }
 ],
 "metadata": {
  "interpreter": {
   "hash": "aee8b7b246df8f9039afb4144a1f6fd8d2ca17a180786b69acc140d282b71a49"
  },
  "kernelspec": {
   "display_name": "Python 3.9.5 64-bit",
   "name": "python3"
  },
  "language_info": {
   "codemirror_mode": {
    "name": "ipython",
    "version": 3
   },
   "file_extension": ".py",
   "mimetype": "text/x-python",
   "name": "python",
   "nbconvert_exporter": "python",
   "pygments_lexer": "ipython3",
   "version": "3.9.5"
  },
  "orig_nbformat": 4
 },
 "nbformat": 4,
 "nbformat_minor": 2
}