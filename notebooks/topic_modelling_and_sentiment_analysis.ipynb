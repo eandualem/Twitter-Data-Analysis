{
 "cells": [
  {
   "cell_type": "markdown",
   "metadata": {},
   "source": [
    "# Topic modelling and sentiment analysis"
   ]
  },
  {
   "cell_type": "markdown",
   "metadata": {},
   "source": [
    "## Imports "
   ]
  },
  {
   "cell_type": "code",
   "execution_count": 46,
   "metadata": {},
   "outputs": [],
   "source": [
    "import re\n",
    "import warnings\n",
    "import gensim\n",
    "import string\n",
    "import pandas as pd\n",
    "import numpy as np\n",
    "import matplotlib.pyplot as plt\n",
    "import seaborn as sns\n",
    "import matplotlib.pyplot as plt\n",
    "from pprint import pprint\n",
    "from gensim import corpora\n",
    "from wordcloud import WordCloud, STOPWORDS\n",
    "from gensim.models import CoherenceModel\n",
    "from nltk.stem import WordNetLemmatizer\n",
    "\n",
    "warnings.filterwarnings('ignore')"
   ]
  },
  {
   "cell_type": "markdown",
   "metadata": {},
   "source": [
    "## Data reading "
   ]
  },
  {
   "cell_type": "code",
   "execution_count": 2,
   "metadata": {},
   "outputs": [
    {
     "data": {
      "text/html": [
       "<div>\n",
       "<style scoped>\n",
       "    .dataframe tbody tr th:only-of-type {\n",
       "        vertical-align: middle;\n",
       "    }\n",
       "\n",
       "    .dataframe tbody tr th {\n",
       "        vertical-align: top;\n",
       "    }\n",
       "\n",
       "    .dataframe thead th {\n",
       "        text-align: right;\n",
       "    }\n",
       "</style>\n",
       "<table border=\"1\" class=\"dataframe\">\n",
       "  <thead>\n",
       "    <tr style=\"text-align: right;\">\n",
       "      <th></th>\n",
       "      <th>created_at</th>\n",
       "      <th>original_text</th>\n",
       "      <th>polarity</th>\n",
       "      <th>subjectivity</th>\n",
       "      <th>favorite_count</th>\n",
       "      <th>retweet_count</th>\n",
       "      <th>original_author</th>\n",
       "      <th>followers_count</th>\n",
       "      <th>friends_count</th>\n",
       "      <th>possibly_sensitive</th>\n",
       "      <th>hashtags</th>\n",
       "      <th>place</th>\n",
       "      <th>hashtags_in_tweets</th>\n",
       "      <th>screen_name</th>\n",
       "      <th>device</th>\n",
       "    </tr>\n",
       "  </thead>\n",
       "  <tbody>\n",
       "    <tr>\n",
       "      <th>0</th>\n",
       "      <td>2021-06-18 17:55:49+00:00</td>\n",
       "      <td>africa is  in the midst of a full blown third...</td>\n",
       "      <td>0.166667</td>\n",
       "      <td>0.188889</td>\n",
       "      <td>548</td>\n",
       "      <td>612</td>\n",
       "      <td>ketuesriche</td>\n",
       "      <td>551</td>\n",
       "      <td>351</td>\n",
       "      <td>False</td>\n",
       "      <td></td>\n",
       "      <td>mass</td>\n",
       "      <td></td>\n",
       "      <td>@telglobalhealth, @telglobalhealth</td>\n",
       "      <td>twitter for iphone</td>\n",
       "    </tr>\n",
       "    <tr>\n",
       "      <th>1</th>\n",
       "      <td>2021-06-18 17:55:59+00:00</td>\n",
       "      <td>dr moeti is head of who in africa  and one of ...</td>\n",
       "      <td>0.133333</td>\n",
       "      <td>0.455556</td>\n",
       "      <td>195</td>\n",
       "      <td>92</td>\n",
       "      <td>grid1949</td>\n",
       "      <td>66</td>\n",
       "      <td>92</td>\n",
       "      <td>False</td>\n",
       "      <td></td>\n",
       "      <td>edinburgh, scotland</td>\n",
       "      <td></td>\n",
       "      <td>@globalhlthtwit</td>\n",
       "      <td>twitter web app</td>\n",
       "    </tr>\n",
       "  </tbody>\n",
       "</table>\n",
       "</div>"
      ],
      "text/plain": [
       "                  created_at  \\\n",
       "0  2021-06-18 17:55:49+00:00   \n",
       "1  2021-06-18 17:55:59+00:00   \n",
       "\n",
       "                                       original_text  polarity  subjectivity  \\\n",
       "0   africa is  in the midst of a full blown third...  0.166667      0.188889   \n",
       "1  dr moeti is head of who in africa  and one of ...  0.133333      0.455556   \n",
       "\n",
       "   favorite_count  retweet_count original_author  followers_count  \\\n",
       "0             548            612     ketuesriche              551   \n",
       "1             195             92        grid1949               66   \n",
       "\n",
       "   friends_count  possibly_sensitive hashtags                place  \\\n",
       "0            351               False                          mass   \n",
       "1             92               False           edinburgh, scotland   \n",
       "\n",
       "  hashtags_in_tweets                         screen_name              device  \n",
       "0                     @telglobalhealth, @telglobalhealth  twitter for iphone  \n",
       "1                                        @globalhlthtwit     twitter web app  "
      ]
     },
     "execution_count": 2,
     "metadata": {},
     "output_type": "execute_result"
    }
   ],
   "source": [
    "tweets = pd.read_csv(\"./clean_tweets.csv\")\n",
    "tweets[:2]"
   ]
  },
  {
   "cell_type": "code",
   "execution_count": 3,
   "metadata": {},
   "outputs": [
    {
     "name": "stdout",
     "output_type": "stream",
     "text": [
      "<class 'pandas.core.frame.DataFrame'>\n",
      "RangeIndex: 6532 entries, 0 to 6531\n",
      "Data columns (total 15 columns):\n",
      " #   Column              Non-Null Count  Dtype  \n",
      "---  ------              --------------  -----  \n",
      " 0   created_at          6532 non-null   object \n",
      " 1   original_text       6532 non-null   object \n",
      " 2   polarity            6532 non-null   float64\n",
      " 3   subjectivity        6532 non-null   float64\n",
      " 4   favorite_count      6532 non-null   int64  \n",
      " 5   retweet_count       6532 non-null   int64  \n",
      " 6   original_author     6532 non-null   object \n",
      " 7   followers_count     6532 non-null   int64  \n",
      " 8   friends_count       6532 non-null   int64  \n",
      " 9   possibly_sensitive  6532 non-null   bool   \n",
      " 10  hashtags            6532 non-null   object \n",
      " 11  place               6532 non-null   object \n",
      " 12  hashtags_in_tweets  6532 non-null   object \n",
      " 13  screen_name         6532 non-null   object \n",
      " 14  device              6532 non-null   object \n",
      "dtypes: bool(1), float64(2), int64(4), object(8)\n",
      "memory usage: 720.9+ KB\n"
     ]
    }
   ],
   "source": [
    "tweets.info()"
   ]
  },
  {
   "cell_type": "markdown",
   "metadata": {},
   "source": [
    "## Topic modelling"
   ]
  },
  {
   "cell_type": "markdown",
   "metadata": {},
   "source": [
    "## Feature Extraction"
   ]
  },
  {
   "cell_type": "markdown",
   "metadata": {},
   "source": [
    "We will create a dataset containg only the columns we need for topic modeling."
   ]
  },
  {
   "cell_type": "code",
   "execution_count": 4,
   "metadata": {},
   "outputs": [
    {
     "data": {
      "text/html": [
       "<div>\n",
       "<style scoped>\n",
       "    .dataframe tbody tr th:only-of-type {\n",
       "        vertical-align: middle;\n",
       "    }\n",
       "\n",
       "    .dataframe tbody tr th {\n",
       "        vertical-align: top;\n",
       "    }\n",
       "\n",
       "    .dataframe thead th {\n",
       "        text-align: right;\n",
       "    }\n",
       "</style>\n",
       "<table border=\"1\" class=\"dataframe\">\n",
       "  <thead>\n",
       "    <tr style=\"text-align: right;\">\n",
       "      <th></th>\n",
       "      <th>clean_text</th>\n",
       "    </tr>\n",
       "  </thead>\n",
       "  <tbody>\n",
       "    <tr>\n",
       "      <th>0</th>\n",
       "      <td>africa is  in the midst of a full blown third...</td>\n",
       "    </tr>\n",
       "    <tr>\n",
       "      <th>1</th>\n",
       "      <td>dr moeti is head of who in africa  and one of ...</td>\n",
       "    </tr>\n",
       "    <tr>\n",
       "      <th>2</th>\n",
       "      <td>thank you  research note for creating this ama...</td>\n",
       "    </tr>\n",
       "    <tr>\n",
       "      <th>3</th>\n",
       "      <td>former pfizer vp and virologist  dr  michael y...</td>\n",
       "    </tr>\n",
       "    <tr>\n",
       "      <th>4</th>\n",
       "      <td>i think it s important that we don t sell cova...</td>\n",
       "    </tr>\n",
       "  </tbody>\n",
       "</table>\n",
       "</div>"
      ],
      "text/plain": [
       "                                          clean_text\n",
       "0   africa is  in the midst of a full blown third...\n",
       "1  dr moeti is head of who in africa  and one of ...\n",
       "2  thank you  research note for creating this ama...\n",
       "3  former pfizer vp and virologist  dr  michael y...\n",
       "4  i think it s important that we don t sell cova..."
      ]
     },
     "execution_count": 4,
     "metadata": {},
     "output_type": "execute_result"
    }
   ],
   "source": [
    "df = pd.DataFrame(columns=['clean_text'])\n",
    "df['clean_text'] = tweets['original_text'].astype(str)\n",
    "df[:5]"
   ]
  },
  {
   "cell_type": "markdown",
   "metadata": {},
   "source": [
    "### Data Pre-processing"
   ]
  },
  {
   "cell_type": "markdown",
   "metadata": {},
   "source": [
    "I have already done common data preprocessing tasks like, converting to lowercase, removing Punctuation and links. Here we will go further and make the data ready for topic modelling."
   ]
  },
  {
   "cell_type": "markdown",
   "metadata": {},
   "source": [
    "### Remove stop words"
   ]
  },
  {
   "cell_type": "code",
   "execution_count": 5,
   "metadata": {},
   "outputs": [
    {
     "name": "stdout",
     "output_type": "stream",
     "text": [
      "FREQ X: \n",
      " the         7191\n",
      "to          6094\n",
      "vaccines    4462\n",
      "of          4162\n",
      "and         3501\n",
      "in          3499\n",
      "#covid      3086\n",
      "a           2397\n",
      "is          2261\n",
      "are         1986\n",
      "dtype: int64\n"
     ]
    }
   ],
   "source": [
    "freqX = pd.Series(\n",
    "    ' '.join(df['clean_text']).split()).value_counts()[:10]\n",
    "\n",
    "print('FREQ X: \\n', freqX)"
   ]
  },
  {
   "cell_type": "markdown",
   "metadata": {},
   "source": [
    "As we can see most them are stop words so should we remove them. While exploring the data, I have also found while exploring the data using word cloud, there are some meaning less characters in the data. we will also remove those."
   ]
  },
  {
   "cell_type": "code",
   "execution_count": 6,
   "metadata": {},
   "outputs": [],
   "source": [
    "custom_stopwords = ['t', 'rt', 'ti', 'vk', 'to', 'co',\n",
    "                    'dqlw', 'z', 'nd', 'm', 's', 'kur', 'u', 'o', 'd']\n",
    "STOP_WORDS = STOPWORDS.union(custom_stopwords)"
   ]
  },
  {
   "cell_type": "markdown",
   "metadata": {},
   "source": [
    "#### Tokenizing\n"
   ]
  },
  {
   "cell_type": "code",
   "execution_count": 7,
   "metadata": {},
   "outputs": [
    {
     "data": {
      "text/plain": [
       "0        africa is  in the midst of a full blown third...\n",
       "1       dr moeti is head of who in africa  and one of ...\n",
       "2       thank you  research note for creating this ama...\n",
       "3       former pfizer vp and virologist  dr  michael y...\n",
       "4       i think it s important that we don t sell cova...\n",
       "                              ...                        \n",
       "6527    rt  givenkazeni  zweli please just release the...\n",
       "6528    former pfizer vp and virologist  dr  michael y...\n",
       "6529     jenfeds    dcrinyyc respectfully  veterinaria...\n",
       "6530     africa needs millions more doses here  amp  n...\n",
       "6531    rt  shawajason  liars  you tried to load off y...\n",
       "Name: clean_text, Length: 6532, dtype: object"
      ]
     },
     "execution_count": 7,
     "metadata": {},
     "output_type": "execute_result"
    }
   ],
   "source": [
    "df['clean_text']"
   ]
  },
  {
   "cell_type": "code",
   "execution_count": 8,
   "metadata": {},
   "outputs": [],
   "source": [
    "df['clean_text'] = df['clean_text'].apply(\n",
    "    lambda x: [item for item in x.split() if item not in STOP_WORDS])"
   ]
  },
  {
   "cell_type": "code",
   "execution_count": 9,
   "metadata": {},
   "outputs": [
    {
     "data": {
      "text/plain": [
       "0       [africa, midst, full, blown, third, wave, coro...\n",
       "1       [dr, moeti, head, africa, one, best, public, h...\n",
       "2       [thank, research, note, creating, amazing, cam...\n",
       "3       [former, pfizer, vp, virologist, dr, michael, ...\n",
       "4       [think, important, don, sell, covax, short, st...\n",
       "                              ...                        \n",
       "6527    [givenkazeni, zweli, please, release, graphic,...\n",
       "6528    [former, pfizer, vp, virologist, dr, michael, ...\n",
       "6529    [jenfeds, dcrinyyc, respectfully, veterinarian...\n",
       "6530    [africa, needs, millions, doses, amp, now, cur...\n",
       "6531    [shawajason, liars, tried, load, expired, vacc...\n",
       "Name: clean_text, Length: 6532, dtype: object"
      ]
     },
     "execution_count": 9,
     "metadata": {},
     "output_type": "execute_result"
    }
   ],
   "source": [
    "df['clean_text']\n"
   ]
  },
  {
   "cell_type": "code",
   "execution_count": 10,
   "metadata": {},
   "outputs": [
    {
     "name": "stdout",
     "output_type": "stream",
     "text": [
      "[['africa', 'midst', 'full', 'blown', 'third', 'wave', 'coronavirus', 'head', 'whoafro', 'warned', 'cases', 'risen', 'across', 'continent', 'deaths', 'risen', 'last', 'week', 'jriggers', 'reports'], ['dr', 'moeti', 'head', 'africa', 'one', 'best', 'public', 'health', 'experts', 'leaders', 'know', 'desperate', 'request', 'vaccines', 'africa', 'plead', 'germany', 'uk', 'lift', 'patent', 'restrictions', 'urgently', 'transfer', 'technology', 'enable', 'production', 'africa']]\n"
     ]
    }
   ],
   "source": [
    "sentence_list = [sent for sent in df['clean_text']]\n",
    "print(sentence_list[:2])"
   ]
  },
  {
   "cell_type": "code",
   "execution_count": 11,
   "metadata": {},
   "outputs": [
    {
     "name": "stdout",
     "output_type": "stream",
     "text": [
      "[['africa', 'midst', 'full', 'blown', 'third', 'wave', 'coronavirus', 'head', 'whoafro', 'warned', 'cases', 'risen', 'across', 'continent', 'deaths', 'risen', 'last', 'week', 'jriggers', 'reports'], ['dr', 'moeti', 'head', 'africa', 'one', 'best', 'public', 'health', 'experts', 'leaders', 'know', 'desperate', 'request', 'vaccines', 'africa', 'plead', 'germany', 'uk', 'lift', 'patent', 'restrictions', 'urgently', 'transfer', 'technology', 'enable', 'production', 'africa']]\n"
     ]
    }
   ],
   "source": [
    "word_list = [sent for sent in sentence_list]\n",
    "print(word_list[:2])"
   ]
  },
  {
   "cell_type": "markdown",
   "metadata": {},
   "source": [
    "### Lemmatization"
   ]
  },
  {
   "cell_type": "code",
   "execution_count": 12,
   "metadata": {},
   "outputs": [
    {
     "name": "stdout",
     "output_type": "stream",
     "text": [
      "[['africa', 'midst', 'full', 'blown', 'third', 'wave', 'coronavirus', 'head', 'whoafro', 'warned', 'case', 'risen', 'across', 'continent', 'death', 'risen', 'last', 'week', 'jriggers', 'report'], ['dr', 'moeti', 'head', 'africa', 'one', 'best', 'public', 'health', 'expert', 'leader', 'know', 'desperate', 'request', 'vaccine', 'africa', 'plead', 'germany', 'uk', 'lift', 'patent', 'restriction', 'urgently', 'transfer', 'technology', 'enable', 'production', 'africa']]\n"
     ]
    }
   ],
   "source": [
    "lemmatizer = WordNetLemmatizer()\n",
    "word_list_lematized = []\n",
    "\n",
    "for w in word_list:\n",
    "    word_list_lematized.append([lemmatizer.lemmatize(x) for x in w])\n",
    "print(word_list_lematized[:2])"
   ]
  },
  {
   "cell_type": "markdown",
   "metadata": {},
   "source": [
    "### Model"
   ]
  },
  {
   "cell_type": "code",
   "execution_count": 13,
   "metadata": {},
   "outputs": [],
   "source": [
    "#Create dictionary which contains Id and word\n",
    "id2word = corpora.Dictionary(word_list_lematized)\n",
    "corpus = [id2word.doc2bow(tweet) for tweet in word_list]"
   ]
  },
  {
   "cell_type": "code",
   "execution_count": 14,
   "metadata": {},
   "outputs": [
    {
     "name": "stdout",
     "output_type": "stream",
     "text": [
      "(6532,)\n",
      "(6339,)\n",
      "(6532,)\n"
     ]
    }
   ],
   "source": [
    "print(np.array(word_list).shape)\n",
    "print(np.array(id2word).shape)\n",
    "print(np.array(corpus).shape)"
   ]
  },
  {
   "cell_type": "code",
   "execution_count": 63,
   "metadata": {},
   "outputs": [],
   "source": [
    "# Build LDA model\n",
    "lda_model = gensim.models.ldamodel.LdaModel(corpus,\n",
    "                                            id2word=id2word,\n",
    "                                            num_topics=7,\n",
    "                                            random_state=100,\n",
    "                                            update_every=1,\n",
    "                                            chunksize=100,\n",
    "                                            passes=10,\n",
    "                                            alpha='auto',\n",
    "                                            per_word_topics=True)"
   ]
  },
  {
   "cell_type": "code",
   "execution_count": 64,
   "metadata": {},
   "outputs": [
    {
     "name": "stdout",
     "output_type": "stream",
     "text": [
      "[(0,\n",
      "  '0.056*\"#covid\" + 0.031*\"amp\" + 0.030*\"don\" + 0.028*\"covid\" + '\n",
      "  '0.019*\"#vaccines\" + 0.016*\"will\" + 0.012*\"provide\" + 0.011*\"question\" + '\n",
      "  '0.011*\"#covidvaccination\" + 0.010*\"vaccinated\"'),\n",
      " (1,\n",
      "  '0.043*\"israel\" + 0.038*\"expired\" + 0.036*\"another\" + 0.035*\"tried\" + '\n",
      "  '0.035*\"war\" + 0.035*\"crime\" + 0.035*\"load\" + 0.035*\"shawajason\" + '\n",
      "  '0.027*\"world\" + 0.021*\"need\"'),\n",
      " (2,\n",
      "  '0.081*\"dose\" + 0.057*\"capacity\" + 0.053*\"age\" + 0.048*\"code\" + 0.048*\"pin\" '\n",
      "  '+ 0.048*\"limit\" + 0.048*\"min\" + 0.038*\"covaxin\" + 0.031*\"pmcg\" + '\n",
      "  '0.024*\"million\"'),\n",
      " (3,\n",
      "  '0.119*\"india\" + 0.038*\"africa\" + 0.035*\"#covid\" + 0.034*\"vaccination\" + '\n",
      "  '0.032*\"wave\" + 0.030*\"third\" + 0.022*\"amp\" + 0.020*\"full\" + 0.019*\"midst\" + '\n",
      "  '0.019*\"vaccine\"'),\n",
      " (4,\n",
      "  '0.047*\"people\" + 0.041*\"#covid\" + 0.034*\"australia\" + 0.017*\"vaccine\" + '\n",
      "  '0.015*\"must\" + 0.013*\"huge\" + 0.011*\"#india\" + 0.011*\"response\" + '\n",
      "  '0.010*\"now\" + 0.009*\"us\"'),\n",
      " (5,\n",
      "  '0.066*\"africa\" + 0.027*\"dr\" + 0.027*\"risk\" + 0.022*\"re\" + 0.021*\"one\" + '\n",
      "  '0.020*\"vaccinated\" + 0.020*\"#covid\" + 0.019*\"uk\" + 0.019*\"free\" + '\n",
      "  '0.017*\"urgently\"'),\n",
      " (6,\n",
      "  '0.030*\"today\" + 0.027*\"#covid\" + 0.024*\"ontario\" + 0.023*\"amp\" + '\n",
      "  '0.019*\"register\" + 0.017*\"providing\" + 0.016*\"june\" + 0.015*\"covid\" + '\n",
      "  '0.013*\"mask\" + 0.013*\"per\"')]\n"
     ]
    }
   ],
   "source": [
    "pprint(lda_model.show_topics(formatted=True))"
   ]
  },
  {
   "cell_type": "markdown",
   "metadata": {},
   "source": [
    "#### Compute Perplexity\n",
    "It's a measure of how good the model is. The lower the better. Perplexity is a negative value"
   ]
  },
  {
   "cell_type": "code",
   "execution_count": 65,
   "metadata": {},
   "outputs": [
    {
     "name": "stdout",
     "output_type": "stream",
     "text": [
      "\n",
      "Perplexity:  -6.791372861272658\n"
     ]
    }
   ],
   "source": [
    "print('\\nPerplexity: ', lda_model.log_perplexity(corpus))"
   ]
  },
  {
   "cell_type": "markdown",
   "metadata": {},
   "source": [
    "#### Compute Coherence Score\n"
   ]
  },
  {
   "cell_type": "code",
   "execution_count": 66,
   "metadata": {},
   "outputs": [
    {
     "name": "stdout",
     "output_type": "stream",
     "text": [
      "\n",
      " Ldamodel Coherence Score/Accuracy on Tweets:  0.35099594180510907\n"
     ]
    }
   ],
   "source": [
    "doc_lda = lda_model[corpus]\n",
    "coherence_model_lda = CoherenceModel(\n",
    "    model=lda_model, texts=word_list, dictionary=id2word, coherence='c_v')\n",
    "coherence_lda = coherence_model_lda.get_coherence()\n",
    "print('\\n Ldamodel Coherence Score/Accuracy on Tweets: ', coherence_lda)"
   ]
  },
  {
   "cell_type": "markdown",
   "metadata": {},
   "source": [
    "### Visualization"
   ]
  },
  {
   "cell_type": "code",
   "execution_count": 18,
   "metadata": {},
   "outputs": [],
   "source": [
    "import pyLDAvis.gensim_models as gensimvis\n",
    "import pyLDAvis"
   ]
  },
  {
   "cell_type": "code",
   "execution_count": 19,
   "metadata": {},
   "outputs": [
    {
     "name": "stderr",
     "output_type": "stream",
     "text": [
      "/Users/ea/Library/Python/3.9/lib/python/site-packages/ipykernel/ipkernel.py:283: DeprecationWarning: `should_run_async` will not call `transform_cell` automatically in the future. Please pass the result to `transformed_cell` argument and any exception that happen during thetransform in `preprocessing_exc_tuple` in IPython 7.17 and above.\n",
      "  and should_run_async(code)\n"
     ]
    },
    {
     "data": {
      "text/html": [
       "\n",
       "<link rel=\"stylesheet\" type=\"text/css\" href=\"https://cdn.jsdelivr.net/gh/bmabey/pyLDAvis@3.3.1/pyLDAvis/js/ldavis.v1.0.0.css\">\n",
       "\n",
       "\n",
       "<div id=\"ldavis_el461949555985129333291446\"></div>\n",
       "<script type=\"text/javascript\">\n",
       "\n",
       "var ldavis_el461949555985129333291446_data = {\"mdsDat\": {\"x\": [0.0988755564930491, 0.1621939039847178, 0.02885352334354408, 0.10555397793626126, -0.000735949962211703, -0.40157895707705993, 0.006837945281699556], \"y\": [0.3069072878580332, -0.010740918216438123, -0.08014990733850119, 0.06960633208090956, -0.229722261982874, 0.08184028269730219, -0.13774081509843225], \"topics\": [1, 2, 3, 4, 5, 6, 7], \"cluster\": [1, 1, 1, 1, 1, 1, 1], \"Freq\": [21.74957945212322, 15.224296768519304, 15.120874337082531, 13.497974630890356, 12.263552104937265, 11.806354910555557, 10.337367795891764]}, \"tinfo\": {\"Term\": [\"india\", \"dose\", \"africa\", \"capacity\", \"age\", \"israel\", \"expired\", \"pin\", \"min\", \"limit\", \"tried\", \"war\", \"crime\", \"load\", \"shawajason\", \"code\", \"people\", \"another\", \"vaccination\", \"covaxin\", \"world\", \"wave\", \"australia\", \"third\", \"don\", \"amp\", \"pmcg\", \"today\", \"risk\", \"dr\", \"expired\", \"tried\", \"war\", \"crime\", \"load\", \"shawajason\", \"world\", \"support\", \"please\", \"south\", \"go\", \"administered\", \"oxygen\", \"take\", \"via\", \"stand\", \"graphic\", \"release\", \"zweli\", \"givenkazeni\", \"department\", \"#coronavirus\", \"medical\", \"#nft\", \"failure\", \"far\", \"money\", \"dying\", \"pay\", \"long\", \"israel\", \"another\", \"help\", \"need\", \"new\", \"one\", \"covid\", \"#covid\", \"health\", \"amp\", \"will\", \"people\", \"india\", \"vaccination\", \"wave\", \"third\", \"midst\", \"blown\", \"everyone\", \"rich\", \"coronavirus\", \"#africa\", \"week\", \"wolfofwallst\", \"ve\", \"seen\", \"overwhelm\", \"retweet\", \"action\", \"elsewhere\", \"surging\", \"said\", \"#indiafightscorona\", \"urgent\", \"trajectory\", \"quickly\", \"rebound\", \"sobering\", \"way\", \"needed\", \"much\", \"across\", \"pre\", \"full\", \"africa\", \"#covid\", \"amp\", \"vaccine\", \"health\", \"covid\", \"need\", \"don\", \"#vaccines\", \"provide\", \"question\", \"#covidvaccination\", \"indian\", \"china\", \"jab\", \"coverage\", \"directly\", \"committed\", \"education\", \"mrna\", \"minister\", \"benefit\", \"vax\", \"child\", \"#deltavariant\", \"already\", \"outbreak\", \"got\", \"post\", \"control\", \"ppe\", \"zimbabwe\", \"positive\", \"even\", \"moderna\", \"greater\", \"myocarditis\", \"centre\", \"expanded\", \"virus\", \"see\", \"#covid\", \"amp\", \"covid\", \"will\", \"yet\", \"vaccinated\", \"good\", \"vaccine\", \"government\", \"risk\", \"re\", \"uk\", \"free\", \"public\", \"urgently\", \"know\", \"technology\", \"increased\", \"germany\", \"production\", \"speaks\", \"best\", \"transfer\", \"lift\", \"desperate\", \"request\", \"patent\", \"moeti\", \"enable\", \"plead\", \"past\", \"welcome\", \"find\", \"population\", \"#wecandothis\", \"call\", \"expect\", \"drtedros\", \"text\", \"dr\", \"africa\", \"head\", \"vaccinated\", \"one\", \"vaccine\", \"today\", \"#covid\", \"health\", \"australia\", \"must\", \"huge\", \"#india\", \"response\", \"many\", \"threat\", \"based\", \"hit\", \"fund\", \"global\", \"budget\", \"cause\", \"every\", \"deadly\", \"rural\", \"little\", \"direct\", \"use\", \"pose\", \"shunned\", \"personnel\", \"date\", \"buy\", \"future\", \"expected\", \"billion\", \"taiwan\", \"europe\", \"basic\", \"still\", \"people\", \"us\", \"#covid\", \"vaccine\", \"now\", \"capacity\", \"age\", \"pin\", \"limit\", \"min\", \"covaxin\", \"pmcg\", \"million\", \"covishield\", \"st\", \"sending\", \"sent\", \"fully\", \"delta\", \"helping\", \"variant\", \"friday\", \"authority\", \"pa\", \"delivery\", \"deliver\", \"aundh\", \"fight\", \"dos\", \"laigude\", \"murlidhar\", \"pmc\", \"gandhi\", \"pvt\", \"kuty\", \"dose\", \"code\", \"palestinian\", \"hospital\", \"help\", \"#covid\", \"ontario\", \"register\", \"providing\", \"mask\", \"per\", \"safe\", \"beautiful\", \"uganda\", \"fastest\", \"ashevak\", \"fish\", \"iqalutsiavak\", \"kenojuak\", \"coming\", \"un\", \"impact\", \"#tripswaiver\", \"order\", \"well\", \"agenda\", \"promoting\", \"solution\", \"politician\", \"#peoplesvaccine\", \"cheap\", \"apartheid\", \"related\", \"nigeria\", \"#vaccinateourworld\", \"#vownow\", \"today\", \"june\", \"amp\", \"#covid\", \"pandemic\", \"covid\", \"full\"], \"Freq\": [1752.0, 943.0, 1532.0, 653.0, 606.0, 916.0, 791.0, 546.0, 546.0, 546.0, 736.0, 735.0, 735.0, 735.0, 735.0, 647.0, 762.0, 794.0, 500.0, 436.0, 576.0, 463.0, 399.0, 439.0, 437.0, 1188.0, 355.0, 472.0, 350.0, 449.0, 790.5498928308299, 735.1913467050924, 734.4421837541609, 734.344256506643, 734.3097673883935, 734.3068022605803, 575.9502499078354, 359.6659852236558, 317.0558305643825, 312.9125911456443, 275.07984261617673, 237.53221453486086, 235.0783566877449, 217.30540008230136, 177.5194711429278, 174.75636216933754, 148.90346153380708, 144.4359210142001, 144.4359210142001, 144.42693784737102, 142.8385169270493, 140.9884332309146, 133.12337318390206, 134.2363397608466, 124.18525874090543, 124.31002819810152, 118.29059440179378, 117.76101672211415, 113.41002328224734, 112.84085529403433, 894.8900875714271, 755.2947572198435, 413.4839523761906, 438.70653901606886, 219.97969177343168, 290.1569323241643, 377.58686659362684, 379.2668846037335, 191.85016795359877, 168.7882621482974, 147.26889581189104, 147.32668654312047, 1751.3098003106873, 499.94254885519933, 462.7992887804998, 439.0184241040568, 280.0475060064553, 277.5522501977699, 274.5643009148811, 259.61051733809893, 190.18597591785286, 185.02002708091095, 176.90452633510213, 181.51110517673493, 157.23268590761344, 146.98703212218004, 140.85086684982497, 158.02630446314538, 138.8530700500278, 134.5192463812572, 132.11106740548004, 132.1989089087102, 133.64230607029072, 129.24523324203585, 128.82967588655575, 127.96460162040614, 127.95111065115519, 127.9466318678411, 127.9966768094451, 127.24193354688632, 126.27358782279644, 124.57062605140682, 128.9304485111226, 286.33560854080974, 552.837689845527, 519.364628838792, 328.66027471681565, 279.9159007821226, 194.4821259184419, 133.32158148955543, 131.67935638944945, 436.6272062022764, 275.8276691433376, 168.7492949766243, 155.60636410050617, 155.3480067328693, 150.14569294158693, 144.4999402605606, 126.18691906326539, 125.99371386329926, 123.59005456168495, 128.09066703005226, 127.9044191702225, 115.11697718231947, 102.16592920467959, 96.78071738400348, 89.452854808663, 86.82144772359852, 77.56198069679263, 75.87321860883932, 75.69986149325831, 74.8687780555267, 72.60615068388907, 71.6510014614256, 69.22244220563904, 70.98879287628266, 66.91394792495427, 64.186745182866, 62.348841049143545, 62.278420018621, 61.531733320984095, 118.92630399487649, 117.16327603053581, 122.88785144230783, 130.37846559719299, 818.6317789492394, 456.57809105179047, 405.90578921487776, 230.82835261706882, 112.13694361471046, 152.66663699466181, 96.17586277826928, 147.39561777427454, 107.7396469692648, 350.07222328981214, 279.7678867569525, 252.1685705903267, 250.6382157750818, 221.13070182612202, 221.20987814796638, 195.3534822184422, 173.52493348008952, 160.68776407250598, 152.55242121594065, 152.32698661516636, 152.70734772827126, 148.02862032435996, 141.0903290236057, 140.76727994530376, 139.35324410563692, 139.12278531930218, 138.94699935704224, 138.35209946727008, 138.34650627756182, 138.34650627756182, 135.737162213941, 134.96916399852196, 131.3273921748759, 127.50322425567833, 110.99833885660281, 109.64074338581037, 104.70345807583944, 103.1289751729611, 102.67493407595028, 350.3610352674756, 864.4404959763541, 191.44953265383876, 263.0864526879296, 273.799735421745, 220.37070598818602, 176.52410591731712, 257.5387590985408, 175.50574587686117, 398.17026767301974, 174.7243789446887, 158.12531667050285, 129.61290707949016, 128.09171418818758, 106.41311783806485, 104.64801535692695, 104.10725652197435, 97.93310460379885, 104.40082797418201, 95.9881744841393, 94.79687275037182, 92.47879120635314, 90.39458788594973, 89.31394466079728, 89.03407284304915, 88.06794888258983, 87.80385006830613, 85.24827152930553, 84.07549262526895, 84.00481109091577, 85.39234042705809, 83.8724179554906, 85.82984328570498, 79.51953646977182, 79.46880767480809, 77.66343123817155, 76.60528709153131, 76.53613996023482, 76.90224632969924, 98.88179466572879, 554.3129706047074, 109.45582260051694, 485.2493020350538, 199.64194065755353, 117.62984616715593, 652.7477071292828, 605.6139822750276, 545.9726704244792, 545.9669945917132, 545.9669945917132, 435.9007373078654, 354.28910278046135, 271.56237889932225, 222.16209070814858, 179.48918919540372, 143.4454485686653, 140.5267468718577, 137.8378846343567, 134.98587397255082, 119.73146982694908, 115.40862428570426, 103.97274252590229, 91.20750872544484, 76.61694405019225, 72.42619398626232, 71.44003922163198, 69.03191892124845, 67.52989872931663, 65.60560081528266, 63.0569983593179, 63.0569983593179, 53.079000838147145, 51.94144641125301, 51.38162504773492, 50.25082655611089, 921.8596934812024, 547.9210906277692, 93.26254139942347, 255.3676819885491, 65.6429914225534, 64.01877139830654, 242.0582913221537, 184.96989562661147, 167.87228604954242, 130.21956071754255, 125.28622390127656, 116.477070037967, 116.2040651053904, 116.48452447728748, 115.3162265476159, 115.29284334367777, 115.29284334367777, 115.29284334367777, 115.29284334367777, 109.38242794667754, 108.7870277851808, 108.33891770209846, 106.50448588260184, 98.51394813432209, 94.51566132486032, 92.53457917360741, 91.52326023912872, 90.21371737337726, 90.11004132800211, 74.64331750871051, 70.76168711159985, 69.47634335856787, 68.67027184105126, 67.24972829427392, 67.76393626033601, 67.76393626033601, 295.4440744245652, 154.4879329665244, 233.55915498068364, 269.88684445177716, 88.94611036464887, 149.28122962174461, 98.43334005540136], \"Total\": [1752.0, 943.0, 1532.0, 653.0, 606.0, 916.0, 791.0, 546.0, 546.0, 546.0, 736.0, 735.0, 735.0, 735.0, 735.0, 647.0, 762.0, 794.0, 500.0, 436.0, 576.0, 463.0, 399.0, 439.0, 437.0, 1188.0, 355.0, 472.0, 350.0, 449.0, 791.415414437825, 736.0567001430777, 735.3075331594483, 735.209605547488, 735.1751163878744, 735.1721512600611, 576.8183049397144, 360.5446146983506, 317.9266369816895, 313.7877578529695, 275.9514992697455, 238.4019791050833, 235.9437661932887, 218.1783328564236, 178.38938949731318, 175.62226070653938, 149.7688197927374, 145.30127176650478, 145.30127176650478, 145.29228859967571, 143.71798486678458, 141.86676363649266, 133.99523948940865, 135.13519012204438, 125.05170185253606, 125.17801860510956, 119.15630433580259, 118.62692555545307, 114.27557729830407, 113.71106037451194, 916.1624744378012, 794.9620754460904, 479.8671891684063, 571.1212007252398, 271.2819860959866, 564.6621865966588, 1200.6707045784626, 2793.956969375443, 562.4081664219233, 1188.0332302573838, 500.89554706571727, 762.3243812543068, 1752.1717546077768, 500.8068641130133, 463.6595727155654, 439.8785242982828, 280.9075522328879, 278.4123562886906, 275.4270688699862, 260.47924111629385, 191.04925895587516, 185.88472479938062, 177.76951003561138, 182.42742477985433, 158.09420441118556, 147.84766385588696, 141.7115484497644, 158.9985199915883, 139.71354588412075, 135.3794050040724, 132.97137965014784, 133.06414964695477, 134.52215675992085, 130.10528015864966, 129.68972451670254, 128.82463767707634, 128.811145921475, 128.80666713816092, 128.85954298212835, 128.1027209467102, 127.13410625850747, 125.43225698064836, 129.89104409290377, 385.46261970014984, 1532.6122336195706, 2793.956969375443, 1188.0332302573838, 876.7512812606308, 562.4081664219233, 1200.6707045784626, 571.1212007252398, 437.50188171295855, 276.70223678737193, 169.62621655491046, 156.47761455940267, 156.2202821461804, 151.02932098641293, 145.37096818753224, 127.06018968606203, 126.88004900968903, 124.46887316981744, 129.0069707707156, 128.8609179823287, 115.98712663542824, 103.0399680833096, 97.65650808360188, 90.32308828718152, 87.69350107485336, 78.43236465388523, 76.74393478077812, 76.57564372571856, 75.7549843814329, 73.4860597965881, 72.53141204922443, 70.10078527840616, 71.8947641898744, 67.78561312403798, 65.0597166943054, 63.219234472904894, 63.15005846328344, 62.402303296590965, 120.70645658350654, 120.51581354399056, 126.7426443949143, 135.56015473023274, 2793.956969375443, 1188.0332302573838, 1200.6707045784626, 500.89554706571727, 159.98111928653086, 463.25042180716525, 144.73330022146175, 876.7512812606308, 328.38232491098074, 350.90246271717086, 280.5985330642344, 252.99832445436886, 251.49112882575537, 221.95995255379066, 222.04061485910833, 196.18233023462034, 174.35275850184948, 161.5156757522752, 153.38034820828284, 153.1554124402997, 153.53808227181386, 148.85605703383087, 141.91768988351296, 141.59484539027102, 140.1805876761519, 139.95012831437128, 139.77432616922047, 139.17941546112297, 139.1738219819267, 139.1738219819267, 136.56820232940083, 135.79798287690596, 132.15522233706423, 128.3318011126708, 111.82585129139545, 110.46854756951127, 105.53528373735757, 103.95732373554759, 103.50233010765568, 449.0061247068757, 1532.6122336195706, 252.9684033710964, 463.25042180716525, 564.6621865966588, 876.7512812606308, 472.63030093378404, 2793.956969375443, 562.4081664219233, 399.0151343618606, 175.57118361354028, 158.97238115417798, 130.4600741469523, 128.93963222086506, 107.25635338822593, 105.49129340427253, 104.95502294420716, 98.77875504184212, 105.31030338929456, 96.84329079696604, 95.66077219549184, 93.32176896385174, 91.23859727419472, 90.15711589573762, 89.87740242853822, 88.9109409242973, 88.64752587093568, 86.09700742070167, 84.9185309625901, 84.84801045778947, 86.25398314888284, 84.7250154513141, 86.71926971795006, 80.36559386327102, 80.31922073433569, 78.50974329629797, 77.45142575041383, 77.38191596446951, 77.76001475946876, 103.87319954237542, 762.3243812543068, 132.00459940542896, 2793.956969375443, 876.7512812606308, 253.63938284459812, 653.6085927455483, 606.4758030492346, 546.8334024293898, 546.8277265108995, 546.8277265108995, 436.76147106710545, 355.1498438871063, 272.43148229142304, 223.02281831651365, 180.38439700634635, 144.3109983514353, 141.3946177482796, 138.70112944248476, 135.84886539609937, 120.60834906211852, 116.27142280423736, 104.83740198295992, 92.06868280780144, 77.47795333424327, 73.29185949074017, 72.30135529053577, 69.89264502103457, 68.39306370835888, 66.46767954156107, 63.91772886038414, 63.91772886038414, 53.939733921293154, 52.807480458242374, 52.242351988695034, 51.11156398091431, 943.2167657538863, 647.2094758997173, 99.1251566259067, 329.63227001072204, 479.8671891684063, 2793.956969375443, 242.88331986696514, 185.80216923550148, 168.74347755182967, 131.04977216934563, 126.1115973092109, 117.30495834196726, 117.03026173433736, 117.31409511534046, 116.14307924794235, 116.12065917525953, 116.12065917525953, 116.12065917525953, 116.12065917525953, 110.2080127018037, 109.6127417123165, 109.17334189550043, 107.33058668330344, 99.33939324740264, 95.35903622731922, 93.36066256504654, 92.34859804992384, 91.03892127339938, 90.93524789694781, 75.4693381014828, 71.5874206042501, 70.30234666622262, 69.50123952879817, 68.07896101107525, 68.60630952276469, 68.60630952276469, 472.63030093378404, 253.0543919591073, 1188.0332302573838, 2793.956969375443, 147.66043583202628, 1200.6707045784626, 385.46261970014984], \"Category\": [\"Default\", \"Default\", \"Default\", \"Default\", \"Default\", \"Default\", \"Default\", \"Default\", \"Default\", \"Default\", \"Default\", \"Default\", \"Default\", \"Default\", \"Default\", \"Default\", \"Default\", \"Default\", \"Default\", \"Default\", \"Default\", \"Default\", \"Default\", \"Default\", \"Default\", \"Default\", \"Default\", \"Default\", \"Default\", \"Default\", \"Topic1\", \"Topic1\", \"Topic1\", \"Topic1\", \"Topic1\", \"Topic1\", \"Topic1\", \"Topic1\", \"Topic1\", \"Topic1\", \"Topic1\", \"Topic1\", \"Topic1\", \"Topic1\", \"Topic1\", \"Topic1\", \"Topic1\", \"Topic1\", \"Topic1\", \"Topic1\", \"Topic1\", \"Topic1\", \"Topic1\", \"Topic1\", \"Topic1\", \"Topic1\", \"Topic1\", \"Topic1\", \"Topic1\", \"Topic1\", \"Topic1\", \"Topic1\", \"Topic1\", \"Topic1\", \"Topic1\", \"Topic1\", \"Topic1\", \"Topic1\", \"Topic1\", \"Topic1\", \"Topic1\", \"Topic1\", \"Topic2\", \"Topic2\", \"Topic2\", \"Topic2\", \"Topic2\", \"Topic2\", \"Topic2\", \"Topic2\", \"Topic2\", \"Topic2\", \"Topic2\", \"Topic2\", \"Topic2\", \"Topic2\", \"Topic2\", \"Topic2\", \"Topic2\", \"Topic2\", \"Topic2\", \"Topic2\", \"Topic2\", \"Topic2\", \"Topic2\", \"Topic2\", \"Topic2\", \"Topic2\", \"Topic2\", \"Topic2\", \"Topic2\", \"Topic2\", \"Topic2\", \"Topic2\", \"Topic2\", \"Topic2\", \"Topic2\", \"Topic2\", \"Topic2\", \"Topic2\", \"Topic2\", \"Topic3\", \"Topic3\", \"Topic3\", \"Topic3\", \"Topic3\", \"Topic3\", \"Topic3\", \"Topic3\", \"Topic3\", \"Topic3\", \"Topic3\", \"Topic3\", \"Topic3\", \"Topic3\", \"Topic3\", \"Topic3\", \"Topic3\", \"Topic3\", \"Topic3\", \"Topic3\", \"Topic3\", \"Topic3\", \"Topic3\", \"Topic3\", \"Topic3\", \"Topic3\", \"Topic3\", \"Topic3\", \"Topic3\", \"Topic3\", \"Topic3\", \"Topic3\", \"Topic3\", \"Topic3\", \"Topic3\", \"Topic3\", \"Topic3\", \"Topic3\", \"Topic3\", \"Topic3\", \"Topic3\", \"Topic3\", \"Topic3\", \"Topic4\", \"Topic4\", \"Topic4\", \"Topic4\", \"Topic4\", \"Topic4\", \"Topic4\", \"Topic4\", \"Topic4\", \"Topic4\", \"Topic4\", \"Topic4\", \"Topic4\", \"Topic4\", \"Topic4\", \"Topic4\", \"Topic4\", \"Topic4\", \"Topic4\", \"Topic4\", \"Topic4\", \"Topic4\", \"Topic4\", \"Topic4\", \"Topic4\", \"Topic4\", \"Topic4\", \"Topic4\", \"Topic4\", \"Topic4\", \"Topic4\", \"Topic4\", \"Topic4\", \"Topic4\", \"Topic4\", \"Topic4\", \"Topic4\", \"Topic4\", \"Topic4\", \"Topic5\", \"Topic5\", \"Topic5\", \"Topic5\", \"Topic5\", \"Topic5\", \"Topic5\", \"Topic5\", \"Topic5\", \"Topic5\", \"Topic5\", \"Topic5\", \"Topic5\", \"Topic5\", \"Topic5\", \"Topic5\", \"Topic5\", \"Topic5\", \"Topic5\", \"Topic5\", \"Topic5\", \"Topic5\", \"Topic5\", \"Topic5\", \"Topic5\", \"Topic5\", \"Topic5\", \"Topic5\", \"Topic5\", \"Topic5\", \"Topic5\", \"Topic5\", \"Topic5\", \"Topic5\", \"Topic5\", \"Topic5\", \"Topic6\", \"Topic6\", \"Topic6\", \"Topic6\", \"Topic6\", \"Topic6\", \"Topic6\", \"Topic6\", \"Topic6\", \"Topic6\", \"Topic6\", \"Topic6\", \"Topic6\", \"Topic6\", \"Topic6\", \"Topic6\", \"Topic6\", \"Topic6\", \"Topic6\", \"Topic6\", \"Topic6\", \"Topic6\", \"Topic6\", \"Topic6\", \"Topic6\", \"Topic6\", \"Topic6\", \"Topic6\", \"Topic6\", \"Topic6\", \"Topic6\", \"Topic6\", \"Topic6\", \"Topic6\", \"Topic6\", \"Topic6\", \"Topic7\", \"Topic7\", \"Topic7\", \"Topic7\", \"Topic7\", \"Topic7\", \"Topic7\", \"Topic7\", \"Topic7\", \"Topic7\", \"Topic7\", \"Topic7\", \"Topic7\", \"Topic7\", \"Topic7\", \"Topic7\", \"Topic7\", \"Topic7\", \"Topic7\", \"Topic7\", \"Topic7\", \"Topic7\", \"Topic7\", \"Topic7\", \"Topic7\", \"Topic7\", \"Topic7\", \"Topic7\", \"Topic7\", \"Topic7\", \"Topic7\", \"Topic7\", \"Topic7\", \"Topic7\", \"Topic7\", \"Topic7\", \"Topic7\"], \"logprob\": [30.0, 29.0, 28.0, 27.0, 26.0, 25.0, 24.0, 23.0, 22.0, 21.0, 20.0, 19.0, 18.0, 17.0, 16.0, 15.0, 14.0, 13.0, 12.0, 11.0, 10.0, 9.0, 8.0, 7.0, 6.0, 5.0, 4.0, 3.0, 2.0, 1.0, -3.277, -3.3496, -3.3506, -3.3507, -3.3508, -3.3508, -3.5937, -4.0645, -4.1906, -4.2038, -4.3326, -4.4794, -4.4898, -4.5684, -4.7706, -4.7863, -4.9464, -4.9769, -4.9769, -4.9769, -4.988, -5.001, -5.0584, -5.0501, -5.1279, -5.1269, -5.1766, -5.181, -5.2187, -5.2237, -3.153, -3.3226, -3.9251, -3.8659, -4.5562, -4.2793, -4.0159, -4.0115, -4.693, -4.8211, -4.9574, -4.957, -2.1249, -3.3785, -3.4557, -3.5085, -3.958, -3.967, -3.9778, -4.0338, -4.345, -4.3725, -4.4174, -4.3917, -4.5353, -4.6027, -4.6453, -4.5302, -4.6596, -4.6913, -4.7094, -4.7087, -4.6978, -4.7313, -4.7345, -4.7412, -4.7413, -4.7414, -4.741, -4.7469, -4.7545, -4.7681, -4.7337, -3.9358, -3.2779, -3.3404, -3.798, -3.9585, -4.3227, -4.7002, -4.7126, -3.5071, -3.9664, -4.4578, -4.5389, -4.5405, -4.5746, -4.6129, -4.7484, -4.7499, -4.7692, -4.7334, -4.7349, -4.8402, -4.9596, -5.0137, -5.0925, -5.1223, -5.2351, -5.2571, -5.2594, -5.2704, -5.3011, -5.3144, -5.3489, -5.3237, -5.3828, -5.4244, -5.4534, -5.4546, -5.4666, -4.8077, -4.8226, -4.7749, -4.7157, -2.8785, -3.4624, -3.5801, -4.1445, -4.8665, -4.5579, -5.02, -4.5931, -4.9065, -3.6145, -3.8387, -3.9425, -3.9486, -4.0739, -4.0735, -4.1978, -4.3163, -4.3932, -4.4451, -4.4466, -4.4441, -4.4752, -4.5232, -4.5255, -4.5356, -4.5373, -4.5386, -4.5428, -4.5429, -4.5429, -4.5619, -4.5676, -4.595, -4.6245, -4.7631, -4.7754, -4.8215, -4.8367, -4.8411, -3.6137, -2.7106, -4.218, -3.9002, -3.8602, -4.0773, -4.2992, -3.9215, -4.305, -3.3899, -4.2135, -4.3133, -4.5122, -4.524, -4.7094, -4.7261, -4.7313, -4.7925, -4.7285, -4.8125, -4.825, -4.8498, -4.8726, -4.8846, -4.8877, -4.8986, -4.9016, -4.9312, -4.945, -4.9459, -4.9295, -4.9474, -4.9244, -5.0007, -5.0014, -5.0244, -5.0381, -5.039, -5.0342, -4.7828, -3.059, -4.6812, -3.1921, -4.0802, -4.6092, -2.8576, -2.9325, -3.0362, -3.0362, -3.0362, -3.2613, -3.4686, -3.7346, -3.9353, -4.1486, -4.3728, -4.3933, -4.4127, -4.4336, -4.5535, -4.5903, -4.6946, -4.8256, -4.9999, -5.0562, -5.0699, -5.1042, -5.1262, -5.1551, -5.1947, -5.1947, -5.367, -5.3886, -5.3995, -5.4217, -2.5124, -3.0326, -4.8033, -3.796, -5.1545, -5.1796, -3.7167, -3.9857, -4.0827, -4.3366, -4.3753, -4.4482, -4.4505, -4.4481, -4.4582, -4.4584, -4.4584, -4.4584, -4.4584, -4.511, -4.5165, -4.5206, -4.5377, -4.6157, -4.6571, -4.6783, -4.6893, -4.7037, -4.7048, -4.8931, -4.9466, -4.9649, -4.9766, -4.9975, -4.9898, -4.9898, -3.5174, -4.1658, -3.7524, -3.6079, -4.7178, -4.2, -4.6165], \"loglift\": [30.0, 29.0, 28.0, 27.0, 26.0, 25.0, 24.0, 23.0, 22.0, 21.0, 20.0, 19.0, 18.0, 17.0, 16.0, 15.0, 14.0, 13.0, 12.0, 11.0, 10.0, 9.0, 8.0, 7.0, 6.0, 5.0, 4.0, 3.0, 2.0, 1.0, 1.5245, 1.5244, 1.5244, 1.5244, 1.5244, 1.5244, 1.5241, 1.5231, 1.5228, 1.5228, 1.5224, 1.5219, 1.5219, 1.5216, 1.5207, 1.5206, 1.5198, 1.5196, 1.5196, 1.5196, 1.5194, 1.5194, 1.519, 1.5189, 1.5186, 1.5186, 1.5183, 1.5182, 1.518, 1.5179, 1.5021, 1.4744, 1.3767, 1.2618, 1.316, 0.8598, 0.3687, -0.4714, 0.4501, -0.4258, 0.3014, -0.1181, 1.8818, 1.8806, 1.8804, 1.8803, 1.8792, 1.8792, 1.8791, 1.8789, 1.8777, 1.8776, 1.8774, 1.8772, 1.8768, 1.8764, 1.8762, 1.8761, 1.8761, 1.8759, 1.8758, 1.8758, 1.8757, 1.8756, 1.8756, 1.8756, 1.8756, 1.8756, 1.8756, 1.8755, 1.8755, 1.8754, 1.8749, 1.585, 0.8626, 0.1997, 0.5972, 0.7405, 0.8204, -0.3156, 0.415, 1.8871, 1.8859, 1.8839, 1.8835, 1.8835, 1.8832, 1.8831, 1.8822, 1.8821, 1.882, 1.882, 1.8816, 1.8816, 1.8806, 1.8801, 1.8794, 1.8791, 1.8779, 1.8777, 1.8776, 1.8773, 1.877, 1.8769, 1.8765, 1.8764, 1.8762, 1.8756, 1.8752, 1.8752, 1.875, 1.8742, 1.8609, 1.8582, 1.8501, 0.6615, 0.9328, 0.8046, 1.1144, 1.5338, 0.7791, 1.4804, 0.106, 0.7746, 2.0003, 1.9997, 1.9993, 1.9992, 1.9989, 1.9989, 1.9984, 1.9979, 1.9975, 1.9972, 1.9972, 1.9972, 1.9971, 1.9968, 1.9968, 1.9967, 1.9967, 1.9967, 1.9967, 1.9967, 1.9967, 1.9965, 1.9965, 1.9963, 1.9962, 1.9952, 1.9951, 1.9947, 1.9946, 1.9946, 1.7546, 1.43, 1.724, 1.4368, 1.2788, 0.6217, 1.0178, -0.3814, 0.8381, 2.0964, 2.0937, 2.0932, 2.092, 2.0919, 2.0906, 2.0905, 2.0904, 2.0899, 2.0899, 2.0897, 2.0895, 2.0895, 2.0892, 2.0891, 2.0891, 2.089, 2.089, 2.0886, 2.0886, 2.0886, 2.0885, 2.0884, 2.0882, 2.088, 2.0879, 2.0877, 2.0876, 2.0875, 2.0874, 2.0493, 1.7799, 1.9112, 0.348, 0.6188, 1.3302, 2.1352, 2.1351, 2.135, 2.135, 2.135, 2.1346, 2.1341, 2.1333, 2.1327, 2.1316, 2.1305, 2.1304, 2.1303, 2.1302, 2.1292, 2.1291, 2.1283, 2.1271, 2.1254, 2.1247, 2.1245, 2.1241, 2.1238, 2.1235, 2.123, 2.123, 2.1204, 2.12, 2.1199, 2.1195, 2.1136, 1.97, 2.0756, 1.8813, 0.1473, -1.6395, 2.266, 2.2649, 2.2642, 2.263, 2.2628, 2.2623, 2.2623, 2.2623, 2.2623, 2.2623, 2.2623, 2.2623, 2.2623, 2.2619, 2.2618, 2.2617, 2.2617, 2.2611, 2.2605, 2.2605, 2.2604, 2.2603, 2.2603, 2.2584, 2.2578, 2.2576, 2.2574, 2.2571, 2.2571, 2.2571, 1.7996, 1.7759, 0.6428, -0.0678, 1.7625, 0.1846, 0.9043]}, \"token.table\": {\"Topic\": [2, 1, 1, 2, 3, 4, 5, 6, 7, 3, 3, 5, 2, 1, 7, 7, 7, 3, 7, 4, 2, 2, 1, 1, 2, 4, 6, 7, 3, 1, 2, 3, 7, 1, 4, 7, 7, 6, 5, 6, 5, 5, 7, 3, 4, 5, 2, 5, 5, 4, 6, 5, 2, 3, 7, 7, 3, 3, 4, 6, 7, 3, 3, 2, 6, 3, 1, 2, 3, 4, 7, 6, 1, 5, 5, 6, 6, 6, 1, 4, 5, 3, 3, 6, 3, 6, 2, 4, 4, 1, 3, 2, 4, 5, 3, 5, 2, 2, 3, 7, 4, 5, 1, 1, 1, 7, 6, 4, 7, 4, 6, 2, 7, 6, 5, 5, 6, 4, 1, 5, 1, 3, 5, 3, 1, 3, 4, 1, 3, 2, 4, 1, 2, 4, 1, 6, 6, 5, 3, 6, 5, 7, 4, 2, 3, 7, 1, 6, 3, 1, 7, 7, 4, 6, 6, 4, 6, 5, 1, 1, 5, 7, 1, 2, 6, 6, 3, 3, 4, 1, 3, 2, 6, 5, 3, 1, 2, 2, 1, 3, 7, 2, 5, 7, 1, 4, 7, 7, 3, 2, 1, 6, 1, 6, 6, 7, 4, 4, 1, 1, 4, 5, 7, 5, 6, 4, 1, 6, 6, 7, 4, 5, 3, 3, 3, 2, 4, 7, 3, 7, 4, 6, 3, 2, 4, 2, 7, 7, 1, 4, 5, 2, 2, 4, 5, 7, 2, 1, 3, 2, 6, 6, 1, 5, 2, 7, 1, 4, 6, 1, 4, 5, 1, 2, 5, 1, 4, 4, 2, 5, 4, 7, 2, 4, 1, 7, 4, 7, 2, 4, 5, 7, 5, 1, 3, 4, 2, 1, 2, 3, 4, 5, 6, 3, 2, 1, 3, 6, 1, 2, 2, 2, 4, 7, 1, 3, 4, 6, 7, 2, 1, 3, 4, 3, 1], \"Freq\": [0.9952404652919411, 0.993890298091852, 0.13564990590557346, 0.18575805056726286, 0.293132646270883, 0.09234215230511333, 0.17358892972085258, 0.022906580416772297, 0.09663713613325814, 0.9921887086016234, 0.9944874203934407, 0.9964734486779911, 0.9961184330336545, 0.991599596515022, 0.9937810756886235, 0.9969199210260642, 0.9911624815999831, 0.9974621210311663, 0.9911624815999831, 0.9926148445832668, 0.9965538610955949, 0.9948927938260721, 0.9983138600334097, 0.07503528777687261, 0.3608218620922657, 0.5637433794714604, 0.9992154624358591, 0.9961368894014087, 0.9903062726337502, 0.14225191324268485, 0.27692828080972376, 0.3846693748633549, 0.1969641875667944, 0.9497308404005741, 0.04905894407367204, 0.9814750612464499, 0.9903491834853595, 0.987228341111344, 0.9974559001039295, 0.9883925480933362, 0.9909006456535688, 0.9902261494957315, 0.9911966211211585, 0.9932773749903093, 0.9942490950594217, 0.993507260692801, 0.9985189009058814, 0.9930925479658319, 0.9917057682763076, 0.9957585432250167, 0.9990688727897657, 0.985836434751213, 0.008284560977963802, 0.9858627563776923, 0.008284560977963802, 0.9917943599686672, 0.9920917620307872, 0.9905691748178793, 0.15296438585417077, 0.8467119540210666, 0.9890387942565275, 0.9921944468217512, 0.9926733530451085, 0.994507914023799, 0.9982565516476419, 0.9930639291475855, 0.3148240383966977, 0.1107714209173566, 0.3381443375371938, 0.11160428874380289, 0.12409730614049724, 0.9954138400535228, 0.9983547473559092, 0.9914427227017654, 0.9871655622050314, 0.982000955786978, 0.9823737656580622, 0.993751398706023, 0.9950042100336287, 0.9915780944014921, 0.9926954997945636, 0.9962330086400176, 0.9988528467329248, 0.9929638051939419, 0.022264235287649172, 0.9775059492958351, 0.21825982900339558, 0.7794993892978413, 0.9907911852561453, 0.994715149595949, 0.9933190140516712, 0.9971974688169077, 0.9915657846769551, 0.9950645320717456, 0.9837116306656443, 0.9864246348453558, 0.9984494302911534, 0.00829766626132413, 0.9708269525749231, 0.00829766626132413, 0.994927916821736, 0.9835752797117, 0.9994750993849164, 0.9915898637367107, 0.9905892534628962, 0.9901580080763822, 0.9942528717526827, 0.9912585948808151, 0.9903491834853595, 0.9980471326044441, 0.9920123737605018, 0.7419655898734837, 0.25423995736923566, 0.994945034367759, 0.9875576904906367, 0.9954508659029757, 0.9847089758641129, 0.9975202285512721, 0.9911055940261471, 0.9912922125009772, 0.9965519329582789, 0.6632889587476197, 0.33164447937380986, 0.9900338652618356, 0.42633232479230354, 0.32888493626834847, 0.24361847130988776, 0.9948666231475861, 0.981788481416021, 0.24113683443111664, 0.7550350061695619, 0.341389068408299, 0.3449452045375522, 0.31293997937427415, 0.8606548005828761, 0.1375380552989584, 0.9949559954443519, 0.9921161686891858, 0.22449258380434955, 0.7735893090555289, 0.993883332770647, 0.9892524871444941, 0.9968072711835964, 0.9993312558516622, 0.9931846281259152, 0.9903491834853595, 0.976900959133054, 0.022921698482451545, 0.991656004223813, 0.38726852057891353, 0.6085648180525784, 0.9903491834853595, 0.9939733092516214, 0.9782522017653503, 0.9856420295785425, 0.9957989615467182, 0.9984863121038486, 0.9897544563714278, 0.9984015830219498, 0.9937467791420638, 0.9882864431939204, 0.9919895154950052, 0.9925725757631314, 0.996769213836816, 0.9984161805097053, 0.9984863121038486, 0.989907138922357, 0.9807141848035593, 0.9915259346562465, 0.9902959029969247, 0.9914893431360621, 0.9910794491589736, 0.9856420295785425, 0.9967467120641076, 0.9935530697532291, 0.7686634631012379, 0.2311243214791877, 0.9913919006672081, 0.8109642780415146, 0.1879962644550784, 0.9841513296464715, 0.3587770912364766, 0.4652274369879587, 0.1774172429191368, 0.5135814065182809, 0.4852458806414102, 0.9963631925508555, 0.9965834978822813, 0.9924826785945094, 0.9949788958094927, 0.9960000375999951, 0.9938311053186788, 0.050441282215267974, 0.9382078492039844, 0.3927930977122329, 0.6027342361446333, 0.9958394244069323, 0.9944601688275497, 0.9888377085597712, 0.1928312980861643, 0.07870665228006707, 0.7267247560526192, 0.9911856059797151, 0.9854617363383864, 0.9984759482034431, 0.9915657846769551, 0.9970853748195283, 0.9825780764387089, 0.9967623697239417, 0.9897152323375454, 0.9974145059151823, 0.9891833860974968, 0.9884103265009875, 0.9933856870550207, 0.9842971048892765, 0.9931400652052157, 0.9924559477076915, 0.9962251939143095, 0.9963082560725055, 0.9955940368029851, 0.9956751092134153, 0.9762194476051945, 0.9969477131872984, 0.9935987580330445, 0.9978669415777117, 0.9937028281545645, 0.9956826702357563, 0.9927880490737079, 0.9910443194977956, 0.9932109507449897, 0.9927126190397725, 0.993719941596682, 0.9981601562019298, 0.9974281664762831, 0.9902377860860426, 0.9888755056869544, 0.9920027321425179, 0.029507195591212444, 0.9589838567144043, 0.9942666401769241, 0.9909154647503534, 0.9972091034682656, 0.9984056098179833, 0.9900055351538108, 0.9937373805558087, 0.9885881636242219, 0.997489520119078, 0.9964954474886479, 0.9923252951512339, 0.9964568232749311, 0.03850848936609666, 0.9530851118108923, 0.9984894665565696, 0.9926948216021856, 0.9941714985096782, 0.9945992214671517, 0.9979767541111445, 0.9951466782715598, 0.9980028024789701, 0.9953428061367136, 0.37449989907608117, 0.6241664984601353, 0.9946817335045406, 0.9935336469733533, 0.9985643767078375, 0.9887984890984457, 0.9960540274070119, 0.9944099408267273, 0.9915047248097703, 0.9953134030917333, 0.8257288040792096, 0.16666085953892304, 0.9872584721169078, 0.10145700421955457, 0.33027492862961383, 0.5677274916966565, 0.9983888716971914, 0.033076655397985336, 0.3193608107391687, 0.16766442563806358, 0.25092635129506113, 0.22811486481369195, 0.9890650447584355, 0.9853516048634788, 0.9930787822661756, 0.9978171936211541, 0.9704705199044713, 0.02367001268059686, 0.9982217873468123, 0.9985774633925869, 0.9933296132964902, 0.9956713047391691, 0.9941237501470895, 0.9962349008387276, 0.2934743597964421, 0.4611739939658376, 0.039928484326046544, 0.05989272648906981, 0.14573896779006987, 0.9976570146710664, 0.9985813471370332, 0.7000826128701145, 0.29378466790085167, 0.9875545291794641, 0.9910443194977956], \"Term\": [\"#africa\", \"#coronavirus\", \"#covid\", \"#covid\", \"#covid\", \"#covid\", \"#covid\", \"#covid\", \"#covid\", \"#covidvaccination\", \"#deltavariant\", \"#india\", \"#indiafightscorona\", \"#nft\", \"#peoplesvaccine\", \"#tripswaiver\", \"#vaccinateourworld\", \"#vaccines\", \"#vownow\", \"#wecandothis\", \"across\", \"action\", \"administered\", \"africa\", \"africa\", \"africa\", \"age\", \"agenda\", \"already\", \"amp\", \"amp\", \"amp\", \"amp\", \"another\", \"another\", \"apartheid\", \"ashevak\", \"aundh\", \"australia\", \"authority\", \"based\", \"basic\", \"beautiful\", \"benefit\", \"best\", \"billion\", \"blown\", \"budget\", \"buy\", \"call\", \"capacity\", \"cause\", \"centre\", \"centre\", \"centre\", \"cheap\", \"child\", \"china\", \"code\", \"code\", \"coming\", \"committed\", \"control\", \"coronavirus\", \"covaxin\", \"coverage\", \"covid\", \"covid\", \"covid\", \"covid\", \"covid\", \"covishield\", \"crime\", \"date\", \"deadly\", \"deliver\", \"delivery\", \"delta\", \"department\", \"desperate\", \"direct\", \"directly\", \"don\", \"dos\", \"dose\", \"dose\", \"dr\", \"dr\", \"drtedros\", \"dying\", \"education\", \"elsewhere\", \"enable\", \"europe\", \"even\", \"every\", \"everyone\", \"expanded\", \"expanded\", \"expanded\", \"expect\", \"expected\", \"expired\", \"failure\", \"far\", \"fastest\", \"fight\", \"find\", \"fish\", \"free\", \"friday\", \"full\", \"full\", \"fully\", \"fund\", \"future\", \"gandhi\", \"germany\", \"givenkazeni\", \"global\", \"go\", \"good\", \"good\", \"got\", \"government\", \"government\", \"government\", \"graphic\", \"greater\", \"head\", \"head\", \"health\", \"health\", \"health\", \"help\", \"help\", \"helping\", \"hit\", \"hospital\", \"hospital\", \"huge\", \"impact\", \"increased\", \"india\", \"indian\", \"iqalutsiavak\", \"israel\", \"israel\", \"jab\", \"june\", \"june\", \"kenojuak\", \"know\", \"kuty\", \"laigude\", \"lift\", \"limit\", \"little\", \"load\", \"long\", \"many\", \"mask\", \"medical\", \"midst\", \"million\", \"min\", \"minister\", \"moderna\", \"moeti\", \"money\", \"mrna\", \"much\", \"murlidhar\", \"must\", \"myocarditis\", \"need\", \"need\", \"needed\", \"new\", \"new\", \"nigeria\", \"now\", \"now\", \"now\", \"one\", \"one\", \"ontario\", \"order\", \"outbreak\", \"overwhelm\", \"oxygen\", \"pa\", \"palestinian\", \"palestinian\", \"pandemic\", \"pandemic\", \"past\", \"patent\", \"pay\", \"people\", \"people\", \"people\", \"per\", \"personnel\", \"pin\", \"plead\", \"please\", \"pmc\", \"pmcg\", \"politician\", \"population\", \"pose\", \"positive\", \"post\", \"ppe\", \"pre\", \"production\", \"promoting\", \"provide\", \"providing\", \"public\", \"pvt\", \"question\", \"quickly\", \"re\", \"rebound\", \"register\", \"related\", \"release\", \"request\", \"response\", \"retweet\", \"rich\", \"risk\", \"rural\", \"safe\", \"said\", \"see\", \"see\", \"seen\", \"sending\", \"sent\", \"shawajason\", \"shunned\", \"sobering\", \"solution\", \"south\", \"speaks\", \"st\", \"stand\", \"still\", \"still\", \"support\", \"surging\", \"taiwan\", \"take\", \"technology\", \"text\", \"third\", \"threat\", \"today\", \"today\", \"trajectory\", \"transfer\", \"tried\", \"uganda\", \"uk\", \"un\", \"urgent\", \"urgently\", \"us\", \"us\", \"use\", \"vaccinated\", \"vaccinated\", \"vaccinated\", \"vaccination\", \"vaccine\", \"vaccine\", \"vaccine\", \"vaccine\", \"vaccine\", \"variant\", \"vax\", \"ve\", \"via\", \"virus\", \"virus\", \"war\", \"wave\", \"way\", \"week\", \"welcome\", \"well\", \"will\", \"will\", \"will\", \"will\", \"will\", \"wolfofwallst\", \"world\", \"yet\", \"yet\", \"zimbabwe\", \"zweli\"]}, \"R\": 30, \"lambda.step\": 0.01, \"plot.opts\": {\"xlab\": \"PC1\", \"ylab\": \"PC2\"}, \"topic.order\": [2, 4, 1, 6, 5, 3, 7]};\n",
       "\n",
       "function LDAvis_load_lib(url, callback){\n",
       "  var s = document.createElement('script');\n",
       "  s.src = url;\n",
       "  s.async = true;\n",
       "  s.onreadystatechange = s.onload = callback;\n",
       "  s.onerror = function(){console.warn(\"failed to load library \" + url);};\n",
       "  document.getElementsByTagName(\"head\")[0].appendChild(s);\n",
       "}\n",
       "\n",
       "if(typeof(LDAvis) !== \"undefined\"){\n",
       "   // already loaded: just create the visualization\n",
       "   !function(LDAvis){\n",
       "       new LDAvis(\"#\" + \"ldavis_el461949555985129333291446\", ldavis_el461949555985129333291446_data);\n",
       "   }(LDAvis);\n",
       "}else if(typeof define === \"function\" && define.amd){\n",
       "   // require.js is available: use it to load d3/LDAvis\n",
       "   require.config({paths: {d3: \"https://d3js.org/d3.v5\"}});\n",
       "   require([\"d3\"], function(d3){\n",
       "      window.d3 = d3;\n",
       "      LDAvis_load_lib(\"https://cdn.jsdelivr.net/gh/bmabey/pyLDAvis@3.3.1/pyLDAvis/js/ldavis.v3.0.0.js\", function(){\n",
       "        new LDAvis(\"#\" + \"ldavis_el461949555985129333291446\", ldavis_el461949555985129333291446_data);\n",
       "      });\n",
       "    });\n",
       "}else{\n",
       "    // require.js not available: dynamically load d3 & LDAvis\n",
       "    LDAvis_load_lib(\"https://d3js.org/d3.v5.js\", function(){\n",
       "         LDAvis_load_lib(\"https://cdn.jsdelivr.net/gh/bmabey/pyLDAvis@3.3.1/pyLDAvis/js/ldavis.v3.0.0.js\", function(){\n",
       "                 new LDAvis(\"#\" + \"ldavis_el461949555985129333291446\", ldavis_el461949555985129333291446_data);\n",
       "            })\n",
       "         });\n",
       "}\n",
       "</script>"
      ],
      "text/plain": [
       "<IPython.core.display.HTML object>"
      ]
     },
     "execution_count": 19,
     "metadata": {},
     "output_type": "execute_result"
    }
   ],
   "source": [
    "vis_data = gensimvis.prepare(lda_model, corpus, id2word)\n",
    "pyLDAvis.display(vis_data)\n"
   ]
  },
  {
   "cell_type": "markdown",
   "metadata": {},
   "source": [
    "##  Sentiment analysis"
   ]
  },
  {
   "cell_type": "markdown",
   "metadata": {},
   "source": [
    "### Form a new data frame (named `cleanTweet`), containing columns $\\textbf{clean-text}$ and $\\textbf{polarity}$"
   ]
  },
  {
   "cell_type": "code",
   "execution_count": 32,
   "metadata": {},
   "outputs": [],
   "source": [
    "df = pd.DataFrame(columns=['clean_text', 'polarity'])\n",
    "df['clean_text'] = tweets['original_text']\n",
    "df['polarity'] = tweets['polarity']"
   ]
  },
  {
   "cell_type": "code",
   "execution_count": 31,
   "metadata": {},
   "outputs": [],
   "source": [
    "def clean_tweet(tweet):\n",
    "    clean_tweet = re.sub(\"[^a-zA-Z]\",  \" \",  tweet)\n",
    "    return clean_tweet"
   ]
  },
  {
   "cell_type": "code",
   "execution_count": 34,
   "metadata": {},
   "outputs": [
    {
     "data": {
      "text/html": [
       "<div>\n",
       "<style scoped>\n",
       "    .dataframe tbody tr th:only-of-type {\n",
       "        vertical-align: middle;\n",
       "    }\n",
       "\n",
       "    .dataframe tbody tr th {\n",
       "        vertical-align: top;\n",
       "    }\n",
       "\n",
       "    .dataframe thead th {\n",
       "        text-align: right;\n",
       "    }\n",
       "</style>\n",
       "<table border=\"1\" class=\"dataframe\">\n",
       "  <thead>\n",
       "    <tr style=\"text-align: right;\">\n",
       "      <th></th>\n",
       "      <th>clean_text</th>\n",
       "      <th>polarity</th>\n",
       "    </tr>\n",
       "  </thead>\n",
       "  <tbody>\n",
       "    <tr>\n",
       "      <th>0</th>\n",
       "      <td>africa is  in the midst of a full blown third...</td>\n",
       "      <td>0.166667</td>\n",
       "    </tr>\n",
       "    <tr>\n",
       "      <th>1</th>\n",
       "      <td>dr moeti is head of who in africa  and one of ...</td>\n",
       "      <td>0.133333</td>\n",
       "    </tr>\n",
       "  </tbody>\n",
       "</table>\n",
       "</div>"
      ],
      "text/plain": [
       "                                          clean_text  polarity\n",
       "0   africa is  in the midst of a full blown third...  0.166667\n",
       "1  dr moeti is head of who in africa  and one of ...  0.133333"
      ]
     },
     "execution_count": 34,
     "metadata": {},
     "output_type": "execute_result"
    }
   ],
   "source": [
    "df['clean_text'] = df['clean_text'].apply(clean_tweet)\n",
    "df[:2]"
   ]
  },
  {
   "cell_type": "code",
   "execution_count": 35,
   "metadata": {},
   "outputs": [
    {
     "name": "stdout",
     "output_type": "stream",
     "text": [
      "duplicate count: 0\n"
     ]
    }
   ],
   "source": [
    "print(\"duplicate count: {}\".format(df.isnull().sum().sum()))"
   ]
  },
  {
   "cell_type": "markdown",
   "metadata": {},
   "source": [
    "### Write a function `text_category` that takes a value `p` and returns, depending on the value of p, a string `'positive'`, `'negative'` or `'neutral'`."
   ]
  },
  {
   "cell_type": "code",
   "execution_count": 37,
   "metadata": {},
   "outputs": [],
   "source": [
    "def text_category(p):\n",
    "  if p > 0:\n",
    "    return \"positive\"\n",
    "  elif p < 0:\n",
    "    return \"negative\"\n",
    "  else:\n",
    "    return \"neutral\""
   ]
  },
  {
   "cell_type": "markdown",
   "metadata": {},
   "source": [
    "### Apply this function (`text_category`) on the $\\textbf{polarity}$ column of `cleanTweet` in 1 above to form a new column called $\\textbf{score}$ in `cleanTweet`."
   ]
  },
  {
   "cell_type": "code",
   "execution_count": 38,
   "metadata": {},
   "outputs": [
    {
     "data": {
      "text/html": [
       "<div>\n",
       "<style scoped>\n",
       "    .dataframe tbody tr th:only-of-type {\n",
       "        vertical-align: middle;\n",
       "    }\n",
       "\n",
       "    .dataframe tbody tr th {\n",
       "        vertical-align: top;\n",
       "    }\n",
       "\n",
       "    .dataframe thead th {\n",
       "        text-align: right;\n",
       "    }\n",
       "</style>\n",
       "<table border=\"1\" class=\"dataframe\">\n",
       "  <thead>\n",
       "    <tr style=\"text-align: right;\">\n",
       "      <th></th>\n",
       "      <th>clean_text</th>\n",
       "      <th>polarity</th>\n",
       "    </tr>\n",
       "  </thead>\n",
       "  <tbody>\n",
       "    <tr>\n",
       "      <th>0</th>\n",
       "      <td>africa is  in the midst of a full blown third...</td>\n",
       "      <td>positive</td>\n",
       "    </tr>\n",
       "    <tr>\n",
       "      <th>1</th>\n",
       "      <td>dr moeti is head of who in africa  and one of ...</td>\n",
       "      <td>positive</td>\n",
       "    </tr>\n",
       "  </tbody>\n",
       "</table>\n",
       "</div>"
      ],
      "text/plain": [
       "                                          clean_text  polarity\n",
       "0   africa is  in the midst of a full blown third...  positive\n",
       "1  dr moeti is head of who in africa  and one of ...  positive"
      ]
     },
     "execution_count": 38,
     "metadata": {},
     "output_type": "execute_result"
    }
   ],
   "source": [
    "df[\"polarity\"] = df[\"polarity\"].apply(text_category)\n",
    "df[:2]\n"
   ]
  },
  {
   "cell_type": "markdown",
   "metadata": {},
   "source": [
    "### Visualize The $\\textbf{score}$ column using piechart and barchart"
   ]
  },
  {
   "cell_type": "code",
   "execution_count": 44,
   "metadata": {
    "id": "85WxmGNGDcBY"
   },
   "outputs": [
    {
     "data": {
      "text/plain": [
       "polarity\n",
       "negative    1277\n",
       "neutral     1829\n",
       "positive    3426\n",
       "dtype: int64"
      ]
     },
     "execution_count": 44,
     "metadata": {},
     "output_type": "execute_result"
    }
   ],
   "source": [
    "category = df.groupby(['polarity']).size()\n",
    "category"
   ]
  },
  {
   "cell_type": "markdown",
   "metadata": {},
   "source": [
    "## build a classification model on the clean tweet."
   ]
  },
  {
   "cell_type": "markdown",
   "metadata": {},
   "source": [
    "### Remove rows from `cleanTweet` where $\\textbf{polarity}$ $= 0$ (i.e where $\\textbf{score}$ = Neutral) and reset the frame index."
   ]
  },
  {
   "cell_type": "code",
   "execution_count": 51,
   "metadata": {},
   "outputs": [
    {
     "data": {
      "text/html": [
       "<div>\n",
       "<style scoped>\n",
       "    .dataframe tbody tr th:only-of-type {\n",
       "        vertical-align: middle;\n",
       "    }\n",
       "\n",
       "    .dataframe tbody tr th {\n",
       "        vertical-align: top;\n",
       "    }\n",
       "\n",
       "    .dataframe thead th {\n",
       "        text-align: right;\n",
       "    }\n",
       "</style>\n",
       "<table border=\"1\" class=\"dataframe\">\n",
       "  <thead>\n",
       "    <tr style=\"text-align: right;\">\n",
       "      <th></th>\n",
       "      <th>clean_text</th>\n",
       "      <th>polarity</th>\n",
       "    </tr>\n",
       "  </thead>\n",
       "  <tbody>\n",
       "    <tr>\n",
       "      <th>0</th>\n",
       "      <td>africa is  in the midst of a full blown third...</td>\n",
       "      <td>positive</td>\n",
       "    </tr>\n",
       "    <tr>\n",
       "      <th>1</th>\n",
       "      <td>dr moeti is head of who in africa  and one of ...</td>\n",
       "      <td>positive</td>\n",
       "    </tr>\n",
       "    <tr>\n",
       "      <th>2</th>\n",
       "      <td>thank you  research note for creating this ama...</td>\n",
       "      <td>positive</td>\n",
       "    </tr>\n",
       "    <tr>\n",
       "      <th>3</th>\n",
       "      <td>former pfizer vp and virologist  dr  michael y...</td>\n",
       "      <td>positive</td>\n",
       "    </tr>\n",
       "    <tr>\n",
       "      <th>4</th>\n",
       "      <td>i think it s important that we don t sell cova...</td>\n",
       "      <td>positive</td>\n",
       "    </tr>\n",
       "    <tr>\n",
       "      <th>...</th>\n",
       "      <td>...</td>\n",
       "      <td>...</td>\n",
       "    </tr>\n",
       "    <tr>\n",
       "      <th>6524</th>\n",
       "      <td>covid   vaccines reach the remotest places of ...</td>\n",
       "      <td>negative</td>\n",
       "    </tr>\n",
       "    <tr>\n",
       "      <th>6526</th>\n",
       "      <td>although there is not yet a vaccine for kids t...</td>\n",
       "      <td>positive</td>\n",
       "    </tr>\n",
       "    <tr>\n",
       "      <th>6528</th>\n",
       "      <td>former pfizer vp and virologist  dr  michael y...</td>\n",
       "      <td>positive</td>\n",
       "    </tr>\n",
       "    <tr>\n",
       "      <th>6529</th>\n",
       "      <td>jenfeds    dcrinyyc respectfully  veterinaria...</td>\n",
       "      <td>positive</td>\n",
       "    </tr>\n",
       "    <tr>\n",
       "      <th>6530</th>\n",
       "      <td>africa needs millions more doses here  amp  n...</td>\n",
       "      <td>positive</td>\n",
       "    </tr>\n",
       "  </tbody>\n",
       "</table>\n",
       "<p>4703 rows × 2 columns</p>\n",
       "</div>"
      ],
      "text/plain": [
       "                                             clean_text  polarity\n",
       "0      africa is  in the midst of a full blown third...  positive\n",
       "1     dr moeti is head of who in africa  and one of ...  positive\n",
       "2     thank you  research note for creating this ama...  positive\n",
       "3     former pfizer vp and virologist  dr  michael y...  positive\n",
       "4     i think it s important that we don t sell cova...  positive\n",
       "...                                                 ...       ...\n",
       "6524  covid   vaccines reach the remotest places of ...  negative\n",
       "6526  although there is not yet a vaccine for kids t...  positive\n",
       "6528  former pfizer vp and virologist  dr  michael y...  positive\n",
       "6529   jenfeds    dcrinyyc respectfully  veterinaria...  positive\n",
       "6530   africa needs millions more doses here  amp  n...  positive\n",
       "\n",
       "[4703 rows x 2 columns]"
      ]
     },
     "execution_count": 51,
     "metadata": {},
     "output_type": "execute_result"
    }
   ],
   "source": [
    "df = df[df['polarity'] != 'neutral']\n",
    "df\n"
   ]
  },
  {
   "cell_type": "markdown",
   "metadata": {},
   "source": [
    "### Construct a column $\\textbf{scoremap}$ Use the mapping {'positive':1, 'negative':0} on the $\\textbf{score}$ column"
   ]
  },
  {
   "cell_type": "code",
   "execution_count": 52,
   "metadata": {},
   "outputs": [
    {
     "data": {
      "text/html": [
       "<div>\n",
       "<style scoped>\n",
       "    .dataframe tbody tr th:only-of-type {\n",
       "        vertical-align: middle;\n",
       "    }\n",
       "\n",
       "    .dataframe tbody tr th {\n",
       "        vertical-align: top;\n",
       "    }\n",
       "\n",
       "    .dataframe thead th {\n",
       "        text-align: right;\n",
       "    }\n",
       "</style>\n",
       "<table border=\"1\" class=\"dataframe\">\n",
       "  <thead>\n",
       "    <tr style=\"text-align: right;\">\n",
       "      <th></th>\n",
       "      <th>clean_text</th>\n",
       "      <th>polarity</th>\n",
       "      <th>scoremap</th>\n",
       "    </tr>\n",
       "  </thead>\n",
       "  <tbody>\n",
       "    <tr>\n",
       "      <th>0</th>\n",
       "      <td>africa is  in the midst of a full blown third...</td>\n",
       "      <td>positive</td>\n",
       "      <td>1</td>\n",
       "    </tr>\n",
       "    <tr>\n",
       "      <th>1</th>\n",
       "      <td>dr moeti is head of who in africa  and one of ...</td>\n",
       "      <td>positive</td>\n",
       "      <td>1</td>\n",
       "    </tr>\n",
       "    <tr>\n",
       "      <th>2</th>\n",
       "      <td>thank you  research note for creating this ama...</td>\n",
       "      <td>positive</td>\n",
       "      <td>1</td>\n",
       "    </tr>\n",
       "    <tr>\n",
       "      <th>3</th>\n",
       "      <td>former pfizer vp and virologist  dr  michael y...</td>\n",
       "      <td>positive</td>\n",
       "      <td>1</td>\n",
       "    </tr>\n",
       "    <tr>\n",
       "      <th>4</th>\n",
       "      <td>i think it s important that we don t sell cova...</td>\n",
       "      <td>positive</td>\n",
       "      <td>1</td>\n",
       "    </tr>\n",
       "    <tr>\n",
       "      <th>...</th>\n",
       "      <td>...</td>\n",
       "      <td>...</td>\n",
       "      <td>...</td>\n",
       "    </tr>\n",
       "    <tr>\n",
       "      <th>6524</th>\n",
       "      <td>covid   vaccines reach the remotest places of ...</td>\n",
       "      <td>negative</td>\n",
       "      <td>0</td>\n",
       "    </tr>\n",
       "    <tr>\n",
       "      <th>6526</th>\n",
       "      <td>although there is not yet a vaccine for kids t...</td>\n",
       "      <td>positive</td>\n",
       "      <td>1</td>\n",
       "    </tr>\n",
       "    <tr>\n",
       "      <th>6528</th>\n",
       "      <td>former pfizer vp and virologist  dr  michael y...</td>\n",
       "      <td>positive</td>\n",
       "      <td>1</td>\n",
       "    </tr>\n",
       "    <tr>\n",
       "      <th>6529</th>\n",
       "      <td>jenfeds    dcrinyyc respectfully  veterinaria...</td>\n",
       "      <td>positive</td>\n",
       "      <td>1</td>\n",
       "    </tr>\n",
       "    <tr>\n",
       "      <th>6530</th>\n",
       "      <td>africa needs millions more doses here  amp  n...</td>\n",
       "      <td>positive</td>\n",
       "      <td>1</td>\n",
       "    </tr>\n",
       "  </tbody>\n",
       "</table>\n",
       "<p>4703 rows × 3 columns</p>\n",
       "</div>"
      ],
      "text/plain": [
       "                                             clean_text  polarity  scoremap\n",
       "0      africa is  in the midst of a full blown third...  positive         1\n",
       "1     dr moeti is head of who in africa  and one of ...  positive         1\n",
       "2     thank you  research note for creating this ama...  positive         1\n",
       "3     former pfizer vp and virologist  dr  michael y...  positive         1\n",
       "4     i think it s important that we don t sell cova...  positive         1\n",
       "...                                                 ...       ...       ...\n",
       "6524  covid   vaccines reach the remotest places of ...  negative         0\n",
       "6526  although there is not yet a vaccine for kids t...  positive         1\n",
       "6528  former pfizer vp and virologist  dr  michael y...  positive         1\n",
       "6529   jenfeds    dcrinyyc respectfully  veterinaria...  positive         1\n",
       "6530   africa needs millions more doses here  amp  n...  positive         1\n",
       "\n",
       "[4703 rows x 3 columns]"
      ]
     },
     "execution_count": 52,
     "metadata": {},
     "output_type": "execute_result"
    }
   ],
   "source": [
    "df['scoremap'] = df[\"polarity\"].map( lambda score: 1 if score == \"positive\" else 0)\n",
    "df"
   ]
  },
  {
   "cell_type": "markdown",
   "metadata": {},
   "source": [
    "### Create feature and target variables `(X,y)` from $\\textbf{clean-text}$ and $\\textbf{scoremap}$ columns respectively."
   ]
  },
  {
   "cell_type": "code",
   "execution_count": 55,
   "metadata": {},
   "outputs": [],
   "source": [
    "(X, y) = df['clean_text'], df['scoremap']\n"
   ]
  },
  {
   "cell_type": "markdown",
   "metadata": {},
   "source": [
    "### Use `train_test_split` function to construct `(X_train, y_train)` and `(X_test, y_test)` from `(X,y)`"
   ]
  },
  {
   "cell_type": "code",
   "execution_count": 56,
   "metadata": {},
   "outputs": [],
   "source": [
    "from sklearn.model_selection import train_test_split"
   ]
  },
  {
   "cell_type": "code",
   "execution_count": 57,
   "metadata": {},
   "outputs": [],
   "source": [
    "X_train, X_test, y_train, y_test = train_test_split(X, y, test_size=0.2)"
   ]
  },
  {
   "cell_type": "markdown",
   "metadata": {},
   "source": [
    "## Build an `SGDClassifier` model from the vectorize train text data. Use `CountVectorizer()` with a $\\textit{trigram}$ parameter and Evaluate your model on the test data."
   ]
  },
  {
   "cell_type": "code",
   "execution_count": 58,
   "metadata": {},
   "outputs": [],
   "source": [
    "from sklearn.feature_extraction.text import CountVectorizer, TfidfTransformer\n",
    "from joblib import dump, load # used for saving and loading sklearn objects\n",
    "from scipy.sparse import save_npz, load_npz # used for saving and loading sparse matrices\n",
    "from sklearn.decomposition import NMF, LatentDirichletAllocation\n",
    "from sklearn.linear_model import SGDClassifier\n",
    "from sklearn.model_selection import train_test_split"
   ]
  },
  {
   "cell_type": "code",
   "execution_count": 60,
   "metadata": {},
   "outputs": [],
   "source": [
    "trigram_vectorizer = CountVectorizer(ngram_range=(1, 3))\n",
    "trigram_vectorizer.fit_transform(X.values)\n",
    "X_trigram = trigram_vectorizer.transform(X)\n",
    "\n",
    "\n",
    "def train_and_show_scores(X, y, title: str) -> None:\n",
    "    X_train, X_valid, y_train, y_valid = train_test_split(\n",
    "        X, y, train_size=0.75, stratify=y\n",
    "    )\n",
    "\n",
    "    clf = SGDClassifier()\n",
    "    clf.fit(X_train, y_train)\n",
    "    train_score = clf.score(X_train, y_train)\n",
    "    valid_score = clf.score(X_valid, y_valid)\n",
    "    print(f'{title}\\nTrain score: {round(train_score, 2)} ; Validation score: {round(valid_score, 2)}\\n')"
   ]
  },
  {
   "cell_type": "code",
   "execution_count": 62,
   "metadata": {},
   "outputs": [
    {
     "name": "stdout",
     "output_type": "stream",
     "text": [
      "sentiment\n",
      "Train score: 1.0 ; Validation score: 0.96\n",
      "\n"
     ]
    }
   ],
   "source": [
    "train_and_show_scores(X_trigram, df['scoremap'], title=\"sentiment\")"
   ]
  }
 ],
 "metadata": {
  "interpreter": {
   "hash": "aee8b7b246df8f9039afb4144a1f6fd8d2ca17a180786b69acc140d282b71a49"
  },
  "kernelspec": {
   "display_name": "Python 3.9.5 64-bit",
   "name": "python3"
  },
  "language_info": {
   "codemirror_mode": {
    "name": "ipython",
    "version": 3
   },
   "file_extension": ".py",
   "mimetype": "text/x-python",
   "name": "python",
   "nbconvert_exporter": "python",
   "pygments_lexer": "ipython3",
   "version": "3.9.5"
  },
  "orig_nbformat": 4
 },
 "nbformat": 4,
 "nbformat_minor": 2
}