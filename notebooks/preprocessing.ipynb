{
 "cells": [
  {
   "cell_type": "markdown",
   "metadata": {},
   "source": [
    "# Data exploration and pre-processing"
   ]
  },
  {
   "cell_type": "markdown",
   "metadata": {},
   "source": [
    "## Data reading "
   ]
  },
  {
   "cell_type": "code",
   "execution_count": 1,
   "metadata": {},
   "outputs": [],
   "source": [
    "import re\n",
    "import pandas as pd\n",
    "import warnings\n",
    "warnings.filterwarnings('ignore')"
   ]
  },
  {
   "cell_type": "code",
   "execution_count": 2,
   "metadata": {},
   "outputs": [
    {
     "data": {
      "text/html": [
       "<div>\n",
       "<style scoped>\n",
       "    .dataframe tbody tr th:only-of-type {\n",
       "        vertical-align: middle;\n",
       "    }\n",
       "\n",
       "    .dataframe tbody tr th {\n",
       "        vertical-align: top;\n",
       "    }\n",
       "\n",
       "    .dataframe thead th {\n",
       "        text-align: right;\n",
       "    }\n",
       "</style>\n",
       "<table border=\"1\" class=\"dataframe\">\n",
       "  <thead>\n",
       "    <tr style=\"text-align: right;\">\n",
       "      <th></th>\n",
       "      <th>created_at</th>\n",
       "      <th>source</th>\n",
       "      <th>original_text</th>\n",
       "      <th>polarity</th>\n",
       "      <th>subjectivity</th>\n",
       "      <th>lang</th>\n",
       "      <th>favorite_count</th>\n",
       "      <th>retweet_count</th>\n",
       "      <th>original_author</th>\n",
       "      <th>followers_count</th>\n",
       "      <th>friends_count</th>\n",
       "      <th>possibly_sensitive</th>\n",
       "      <th>hashtags</th>\n",
       "      <th>user_mentions</th>\n",
       "      <th>place</th>\n",
       "    </tr>\n",
       "  </thead>\n",
       "  <tbody>\n",
       "    <tr>\n",
       "      <th>0</th>\n",
       "      <td>Fri Jun 18 17:55:49 +0000 2021</td>\n",
       "      <td>&lt;a href=\"http://twitter.com/download/iphone\" r...</td>\n",
       "      <td>🚨Africa is \"in the midst of a full-blown third...</td>\n",
       "      <td>0.166667</td>\n",
       "      <td>0.188889</td>\n",
       "      <td>en</td>\n",
       "      <td>548</td>\n",
       "      <td>612</td>\n",
       "      <td>ketuesriche</td>\n",
       "      <td>551</td>\n",
       "      <td>351</td>\n",
       "      <td>False</td>\n",
       "      <td>[]</td>\n",
       "      <td>[{'screen_name': 'TelGlobalHealth', 'name': 'T...</td>\n",
       "      <td>Mass</td>\n",
       "    </tr>\n",
       "    <tr>\n",
       "      <th>1</th>\n",
       "      <td>Fri Jun 18 17:55:59 +0000 2021</td>\n",
       "      <td>&lt;a href=\"https://mobile.twitter.com\" rel=\"nofo...</td>\n",
       "      <td>Dr Moeti is head of WHO in Africa, and one of ...</td>\n",
       "      <td>0.133333</td>\n",
       "      <td>0.455556</td>\n",
       "      <td>en</td>\n",
       "      <td>195</td>\n",
       "      <td>92</td>\n",
       "      <td>Grid1949</td>\n",
       "      <td>66</td>\n",
       "      <td>92</td>\n",
       "      <td>False</td>\n",
       "      <td>[]</td>\n",
       "      <td>[{'screen_name': 'globalhlthtwit', 'name': 'An...</td>\n",
       "      <td>Edinburgh, Scotland</td>\n",
       "    </tr>\n",
       "  </tbody>\n",
       "</table>\n",
       "</div>"
      ],
      "text/plain": [
       "                       created_at  \\\n",
       "0  Fri Jun 18 17:55:49 +0000 2021   \n",
       "1  Fri Jun 18 17:55:59 +0000 2021   \n",
       "\n",
       "                                              source  \\\n",
       "0  <a href=\"http://twitter.com/download/iphone\" r...   \n",
       "1  <a href=\"https://mobile.twitter.com\" rel=\"nofo...   \n",
       "\n",
       "                                       original_text  polarity  subjectivity  \\\n",
       "0  🚨Africa is \"in the midst of a full-blown third...  0.166667      0.188889   \n",
       "1  Dr Moeti is head of WHO in Africa, and one of ...  0.133333      0.455556   \n",
       "\n",
       "  lang  favorite_count  retweet_count original_author  followers_count  \\\n",
       "0   en             548            612     ketuesriche              551   \n",
       "1   en             195             92        Grid1949               66   \n",
       "\n",
       "   friends_count possibly_sensitive hashtags  \\\n",
       "0            351              False       []   \n",
       "1             92              False       []   \n",
       "\n",
       "                                       user_mentions                place  \n",
       "0  [{'screen_name': 'TelGlobalHealth', 'name': 'T...                 Mass  \n",
       "1  [{'screen_name': 'globalhlthtwit', 'name': 'An...  Edinburgh, Scotland  "
      ]
     },
     "execution_count": 2,
     "metadata": {},
     "output_type": "execute_result"
    }
   ],
   "source": [
    "tweets = pd.read_csv(\"../processed_tweet_data.csv\")\n",
    "tweets[:2]"
   ]
  },
  {
   "cell_type": "code",
   "execution_count": 3,
   "metadata": {},
   "outputs": [
    {
     "name": "stdout",
     "output_type": "stream",
     "text": [
      "<class 'pandas.core.frame.DataFrame'>\n",
      "RangeIndex: 6532 entries, 0 to 6531\n",
      "Data columns (total 15 columns):\n",
      " #   Column              Non-Null Count  Dtype  \n",
      "---  ------              --------------  -----  \n",
      " 0   created_at          6532 non-null   object \n",
      " 1   source              6532 non-null   object \n",
      " 2   original_text       6532 non-null   object \n",
      " 3   polarity            6532 non-null   float64\n",
      " 4   subjectivity        6532 non-null   float64\n",
      " 5   lang                6532 non-null   object \n",
      " 6   favorite_count      6532 non-null   int64  \n",
      " 7   retweet_count       6532 non-null   int64  \n",
      " 8   original_author     6532 non-null   object \n",
      " 9   followers_count     6532 non-null   int64  \n",
      " 10  friends_count       6532 non-null   int64  \n",
      " 11  possibly_sensitive  3618 non-null   object \n",
      " 12  hashtags            6532 non-null   object \n",
      " 13  user_mentions       6532 non-null   object \n",
      " 14  place               4088 non-null   object \n",
      "dtypes: float64(2), int64(4), object(9)\n",
      "memory usage: 765.6+ KB\n"
     ]
    }
   ],
   "source": [
    "tweets.info()"
   ]
  },
  {
   "cell_type": "code",
   "execution_count": 4,
   "metadata": {},
   "outputs": [
    {
     "name": "stdout",
     "output_type": "stream",
     "text": [
      "The number of missing value(s): 5358\n",
      "Columons having columns value: Index(['possibly_sensitive', 'place'], dtype='object')\n"
     ]
    }
   ],
   "source": [
    "print(\"The number of missing value(s): {}\".format(tweets.isnull().sum().sum()))\n",
    "print(\"Columons having columns value: {}\".format(tweets.columns[tweets.isnull().any()]))"
   ]
  },
  {
   "cell_type": "markdown",
   "metadata": {},
   "source": [
    "## Pre-processing"
   ]
  },
  {
   "cell_type": "code",
   "execution_count": 5,
   "metadata": {},
   "outputs": [],
   "source": [
    "sys.path.append(os.path.abspath(os.path.join('..')))\n",
    "\n",
    "from clean_tweets_dataframe import Clean_Tweets"
   ]
  },
  {
   "cell_type": "code",
   "execution_count": 6,
   "metadata": {},
   "outputs": [
    {
     "name": "stdout",
     "output_type": "stream",
     "text": [
      "Automation in Action...!!!\n"
     ]
    }
   ],
   "source": [
    "ct = Clean_Tweets(tweets)"
   ]
  },
  {
   "cell_type": "markdown",
   "metadata": {},
   "source": [
    "### Drop unwanted columns"
   ]
  },
  {
   "cell_type": "code",
   "execution_count": 7,
   "metadata": {},
   "outputs": [
    {
     "name": "stdout",
     "output_type": "stream",
     "text": [
      "Shape of tweets before droping unwanted tweets (6532, 15)\n",
      "Shape of tweets after droping unwanted tweets (6532, 15)\n"
     ]
    }
   ],
   "source": [
    "print(f\"Shape of tweets before droping unwanted tweets {tweets.shape}\")\n",
    "tweets = ct.drop_unwanted_column(tweets)\n",
    "print(f\"Shape of tweets after droping unwanted tweets {tweets.shape}\")"
   ]
  },
  {
   "cell_type": "markdown",
   "metadata": {},
   "source": [
    "this indicates all values of retweet_count column are valid bc no row was dropped"
   ]
  },
  {
   "cell_type": "markdown",
   "metadata": {},
   "source": [
    "### Drop duplicate"
   ]
  },
  {
   "cell_type": "code",
   "execution_count": 8,
   "metadata": {},
   "outputs": [
    {
     "name": "stdout",
     "output_type": "stream",
     "text": [
      "Shape of tweets before droping duplicates tweets (6532, 15)\n",
      "Shape of tweets after droping duplicates tweets (6532, 15)\n"
     ]
    }
   ],
   "source": [
    "print(f\"Shape of tweets before droping duplicates tweets {tweets.shape}\")\n",
    "ct.drop_duplicate(tweets)\n",
    "print(f\"Shape of tweets after droping duplicates tweets {tweets.shape}\")"
   ]
  },
  {
   "cell_type": "markdown",
   "metadata": {},
   "source": [
    "this indicates there aren't duplicate values in the data"
   ]
  },
  {
   "cell_type": "markdown",
   "metadata": {},
   "source": [
    "### Convert Created time to date time"
   ]
  },
  {
   "cell_type": "code",
   "execution_count": 9,
   "metadata": {},
   "outputs": [
    {
     "name": "stdout",
     "output_type": "stream",
     "text": [
      "The first row created time before conversion Fri Jun 18 17:55:49 +0000 2021\n",
      "The first row created time after conversion 2021-06-18 17:55:49+00:00\n"
     ]
    }
   ],
   "source": [
    "print(f\"The first row created time before conversion {tweets.created_at[0]}\")\n",
    "tweets = ct.convert_to_datetime(tweets)\n",
    "print(f\"The first row created time after conversion {tweets.created_at[0]}\")"
   ]
  },
  {
   "cell_type": "markdown",
   "metadata": {},
   "source": [
    "### Convert numeric values to number"
   ]
  },
  {
   "cell_type": "code",
   "execution_count": 10,
   "metadata": {},
   "outputs": [],
   "source": [
    "tweets = ct.convert_to_numbers(tweets)"
   ]
  },
  {
   "cell_type": "markdown",
   "metadata": {},
   "source": [
    "### Remove non english tweets\n"
   ]
  },
  {
   "cell_type": "code",
   "execution_count": 11,
   "metadata": {},
   "outputs": [
    {
     "name": "stdout",
     "output_type": "stream",
     "text": [
      "Shape of tweets before removing non english tweets (6532, 17)\n",
      "Shape of tweets after removing non english tweets (6532, 17)\n"
     ]
    }
   ],
   "source": [
    "print(f\"Shape of tweets before removing non english tweets {tweets.shape}\")\n",
    "tweets = ct.remove_non_english_tweets(tweets)\n",
    "print(f\"Shape of tweets after removing non english tweets {tweets.shape}\")"
   ]
  },
  {
   "cell_type": "markdown",
   "metadata": {},
   "source": [
    "### Removing Punctuations, Numbers, and Special Characters"
   ]
  },
  {
   "cell_type": "code",
   "execution_count": 12,
   "metadata": {},
   "outputs": [
    {
     "data": {
      "text/html": [
       "<div>\n",
       "<style scoped>\n",
       "    .dataframe tbody tr th:only-of-type {\n",
       "        vertical-align: middle;\n",
       "    }\n",
       "\n",
       "    .dataframe tbody tr th {\n",
       "        vertical-align: top;\n",
       "    }\n",
       "\n",
       "    .dataframe thead th {\n",
       "        text-align: right;\n",
       "    }\n",
       "</style>\n",
       "<table border=\"1\" class=\"dataframe\">\n",
       "  <thead>\n",
       "    <tr style=\"text-align: right;\">\n",
       "      <th></th>\n",
       "      <th>created_at</th>\n",
       "      <th>source</th>\n",
       "      <th>original_text</th>\n",
       "      <th>polarity</th>\n",
       "      <th>subjectivity</th>\n",
       "      <th>lang</th>\n",
       "      <th>favorite_count</th>\n",
       "      <th>retweet_count</th>\n",
       "      <th>original_author</th>\n",
       "      <th>followers_count</th>\n",
       "      <th>friends_count</th>\n",
       "      <th>possibly_sensitive</th>\n",
       "      <th>hashtags</th>\n",
       "      <th>user_mentions</th>\n",
       "      <th>place</th>\n",
       "      <th>friends_count</th>\n",
       "      <th>follower_count</th>\n",
       "    </tr>\n",
       "  </thead>\n",
       "  <tbody>\n",
       "    <tr>\n",
       "      <th>0</th>\n",
       "      <td>2021-06-18 17:55:49+00:00</td>\n",
       "      <td>&lt;a href=\"http://twitter.com/download/iphone\" r...</td>\n",
       "      <td>Africa is  in the midst of a full blown third...</td>\n",
       "      <td>0.166667</td>\n",
       "      <td>0.188889</td>\n",
       "      <td>en</td>\n",
       "      <td>548</td>\n",
       "      <td>0.166667</td>\n",
       "      <td>ketuesriche</td>\n",
       "      <td>551</td>\n",
       "      <td>351</td>\n",
       "      <td>False</td>\n",
       "      <td>[]</td>\n",
       "      <td>[{'screen_name': 'TelGlobalHealth', 'name': 'T...</td>\n",
       "      <td>Mass</td>\n",
       "      <td>0.166667</td>\n",
       "      <td>0.166667</td>\n",
       "    </tr>\n",
       "    <tr>\n",
       "      <th>1</th>\n",
       "      <td>2021-06-18 17:55:59+00:00</td>\n",
       "      <td>&lt;a href=\"https://mobile.twitter.com\" rel=\"nofo...</td>\n",
       "      <td>Dr Moeti is head of WHO in Africa  and one of ...</td>\n",
       "      <td>0.133333</td>\n",
       "      <td>0.455556</td>\n",
       "      <td>en</td>\n",
       "      <td>195</td>\n",
       "      <td>0.133333</td>\n",
       "      <td>Grid1949</td>\n",
       "      <td>66</td>\n",
       "      <td>92</td>\n",
       "      <td>False</td>\n",
       "      <td>[]</td>\n",
       "      <td>[{'screen_name': 'globalhlthtwit', 'name': 'An...</td>\n",
       "      <td>Edinburgh, Scotland</td>\n",
       "      <td>0.133333</td>\n",
       "      <td>0.133333</td>\n",
       "    </tr>\n",
       "  </tbody>\n",
       "</table>\n",
       "</div>"
      ],
      "text/plain": [
       "                 created_at  \\\n",
       "0 2021-06-18 17:55:49+00:00   \n",
       "1 2021-06-18 17:55:59+00:00   \n",
       "\n",
       "                                              source  \\\n",
       "0  <a href=\"http://twitter.com/download/iphone\" r...   \n",
       "1  <a href=\"https://mobile.twitter.com\" rel=\"nofo...   \n",
       "\n",
       "                                       original_text  polarity  subjectivity  \\\n",
       "0   Africa is  in the midst of a full blown third...  0.166667      0.188889   \n",
       "1  Dr Moeti is head of WHO in Africa  and one of ...  0.133333      0.455556   \n",
       "\n",
       "  lang  favorite_count  retweet_count original_author  followers_count  \\\n",
       "0   en             548       0.166667     ketuesriche              551   \n",
       "1   en             195       0.133333        Grid1949               66   \n",
       "\n",
       "   friends_count possibly_sensitive hashtags  \\\n",
       "0            351              False       []   \n",
       "1             92              False       []   \n",
       "\n",
       "                                       user_mentions                place  \\\n",
       "0  [{'screen_name': 'TelGlobalHealth', 'name': 'T...                 Mass   \n",
       "1  [{'screen_name': 'globalhlthtwit', 'name': 'An...  Edinburgh, Scotland   \n",
       "\n",
       "   friends_count   follower_count  \n",
       "0        0.166667        0.166667  \n",
       "1        0.133333        0.133333  "
      ]
     },
     "execution_count": 12,
     "metadata": {},
     "output_type": "execute_result"
    }
   ],
   "source": [
    "tweets['original_text'] = tweets['original_text'].str.replace(\"[^a-zA-Z#]\", \" \")\n",
    "tweets[:2]"
   ]
  },
  {
   "cell_type": "markdown",
   "metadata": {},
   "source": [
    "### Save cleaned data"
   ]
  },
  {
   "cell_type": "code",
   "execution_count": 13,
   "metadata": {},
   "outputs": [],
   "source": [
    "tweets.to_csv(r'clean_tweets.csv')"
   ]
  },
  {
   "cell_type": "markdown",
   "metadata": {},
   "source": [
    "## Data exploration "
   ]
  },
  {
   "cell_type": "markdown",
   "metadata": {},
   "source": [
    "### Rows and columns in the dataset"
   ]
  },
  {
   "cell_type": "code",
   "execution_count": 14,
   "metadata": {},
   "outputs": [],
   "source": [
    "tweets = pd.read_csv(\"clean_tweets.csv\")"
   ]
  },
  {
   "cell_type": "code",
   "execution_count": 15,
   "metadata": {},
   "outputs": [
    {
     "name": "stdout",
     "output_type": "stream",
     "text": [
      "Count of columns in the data is:   18\n",
      "Count of rows in the data is:   6532\n"
     ]
    }
   ],
   "source": [
    "print('Count of columns in the data is:  ', len(tweets.columns))\n",
    "print('Count of rows in the data is:  ', len(tweets))"
   ]
  },
  {
   "cell_type": "markdown",
   "metadata": {},
   "source": [
    "### Users that made the tweets"
   ]
  },
  {
   "cell_type": "code",
   "execution_count": 16,
   "metadata": {},
   "outputs": [
    {
     "data": {
      "text/plain": [
       "count     5248.000000\n",
       "min          1.000000\n",
       "max        530.000000\n",
       "mean         1.244665\n",
       "median       1.000000\n",
       "dtype: float64"
      ]
     },
     "execution_count": 16,
     "metadata": {},
     "output_type": "execute_result"
    }
   ],
   "source": [
    "tweets.groupby(\"original_author\").size().agg( ['count', 'min', 'max', 'mean', 'median'])"
   ]
  },
  {
   "cell_type": "markdown",
   "metadata": {},
   "source": [
    "From this we can observe the tweets were made by 5248. Most of them had made the tweet once and \n",
    "the person with the most tweet had made 530 tweets."
   ]
  },
  {
   "cell_type": "code",
   "execution_count": 17,
   "metadata": {},
   "outputs": [
    {
     "data": {
      "text/plain": [
       "original_author\n",
       "PuneUpdater        530\n",
       "viralvideovlogs     45\n",
       "Signal__Pump        27\n",
       "WHO__India          27\n",
       "Rosenchild          11\n",
       "dtype: int64"
      ]
     },
     "execution_count": 17,
     "metadata": {},
     "output_type": "execute_result"
    }
   ],
   "source": [
    "twetter_users = tweets.groupby(\"original_author\").size()\n",
    "twetter_users.nlargest(5)"
   ]
  },
  {
   "cell_type": "markdown",
   "metadata": {},
   "source": [
    "This indicates the person who made 530 tweets is an outlier."
   ]
  },
  {
   "cell_type": "markdown",
   "metadata": {},
   "source": [
    "### Tweet sentiments"
   ]
  },
  {
   "cell_type": "code",
   "execution_count": 18,
   "metadata": {},
   "outputs": [],
   "source": [
    "def text_category(p):\n",
    "  if p > 0:\n",
    "    return \"positive\"\n",
    "  elif p < 0:\n",
    "    return \"negative\"\n",
    "  else:\n",
    "    return \"neutral\" "
   ]
  },
  {
   "cell_type": "code",
   "execution_count": 19,
   "metadata": {},
   "outputs": [
    {
     "data": {
      "text/plain": [
       "score\n",
       "negative    1277\n",
       "neutral     1829\n",
       "positive    3426\n",
       "Name: polarity, dtype: int64"
      ]
     },
     "execution_count": 19,
     "metadata": {},
     "output_type": "execute_result"
    }
   ],
   "source": [
    "tweets[\"score\"] = tweets[\"polarity\"].apply(text_category)\n",
    "tweets.groupby(\"score\")[\"polarity\"].count()\n"
   ]
  },
  {
   "cell_type": "code",
   "execution_count": 20,
   "metadata": {},
   "outputs": [
    {
     "data": {
      "text/html": [
       "<div>\n",
       "<style scoped>\n",
       "    .dataframe tbody tr th:only-of-type {\n",
       "        vertical-align: middle;\n",
       "    }\n",
       "\n",
       "    .dataframe tbody tr th {\n",
       "        vertical-align: top;\n",
       "    }\n",
       "\n",
       "    .dataframe thead th {\n",
       "        text-align: right;\n",
       "    }\n",
       "</style>\n",
       "<table border=\"1\" class=\"dataframe\">\n",
       "  <thead>\n",
       "    <tr style=\"text-align: right;\">\n",
       "      <th></th>\n",
       "      <th>favorite_count</th>\n",
       "      <th>followers_count</th>\n",
       "      <th>friends_count</th>\n",
       "    </tr>\n",
       "    <tr>\n",
       "      <th>score</th>\n",
       "      <th></th>\n",
       "      <th></th>\n",
       "      <th></th>\n",
       "    </tr>\n",
       "  </thead>\n",
       "  <tbody>\n",
       "    <tr>\n",
       "      <th>negative</th>\n",
       "      <td>159704</td>\n",
       "      <td>10157572</td>\n",
       "      <td>1278012</td>\n",
       "    </tr>\n",
       "    <tr>\n",
       "      <th>neutral</th>\n",
       "      <td>396722</td>\n",
       "      <td>36775025</td>\n",
       "      <td>2520950</td>\n",
       "    </tr>\n",
       "    <tr>\n",
       "      <th>positive</th>\n",
       "      <td>1030171</td>\n",
       "      <td>60839857</td>\n",
       "      <td>7355421</td>\n",
       "    </tr>\n",
       "  </tbody>\n",
       "</table>\n",
       "</div>"
      ],
      "text/plain": [
       "          favorite_count  followers_count  friends_count\n",
       "score                                                   \n",
       "negative          159704         10157572        1278012\n",
       "neutral           396722         36775025        2520950\n",
       "positive         1030171         60839857        7355421"
      ]
     },
     "execution_count": 20,
     "metadata": {},
     "output_type": "execute_result"
    }
   ],
   "source": [
    "tweet_sent = tweets.groupby(['score']).sum(\n",
    ")[[\"favorite_count\", \"followers_count\", \"friends_count\"]]\n",
    "tweet_sent"
   ]
  },
  {
   "cell_type": "markdown",
   "metadata": {},
   "source": [
    "We can observe positive tweets are more liked, people whith more followers and freands had made a positive tweet obout covid19."
   ]
  },
  {
   "cell_type": "markdown",
   "metadata": {},
   "source": [
    "### Hashtags"
   ]
  },
  {
   "cell_type": "code",
   "execution_count": null,
   "metadata": {},
   "outputs": [],
   "source": []
  },
  {
   "cell_type": "markdown",
   "metadata": {},
   "source": [
    "## Visualisations"
   ]
  },
  {
   "cell_type": "markdown",
   "metadata": {},
   "source": [
    "## Save the Data"
   ]
  },
  {
   "cell_type": "markdown",
   "metadata": {},
   "source": [
    "missing values"
   ]
  },
  {
   "cell_type": "markdown",
   "metadata": {},
   "source": [
    "### Clean original_text\n"
   ]
  },
  {
   "cell_type": "code",
   "execution_count": null,
   "metadata": {},
   "outputs": [],
   "source": [
    "def clean_tweet(tweet):\n",
    "    clean_tweet = re.sub(\"[^a-zA-Z]\",  \" \",  tweet)\n",
    "    return clean_tweet\n",
    "\n",
    "\n",
    "tweets[\"original_text\"] = tweets.original_text.apply(clean_tweet)"
   ]
  },
  {
   "cell_type": "markdown",
   "metadata": {},
   "source": [
    "### Convert tweet sentiment to category"
   ]
  },
  {
   "cell_type": "code",
   "execution_count": 29,
   "metadata": {},
   "outputs": [],
   "source": [
    "def text_category(p):\n",
    "  if p > 0:\n",
    "    return \"positive\"\n",
    "  elif p < 0:\n",
    "    return \"negative\"\n",
    "  else:\n",
    "    return \"neutral\""
   ]
  },
  {
   "cell_type": "code",
   "execution_count": 21,
   "metadata": {},
   "outputs": [
    {
     "data": {
      "text/html": [
       "<div>\n",
       "<style scoped>\n",
       "    .dataframe tbody tr th:only-of-type {\n",
       "        vertical-align: middle;\n",
       "    }\n",
       "\n",
       "    .dataframe tbody tr th {\n",
       "        vertical-align: top;\n",
       "    }\n",
       "\n",
       "    .dataframe thead th {\n",
       "        text-align: right;\n",
       "    }\n",
       "</style>\n",
       "<table border=\"1\" class=\"dataframe\">\n",
       "  <thead>\n",
       "    <tr style=\"text-align: right;\">\n",
       "      <th></th>\n",
       "      <th>created_at</th>\n",
       "      <th>source</th>\n",
       "      <th>original_text</th>\n",
       "      <th>polarity</th>\n",
       "      <th>subjectivity</th>\n",
       "      <th>lang</th>\n",
       "      <th>favorite_count</th>\n",
       "      <th>retweet_count</th>\n",
       "      <th>original_author</th>\n",
       "      <th>followers_count</th>\n",
       "      <th>friends_count</th>\n",
       "      <th>possibly_sensitive</th>\n",
       "      <th>hashtags</th>\n",
       "      <th>user_mentions</th>\n",
       "      <th>place</th>\n",
       "    </tr>\n",
       "  </thead>\n",
       "  <tbody>\n",
       "  </tbody>\n",
       "</table>\n",
       "</div>"
      ],
      "text/plain": [
       "Empty DataFrame\n",
       "Columns: [created_at, source, original_text, polarity, subjectivity, lang, favorite_count, retweet_count, original_author, followers_count, friends_count, possibly_sensitive, hashtags, user_mentions, place]\n",
       "Index: []"
      ]
     },
     "output_type": "unknown"
    }
   ],
   "source": [
    "tweets[\"polarity\"] = tweets[\"polarity\"].apply(text_category)"
   ]
  },
  {
   "cell_type": "markdown",
   "metadata": {},
   "source": [
    "## Data exploration "
   ]
  },
  {
   "cell_type": "markdown",
   "metadata": {},
   "source": [
    "### Tweet languages"
   ]
  },
  {
   "cell_type": "code",
   "execution_count": 25,
   "metadata": {},
   "outputs": [
    {
     "data": {
      "text/plain": [
       "lang\n",
       "en    6532\n",
       "dtype: int64"
      ]
     },
     "output_type": "unknown"
    }
   ],
   "source": [
    "tweet_lang = tweets.groupby(['lang']).size()\n",
    "tweet_lang"
   ]
  },
  {
   "cell_type": "markdown",
   "metadata": {},
   "source": [
    "### Tweet sentiments"
   ]
  },
  {
   "cell_type": "code",
   "execution_count": 26,
   "metadata": {},
   "outputs": [],
   "source": []
  },
  {
   "cell_type": "code",
   "execution_count": 27,
   "metadata": {},
   "outputs": [
    {
     "data": {
      "text/html": [
       "<div>\n",
       "<style scoped>\n",
       "    .dataframe tbody tr th:only-of-type {\n",
       "        vertical-align: middle;\n",
       "    }\n",
       "\n",
       "    .dataframe tbody tr th {\n",
       "        vertical-align: top;\n",
       "    }\n",
       "\n",
       "    .dataframe thead th {\n",
       "        text-align: right;\n",
       "    }\n",
       "</style>\n",
       "<table border=\"1\" class=\"dataframe\">\n",
       "  <thead>\n",
       "    <tr style=\"text-align: right;\">\n",
       "      <th></th>\n",
       "      <th>created_at</th>\n",
       "      <th>source</th>\n",
       "      <th>original_text</th>\n",
       "      <th>polarity</th>\n",
       "      <th>subjectivity</th>\n",
       "      <th>lang</th>\n",
       "      <th>favorite_count</th>\n",
       "      <th>retweet_count</th>\n",
       "      <th>original_author</th>\n",
       "      <th>followers_count</th>\n",
       "      <th>friends_count</th>\n",
       "      <th>possibly_sensitive</th>\n",
       "      <th>hashtags</th>\n",
       "      <th>user_mentions</th>\n",
       "      <th>place</th>\n",
       "    </tr>\n",
       "  </thead>\n",
       "  <tbody>\n",
       "    <tr>\n",
       "      <th>0</th>\n",
       "      <td>Fri Jun 18 17:55:49 +0000 2021</td>\n",
       "      <td>&lt;a href=\"http://twitter.com/download/iphone\" r...</td>\n",
       "      <td>RT @TelGlobalHealth: 🚨Africa is \"in the midst ...</td>\n",
       "      <td>neutral</td>\n",
       "      <td>0.000000</td>\n",
       "      <td>en</td>\n",
       "      <td>NaN</td>\n",
       "      <td>NaN</td>\n",
       "      <td>ketuesriche</td>\n",
       "      <td>551</td>\n",
       "      <td>351</td>\n",
       "      <td>NaN</td>\n",
       "      <td>[]</td>\n",
       "      <td>[{'screen_name': 'TelGlobalHealth', 'name': 'T...</td>\n",
       "      <td>Mass</td>\n",
       "    </tr>\n",
       "    <tr>\n",
       "      <th>1</th>\n",
       "      <td>Fri Jun 18 17:55:59 +0000 2021</td>\n",
       "      <td>&lt;a href=\"https://mobile.twitter.com\" rel=\"nofo...</td>\n",
       "      <td>RT @globalhlthtwit: Dr Moeti is head of WHO in...</td>\n",
       "      <td>positive</td>\n",
       "      <td>0.455556</td>\n",
       "      <td>en</td>\n",
       "      <td>NaN</td>\n",
       "      <td>NaN</td>\n",
       "      <td>Grid1949</td>\n",
       "      <td>66</td>\n",
       "      <td>92</td>\n",
       "      <td>NaN</td>\n",
       "      <td>[]</td>\n",
       "      <td>[{'screen_name': 'globalhlthtwit', 'name': 'An...</td>\n",
       "      <td>Edinburgh, Scotland</td>\n",
       "    </tr>\n",
       "    <tr>\n",
       "      <th>2</th>\n",
       "      <td>Fri Jun 18 17:56:07 +0000 2021</td>\n",
       "      <td>&lt;a href=\"http://twitter.com/download/iphone\" r...</td>\n",
       "      <td>RT @NHSRDForum: Thank you @research2note for c...</td>\n",
       "      <td>positive</td>\n",
       "      <td>0.483333</td>\n",
       "      <td>en</td>\n",
       "      <td>NaN</td>\n",
       "      <td>NaN</td>\n",
       "      <td>LeeTomlinson8</td>\n",
       "      <td>1195</td>\n",
       "      <td>1176</td>\n",
       "      <td>NaN</td>\n",
       "      <td>[{'text': 'red4research', 'indices': [103, 116]}]</td>\n",
       "      <td>[{'screen_name': 'NHSRDForum', 'name': 'NHS R&amp;...</td>\n",
       "      <td>NaN</td>\n",
       "    </tr>\n",
       "    <tr>\n",
       "      <th>3</th>\n",
       "      <td>Fri Jun 18 17:56:10 +0000 2021</td>\n",
       "      <td>&lt;a href=\"https://mobile.twitter.com\" rel=\"nofo...</td>\n",
       "      <td>RT @HighWireTalk: Former Pfizer VP and Virolog...</td>\n",
       "      <td>positive</td>\n",
       "      <td>0.166667</td>\n",
       "      <td>en</td>\n",
       "      <td>NaN</td>\n",
       "      <td>NaN</td>\n",
       "      <td>RIPNY08</td>\n",
       "      <td>2666</td>\n",
       "      <td>2704</td>\n",
       "      <td>NaN</td>\n",
       "      <td>[]</td>\n",
       "      <td>[{'screen_name': 'HighWireTalk', 'name': 'The ...</td>\n",
       "      <td>NaN</td>\n",
       "    </tr>\n",
       "    <tr>\n",
       "      <th>4</th>\n",
       "      <td>Fri Jun 18 17:56:20 +0000 2021</td>\n",
       "      <td>&lt;a href=\"http://twitter.com/download/android\" ...</td>\n",
       "      <td>RT @PeterHotez: I think it’s important that we...</td>\n",
       "      <td>positive</td>\n",
       "      <td>0.766667</td>\n",
       "      <td>en</td>\n",
       "      <td>NaN</td>\n",
       "      <td>NaN</td>\n",
       "      <td>pash22</td>\n",
       "      <td>28250</td>\n",
       "      <td>30819</td>\n",
       "      <td>NaN</td>\n",
       "      <td>[]</td>\n",
       "      <td>[{'screen_name': 'PeterHotez', 'name': 'Prof P...</td>\n",
       "      <td>United Kingdom</td>\n",
       "    </tr>\n",
       "    <tr>\n",
       "      <th>...</th>\n",
       "      <td>...</td>\n",
       "      <td>...</td>\n",
       "      <td>...</td>\n",
       "      <td>...</td>\n",
       "      <td>...</td>\n",
       "      <td>...</td>\n",
       "      <td>...</td>\n",
       "      <td>...</td>\n",
       "      <td>...</td>\n",
       "      <td>...</td>\n",
       "      <td>...</td>\n",
       "      <td>...</td>\n",
       "      <td>...</td>\n",
       "      <td>...</td>\n",
       "      <td>...</td>\n",
       "    </tr>\n",
       "    <tr>\n",
       "      <th>6527</th>\n",
       "      <td>Sat Jun 19 07:41:15 +0000 2021</td>\n",
       "      <td>&lt;a href=\"http://twitter.com/download/android\" ...</td>\n",
       "      <td>RT @Givenkazeni: Zweli please just release the...</td>\n",
       "      <td>neutral</td>\n",
       "      <td>0.400000</td>\n",
       "      <td>en</td>\n",
       "      <td>NaN</td>\n",
       "      <td>NaN</td>\n",
       "      <td>Mthatos_Vivi</td>\n",
       "      <td>447</td>\n",
       "      <td>1089</td>\n",
       "      <td>NaN</td>\n",
       "      <td>[]</td>\n",
       "      <td>[{'screen_name': 'Givenkazeni', 'name': 'le’Gi...</td>\n",
       "      <td>NaN</td>\n",
       "    </tr>\n",
       "    <tr>\n",
       "      <th>6528</th>\n",
       "      <td>Sat Jun 19 07:41:26 +0000 2021</td>\n",
       "      <td>&lt;a href=\"http://twitter.com/download/android\" ...</td>\n",
       "      <td>RT @HighWireTalk: Former Pfizer VP and Virolog...</td>\n",
       "      <td>positive</td>\n",
       "      <td>0.166667</td>\n",
       "      <td>en</td>\n",
       "      <td>NaN</td>\n",
       "      <td>NaN</td>\n",
       "      <td>wayno_af007</td>\n",
       "      <td>2224</td>\n",
       "      <td>2739</td>\n",
       "      <td>NaN</td>\n",
       "      <td>[]</td>\n",
       "      <td>[{'screen_name': 'HighWireTalk', 'name': 'The ...</td>\n",
       "      <td>The boro, MA</td>\n",
       "    </tr>\n",
       "    <tr>\n",
       "      <th>6529</th>\n",
       "      <td>Sat Jun 19 07:41:31 +0000 2021</td>\n",
       "      <td>&lt;a href=\"http://twitter.com/download/iphone\" r...</td>\n",
       "      <td>@Jenfeds73 @DcrInYYC Respectfully, veterinaria...</td>\n",
       "      <td>positive</td>\n",
       "      <td>0.506250</td>\n",
       "      <td>en</td>\n",
       "      <td>NaN</td>\n",
       "      <td>NaN</td>\n",
       "      <td>dublonothing</td>\n",
       "      <td>3000</td>\n",
       "      <td>4709</td>\n",
       "      <td>NaN</td>\n",
       "      <td>[]</td>\n",
       "      <td>[{'screen_name': 'Jenfeds73', 'name': 'Bubs 🇨🇦...</td>\n",
       "      <td>Los Angeles, CA</td>\n",
       "    </tr>\n",
       "    <tr>\n",
       "      <th>6530</th>\n",
       "      <td>Sat Jun 19 07:41:45 +0000 2021</td>\n",
       "      <td>&lt;a href=\"http://twitter.com/download/iphone\" r...</td>\n",
       "      <td>RT @WHOAFRO: \"Africa needs millions more doses...</td>\n",
       "      <td>positive</td>\n",
       "      <td>0.166667</td>\n",
       "      <td>en</td>\n",
       "      <td>NaN</td>\n",
       "      <td>NaN</td>\n",
       "      <td>DrAmirKhanGP</td>\n",
       "      <td>135163</td>\n",
       "      <td>1284</td>\n",
       "      <td>NaN</td>\n",
       "      <td>[{'text': 'COVID19', 'indices': [120, 128]}]</td>\n",
       "      <td>[{'screen_name': 'WHOAFRO', 'name': 'WHO Afric...</td>\n",
       "      <td>Yorkshire and The Humber</td>\n",
       "    </tr>\n",
       "    <tr>\n",
       "      <th>6531</th>\n",
       "      <td>Sat Jun 19 07:41:54 +0000 2021</td>\n",
       "      <td>&lt;a href=\"https://mobile.twitter.com\" rel=\"nofo...</td>\n",
       "      <td>RT @shawajason: Liars. You tried to load off y...</td>\n",
       "      <td>neutral</td>\n",
       "      <td>0.000000</td>\n",
       "      <td>en</td>\n",
       "      <td>NaN</td>\n",
       "      <td>NaN</td>\n",
       "      <td>jepigepas_</td>\n",
       "      <td>160</td>\n",
       "      <td>712</td>\n",
       "      <td>NaN</td>\n",
       "      <td>[]</td>\n",
       "      <td>[{'screen_name': 'shawajason', 'name': 'J. Sha...</td>\n",
       "      <td>NaN</td>\n",
       "    </tr>\n",
       "  </tbody>\n",
       "</table>\n",
       "<p>6532 rows × 15 columns</p>\n",
       "</div>"
      ],
      "text/plain": [
       "                          created_at  \\\n",
       "0     Fri Jun 18 17:55:49 +0000 2021   \n",
       "1     Fri Jun 18 17:55:59 +0000 2021   \n",
       "2     Fri Jun 18 17:56:07 +0000 2021   \n",
       "3     Fri Jun 18 17:56:10 +0000 2021   \n",
       "4     Fri Jun 18 17:56:20 +0000 2021   \n",
       "...                              ...   \n",
       "6527  Sat Jun 19 07:41:15 +0000 2021   \n",
       "6528  Sat Jun 19 07:41:26 +0000 2021   \n",
       "6529  Sat Jun 19 07:41:31 +0000 2021   \n",
       "6530  Sat Jun 19 07:41:45 +0000 2021   \n",
       "6531  Sat Jun 19 07:41:54 +0000 2021   \n",
       "\n",
       "                                                 source  \\\n",
       "0     <a href=\"http://twitter.com/download/iphone\" r...   \n",
       "1     <a href=\"https://mobile.twitter.com\" rel=\"nofo...   \n",
       "2     <a href=\"http://twitter.com/download/iphone\" r...   \n",
       "3     <a href=\"https://mobile.twitter.com\" rel=\"nofo...   \n",
       "4     <a href=\"http://twitter.com/download/android\" ...   \n",
       "...                                                 ...   \n",
       "6527  <a href=\"http://twitter.com/download/android\" ...   \n",
       "6528  <a href=\"http://twitter.com/download/android\" ...   \n",
       "6529  <a href=\"http://twitter.com/download/iphone\" r...   \n",
       "6530  <a href=\"http://twitter.com/download/iphone\" r...   \n",
       "6531  <a href=\"https://mobile.twitter.com\" rel=\"nofo...   \n",
       "\n",
       "                                          original_text  polarity  \\\n",
       "0     RT @TelGlobalHealth: 🚨Africa is \"in the midst ...   neutral   \n",
       "1     RT @globalhlthtwit: Dr Moeti is head of WHO in...  positive   \n",
       "2     RT @NHSRDForum: Thank you @research2note for c...  positive   \n",
       "3     RT @HighWireTalk: Former Pfizer VP and Virolog...  positive   \n",
       "4     RT @PeterHotez: I think it’s important that we...  positive   \n",
       "...                                                 ...       ...   \n",
       "6527  RT @Givenkazeni: Zweli please just release the...   neutral   \n",
       "6528  RT @HighWireTalk: Former Pfizer VP and Virolog...  positive   \n",
       "6529  @Jenfeds73 @DcrInYYC Respectfully, veterinaria...  positive   \n",
       "6530  RT @WHOAFRO: \"Africa needs millions more doses...  positive   \n",
       "6531  RT @shawajason: Liars. You tried to load off y...   neutral   \n",
       "\n",
       "      subjectivity lang  favorite_count  retweet_count original_author  \\\n",
       "0         0.000000   en             NaN            NaN     ketuesriche   \n",
       "1         0.455556   en             NaN            NaN        Grid1949   \n",
       "2         0.483333   en             NaN            NaN   LeeTomlinson8   \n",
       "3         0.166667   en             NaN            NaN         RIPNY08   \n",
       "4         0.766667   en             NaN            NaN          pash22   \n",
       "...            ...  ...             ...            ...             ...   \n",
       "6527      0.400000   en             NaN            NaN    Mthatos_Vivi   \n",
       "6528      0.166667   en             NaN            NaN     wayno_af007   \n",
       "6529      0.506250   en             NaN            NaN    dublonothing   \n",
       "6530      0.166667   en             NaN            NaN    DrAmirKhanGP   \n",
       "6531      0.000000   en             NaN            NaN      jepigepas_   \n",
       "\n",
       "      followers_count  friends_count  possibly_sensitive  \\\n",
       "0                 551            351                 NaN   \n",
       "1                  66             92                 NaN   \n",
       "2                1195           1176                 NaN   \n",
       "3                2666           2704                 NaN   \n",
       "4               28250          30819                 NaN   \n",
       "...               ...            ...                 ...   \n",
       "6527              447           1089                 NaN   \n",
       "6528             2224           2739                 NaN   \n",
       "6529             3000           4709                 NaN   \n",
       "6530           135163           1284                 NaN   \n",
       "6531              160            712                 NaN   \n",
       "\n",
       "                                               hashtags  \\\n",
       "0                                                    []   \n",
       "1                                                    []   \n",
       "2     [{'text': 'red4research', 'indices': [103, 116]}]   \n",
       "3                                                    []   \n",
       "4                                                    []   \n",
       "...                                                 ...   \n",
       "6527                                                 []   \n",
       "6528                                                 []   \n",
       "6529                                                 []   \n",
       "6530       [{'text': 'COVID19', 'indices': [120, 128]}]   \n",
       "6531                                                 []   \n",
       "\n",
       "                                          user_mentions  \\\n",
       "0     [{'screen_name': 'TelGlobalHealth', 'name': 'T...   \n",
       "1     [{'screen_name': 'globalhlthtwit', 'name': 'An...   \n",
       "2     [{'screen_name': 'NHSRDForum', 'name': 'NHS R&...   \n",
       "3     [{'screen_name': 'HighWireTalk', 'name': 'The ...   \n",
       "4     [{'screen_name': 'PeterHotez', 'name': 'Prof P...   \n",
       "...                                                 ...   \n",
       "6527  [{'screen_name': 'Givenkazeni', 'name': 'le’Gi...   \n",
       "6528  [{'screen_name': 'HighWireTalk', 'name': 'The ...   \n",
       "6529  [{'screen_name': 'Jenfeds73', 'name': 'Bubs 🇨🇦...   \n",
       "6530  [{'screen_name': 'WHOAFRO', 'name': 'WHO Afric...   \n",
       "6531  [{'screen_name': 'shawajason', 'name': 'J. Sha...   \n",
       "\n",
       "                         place  \n",
       "0                         Mass  \n",
       "1          Edinburgh, Scotland  \n",
       "2                          NaN  \n",
       "3                          NaN  \n",
       "4               United Kingdom  \n",
       "...                        ...  \n",
       "6527                       NaN  \n",
       "6528              The boro, MA  \n",
       "6529           Los Angeles, CA  \n",
       "6530  Yorkshire and The Humber  \n",
       "6531                       NaN  \n",
       "\n",
       "[6532 rows x 15 columns]"
      ]
     },
     "output_type": "unknown"
    }
   ],
   "source": [
    "tweet_sent = tweets.groupby(['polarity']).size()\n",
    "tweet_sent"
   ]
  },
  {
   "cell_type": "code",
   "execution_count": 28,
   "metadata": {},
   "outputs": [
    {
     "data": {
      "text/plain": [
       "polarity\n",
       "negative    1216\n",
       "neutral     2508\n",
       "positive    2808\n",
       "dtype: int64"
      ]
     },
     "output_type": "unknown"
    }
   ],
   "source": []
  },
  {
   "cell_type": "markdown",
   "metadata": {},
   "source": [
    "## Visualisations"
   ]
  },
  {
   "cell_type": "markdown",
   "metadata": {},
   "source": [
    "## Save the Data"
   ]
  },
  {
   "cell_type": "markdown",
   "metadata": {},
   "source": [
    "missing values"
   ]
  },
  {
   "cell_type": "markdown",
   "metadata": {},
   "source": [
    "### Clean original_text\n"
   ]
  },
  {
   "cell_type": "code",
   "execution_count": null,
   "metadata": {},
   "outputs": [],
   "source": [
    "def clean_tweet(tweet):\n",
    "    clean_tweet = re.sub(\"[^a-zA-Z]\",  \" \",  tweet)\n",
    "    return clean_tweet\n",
    "\n",
    "\n",
    "tweets[\"original_text\"] = tweets.original_text.apply(clean_tweet)"
   ]
  },
  {
   "cell_type": "markdown",
   "metadata": {},
   "source": [
    "### Convert tweet sentiment to category"
   ]
  },
  {
   "cell_type": "code",
   "execution_count": 29,
   "metadata": {},
   "outputs": [],
   "source": [
    "def text_category(p):\n",
    "  if p > 0:\n",
    "    return \"positive\"\n",
    "  elif p < 0:\n",
    "    return \"negative\"\n",
    "  else:\n",
    "    return \"neutral\""
   ]
  },
  {
   "cell_type": "code",
   "execution_count": 21,
   "metadata": {},
   "outputs": [
    {
     "data": {
      "text/html": [
       "<div>\n",
       "<style scoped>\n",
       "    .dataframe tbody tr th:only-of-type {\n",
       "        vertical-align: middle;\n",
       "    }\n",
       "\n",
       "    .dataframe tbody tr th {\n",
       "        vertical-align: top;\n",
       "    }\n",
       "\n",
       "    .dataframe thead th {\n",
       "        text-align: right;\n",
       "    }\n",
       "</style>\n",
       "<table border=\"1\" class=\"dataframe\">\n",
       "  <thead>\n",
       "    <tr style=\"text-align: right;\">\n",
       "      <th></th>\n",
       "      <th>created_at</th>\n",
       "      <th>source</th>\n",
       "      <th>original_text</th>\n",
       "      <th>polarity</th>\n",
       "      <th>subjectivity</th>\n",
       "      <th>lang</th>\n",
       "      <th>favorite_count</th>\n",
       "      <th>retweet_count</th>\n",
       "      <th>original_author</th>\n",
       "      <th>followers_count</th>\n",
       "      <th>friends_count</th>\n",
       "      <th>possibly_sensitive</th>\n",
       "      <th>hashtags</th>\n",
       "      <th>user_mentions</th>\n",
       "      <th>place</th>\n",
       "    </tr>\n",
       "  </thead>\n",
       "  <tbody>\n",
       "  </tbody>\n",
       "</table>\n",
       "</div>"
      ],
      "text/plain": [
       "Empty DataFrame\n",
       "Columns: [created_at, source, original_text, polarity, subjectivity, lang, favorite_count, retweet_count, original_author, followers_count, friends_count, possibly_sensitive, hashtags, user_mentions, place]\n",
       "Index: []"
      ]
     },
     "execution_count": 21,
     "metadata": {},
     "output_type": "execute_result"
    }
   ],
   "source": [
    "tweets[\"polarity\"] = tweets[\"polarity\"].apply(text_category)"
   ]
  },
  {
   "cell_type": "markdown",
   "metadata": {},
   "source": [
    "## Data exploration "
   ]
  },
  {
   "cell_type": "markdown",
   "metadata": {},
   "source": [
    "### Tweet languages"
   ]
  },
  {
   "cell_type": "code",
   "execution_count": 25,
   "metadata": {},
   "outputs": [
    {
     "data": {
      "text/plain": [
       "lang\n",
       "en    6532\n",
       "dtype: int64"
      ]
     },
     "execution_count": 25,
     "metadata": {},
     "output_type": "execute_result"
    }
   ],
   "source": [
    "tweet_lang = tweets.groupby(['lang']).size()\n",
    "tweet_lang"
   ]
  },
  {
   "cell_type": "markdown",
   "metadata": {},
   "source": [
    "### Tweet sentiments"
   ]
  },
  {
   "cell_type": "code",
   "execution_count": 26,
   "metadata": {},
   "outputs": [],
   "source": []
  },
  {
   "cell_type": "code",
   "execution_count": 27,
   "metadata": {},
   "outputs": [
    {
     "data": {
      "text/html": [
       "<div>\n",
       "<style scoped>\n",
       "    .dataframe tbody tr th:only-of-type {\n",
       "        vertical-align: middle;\n",
       "    }\n",
       "\n",
       "    .dataframe tbody tr th {\n",
       "        vertical-align: top;\n",
       "    }\n",
       "\n",
       "    .dataframe thead th {\n",
       "        text-align: right;\n",
       "    }\n",
       "</style>\n",
       "<table border=\"1\" class=\"dataframe\">\n",
       "  <thead>\n",
       "    <tr style=\"text-align: right;\">\n",
       "      <th></th>\n",
       "      <th>created_at</th>\n",
       "      <th>source</th>\n",
       "      <th>original_text</th>\n",
       "      <th>polarity</th>\n",
       "      <th>subjectivity</th>\n",
       "      <th>lang</th>\n",
       "      <th>favorite_count</th>\n",
       "      <th>retweet_count</th>\n",
       "      <th>original_author</th>\n",
       "      <th>followers_count</th>\n",
       "      <th>friends_count</th>\n",
       "      <th>possibly_sensitive</th>\n",
       "      <th>hashtags</th>\n",
       "      <th>user_mentions</th>\n",
       "      <th>place</th>\n",
       "    </tr>\n",
       "  </thead>\n",
       "  <tbody>\n",
       "    <tr>\n",
       "      <th>0</th>\n",
       "      <td>Fri Jun 18 17:55:49 +0000 2021</td>\n",
       "      <td>&lt;a href=\"http://twitter.com/download/iphone\" r...</td>\n",
       "      <td>RT @TelGlobalHealth: 🚨Africa is \"in the midst ...</td>\n",
       "      <td>neutral</td>\n",
       "      <td>0.000000</td>\n",
       "      <td>en</td>\n",
       "      <td>NaN</td>\n",
       "      <td>NaN</td>\n",
       "      <td>ketuesriche</td>\n",
       "      <td>551</td>\n",
       "      <td>351</td>\n",
       "      <td>NaN</td>\n",
       "      <td>[]</td>\n",
       "      <td>[{'screen_name': 'TelGlobalHealth', 'name': 'T...</td>\n",
       "      <td>Mass</td>\n",
       "    </tr>\n",
       "    <tr>\n",
       "      <th>1</th>\n",
       "      <td>Fri Jun 18 17:55:59 +0000 2021</td>\n",
       "      <td>&lt;a href=\"https://mobile.twitter.com\" rel=\"nofo...</td>\n",
       "      <td>RT @globalhlthtwit: Dr Moeti is head of WHO in...</td>\n",
       "      <td>positive</td>\n",
       "      <td>0.455556</td>\n",
       "      <td>en</td>\n",
       "      <td>NaN</td>\n",
       "      <td>NaN</td>\n",
       "      <td>Grid1949</td>\n",
       "      <td>66</td>\n",
       "      <td>92</td>\n",
       "      <td>NaN</td>\n",
       "      <td>[]</td>\n",
       "      <td>[{'screen_name': 'globalhlthtwit', 'name': 'An...</td>\n",
       "      <td>Edinburgh, Scotland</td>\n",
       "    </tr>\n",
       "    <tr>\n",
       "      <th>2</th>\n",
       "      <td>Fri Jun 18 17:56:07 +0000 2021</td>\n",
       "      <td>&lt;a href=\"http://twitter.com/download/iphone\" r...</td>\n",
       "      <td>RT @NHSRDForum: Thank you @research2note for c...</td>\n",
       "      <td>positive</td>\n",
       "      <td>0.483333</td>\n",
       "      <td>en</td>\n",
       "      <td>NaN</td>\n",
       "      <td>NaN</td>\n",
       "      <td>LeeTomlinson8</td>\n",
       "      <td>1195</td>\n",
       "      <td>1176</td>\n",
       "      <td>NaN</td>\n",
       "      <td>[{'text': 'red4research', 'indices': [103, 116]}]</td>\n",
       "      <td>[{'screen_name': 'NHSRDForum', 'name': 'NHS R&amp;...</td>\n",
       "      <td>NaN</td>\n",
       "    </tr>\n",
       "    <tr>\n",
       "      <th>3</th>\n",
       "      <td>Fri Jun 18 17:56:10 +0000 2021</td>\n",
       "      <td>&lt;a href=\"https://mobile.twitter.com\" rel=\"nofo...</td>\n",
       "      <td>RT @HighWireTalk: Former Pfizer VP and Virolog...</td>\n",
       "      <td>positive</td>\n",
       "      <td>0.166667</td>\n",
       "      <td>en</td>\n",
       "      <td>NaN</td>\n",
       "      <td>NaN</td>\n",
       "      <td>RIPNY08</td>\n",
       "      <td>2666</td>\n",
       "      <td>2704</td>\n",
       "      <td>NaN</td>\n",
       "      <td>[]</td>\n",
       "      <td>[{'screen_name': 'HighWireTalk', 'name': 'The ...</td>\n",
       "      <td>NaN</td>\n",
       "    </tr>\n",
       "    <tr>\n",
       "      <th>4</th>\n",
       "      <td>Fri Jun 18 17:56:20 +0000 2021</td>\n",
       "      <td>&lt;a href=\"http://twitter.com/download/android\" ...</td>\n",
       "      <td>RT @PeterHotez: I think it’s important that we...</td>\n",
       "      <td>positive</td>\n",
       "      <td>0.766667</td>\n",
       "      <td>en</td>\n",
       "      <td>NaN</td>\n",
       "      <td>NaN</td>\n",
       "      <td>pash22</td>\n",
       "      <td>28250</td>\n",
       "      <td>30819</td>\n",
       "      <td>NaN</td>\n",
       "      <td>[]</td>\n",
       "      <td>[{'screen_name': 'PeterHotez', 'name': 'Prof P...</td>\n",
       "      <td>United Kingdom</td>\n",
       "    </tr>\n",
       "    <tr>\n",
       "      <th>...</th>\n",
       "      <td>...</td>\n",
       "      <td>...</td>\n",
       "      <td>...</td>\n",
       "      <td>...</td>\n",
       "      <td>...</td>\n",
       "      <td>...</td>\n",
       "      <td>...</td>\n",
       "      <td>...</td>\n",
       "      <td>...</td>\n",
       "      <td>...</td>\n",
       "      <td>...</td>\n",
       "      <td>...</td>\n",
       "      <td>...</td>\n",
       "      <td>...</td>\n",
       "      <td>...</td>\n",
       "    </tr>\n",
       "    <tr>\n",
       "      <th>6527</th>\n",
       "      <td>Sat Jun 19 07:41:15 +0000 2021</td>\n",
       "      <td>&lt;a href=\"http://twitter.com/download/android\" ...</td>\n",
       "      <td>RT @Givenkazeni: Zweli please just release the...</td>\n",
       "      <td>neutral</td>\n",
       "      <td>0.400000</td>\n",
       "      <td>en</td>\n",
       "      <td>NaN</td>\n",
       "      <td>NaN</td>\n",
       "      <td>Mthatos_Vivi</td>\n",
       "      <td>447</td>\n",
       "      <td>1089</td>\n",
       "      <td>NaN</td>\n",
       "      <td>[]</td>\n",
       "      <td>[{'screen_name': 'Givenkazeni', 'name': 'le’Gi...</td>\n",
       "      <td>NaN</td>\n",
       "    </tr>\n",
       "    <tr>\n",
       "      <th>6528</th>\n",
       "      <td>Sat Jun 19 07:41:26 +0000 2021</td>\n",
       "      <td>&lt;a href=\"http://twitter.com/download/android\" ...</td>\n",
       "      <td>RT @HighWireTalk: Former Pfizer VP and Virolog...</td>\n",
       "      <td>positive</td>\n",
       "      <td>0.166667</td>\n",
       "      <td>en</td>\n",
       "      <td>NaN</td>\n",
       "      <td>NaN</td>\n",
       "      <td>wayno_af007</td>\n",
       "      <td>2224</td>\n",
       "      <td>2739</td>\n",
       "      <td>NaN</td>\n",
       "      <td>[]</td>\n",
       "      <td>[{'screen_name': 'HighWireTalk', 'name': 'The ...</td>\n",
       "      <td>The boro, MA</td>\n",
       "    </tr>\n",
       "    <tr>\n",
       "      <th>6529</th>\n",
       "      <td>Sat Jun 19 07:41:31 +0000 2021</td>\n",
       "      <td>&lt;a href=\"http://twitter.com/download/iphone\" r...</td>\n",
       "      <td>@Jenfeds73 @DcrInYYC Respectfully, veterinaria...</td>\n",
       "      <td>positive</td>\n",
       "      <td>0.506250</td>\n",
       "      <td>en</td>\n",
       "      <td>NaN</td>\n",
       "      <td>NaN</td>\n",
       "      <td>dublonothing</td>\n",
       "      <td>3000</td>\n",
       "      <td>4709</td>\n",
       "      <td>NaN</td>\n",
       "      <td>[]</td>\n",
       "      <td>[{'screen_name': 'Jenfeds73', 'name': 'Bubs 🇨🇦...</td>\n",
       "      <td>Los Angeles, CA</td>\n",
       "    </tr>\n",
       "    <tr>\n",
       "      <th>6530</th>\n",
       "      <td>Sat Jun 19 07:41:45 +0000 2021</td>\n",
       "      <td>&lt;a href=\"http://twitter.com/download/iphone\" r...</td>\n",
       "      <td>RT @WHOAFRO: \"Africa needs millions more doses...</td>\n",
       "      <td>positive</td>\n",
       "      <td>0.166667</td>\n",
       "      <td>en</td>\n",
       "      <td>NaN</td>\n",
       "      <td>NaN</td>\n",
       "      <td>DrAmirKhanGP</td>\n",
       "      <td>135163</td>\n",
       "      <td>1284</td>\n",
       "      <td>NaN</td>\n",
       "      <td>[{'text': 'COVID19', 'indices': [120, 128]}]</td>\n",
       "      <td>[{'screen_name': 'WHOAFRO', 'name': 'WHO Afric...</td>\n",
       "      <td>Yorkshire and The Humber</td>\n",
       "    </tr>\n",
       "    <tr>\n",
       "      <th>6531</th>\n",
       "      <td>Sat Jun 19 07:41:54 +0000 2021</td>\n",
       "      <td>&lt;a href=\"https://mobile.twitter.com\" rel=\"nofo...</td>\n",
       "      <td>RT @shawajason: Liars. You tried to load off y...</td>\n",
       "      <td>neutral</td>\n",
       "      <td>0.000000</td>\n",
       "      <td>en</td>\n",
       "      <td>NaN</td>\n",
       "      <td>NaN</td>\n",
       "      <td>jepigepas_</td>\n",
       "      <td>160</td>\n",
       "      <td>712</td>\n",
       "      <td>NaN</td>\n",
       "      <td>[]</td>\n",
       "      <td>[{'screen_name': 'shawajason', 'name': 'J. Sha...</td>\n",
       "      <td>NaN</td>\n",
       "    </tr>\n",
       "  </tbody>\n",
       "</table>\n",
       "<p>6532 rows × 15 columns</p>\n",
       "</div>"
      ],
      "text/plain": [
       "                          created_at  \\\n",
       "0     Fri Jun 18 17:55:49 +0000 2021   \n",
       "1     Fri Jun 18 17:55:59 +0000 2021   \n",
       "2     Fri Jun 18 17:56:07 +0000 2021   \n",
       "3     Fri Jun 18 17:56:10 +0000 2021   \n",
       "4     Fri Jun 18 17:56:20 +0000 2021   \n",
       "...                              ...   \n",
       "6527  Sat Jun 19 07:41:15 +0000 2021   \n",
       "6528  Sat Jun 19 07:41:26 +0000 2021   \n",
       "6529  Sat Jun 19 07:41:31 +0000 2021   \n",
       "6530  Sat Jun 19 07:41:45 +0000 2021   \n",
       "6531  Sat Jun 19 07:41:54 +0000 2021   \n",
       "\n",
       "                                                 source  \\\n",
       "0     <a href=\"http://twitter.com/download/iphone\" r...   \n",
       "1     <a href=\"https://mobile.twitter.com\" rel=\"nofo...   \n",
       "2     <a href=\"http://twitter.com/download/iphone\" r...   \n",
       "3     <a href=\"https://mobile.twitter.com\" rel=\"nofo...   \n",
       "4     <a href=\"http://twitter.com/download/android\" ...   \n",
       "...                                                 ...   \n",
       "6527  <a href=\"http://twitter.com/download/android\" ...   \n",
       "6528  <a href=\"http://twitter.com/download/android\" ...   \n",
       "6529  <a href=\"http://twitter.com/download/iphone\" r...   \n",
       "6530  <a href=\"http://twitter.com/download/iphone\" r...   \n",
       "6531  <a href=\"https://mobile.twitter.com\" rel=\"nofo...   \n",
       "\n",
       "                                          original_text  polarity  \\\n",
       "0     RT @TelGlobalHealth: 🚨Africa is \"in the midst ...   neutral   \n",
       "1     RT @globalhlthtwit: Dr Moeti is head of WHO in...  positive   \n",
       "2     RT @NHSRDForum: Thank you @research2note for c...  positive   \n",
       "3     RT @HighWireTalk: Former Pfizer VP and Virolog...  positive   \n",
       "4     RT @PeterHotez: I think it’s important that we...  positive   \n",
       "...                                                 ...       ...   \n",
       "6527  RT @Givenkazeni: Zweli please just release the...   neutral   \n",
       "6528  RT @HighWireTalk: Former Pfizer VP and Virolog...  positive   \n",
       "6529  @Jenfeds73 @DcrInYYC Respectfully, veterinaria...  positive   \n",
       "6530  RT @WHOAFRO: \"Africa needs millions more doses...  positive   \n",
       "6531  RT @shawajason: Liars. You tried to load off y...   neutral   \n",
       "\n",
       "      subjectivity lang  favorite_count  retweet_count original_author  \\\n",
       "0         0.000000   en             NaN            NaN     ketuesriche   \n",
       "1         0.455556   en             NaN            NaN        Grid1949   \n",
       "2         0.483333   en             NaN            NaN   LeeTomlinson8   \n",
       "3         0.166667   en             NaN            NaN         RIPNY08   \n",
       "4         0.766667   en             NaN            NaN          pash22   \n",
       "...            ...  ...             ...            ...             ...   \n",
       "6527      0.400000   en             NaN            NaN    Mthatos_Vivi   \n",
       "6528      0.166667   en             NaN            NaN     wayno_af007   \n",
       "6529      0.506250   en             NaN            NaN    dublonothing   \n",
       "6530      0.166667   en             NaN            NaN    DrAmirKhanGP   \n",
       "6531      0.000000   en             NaN            NaN      jepigepas_   \n",
       "\n",
       "      followers_count  friends_count  possibly_sensitive  \\\n",
       "0                 551            351                 NaN   \n",
       "1                  66             92                 NaN   \n",
       "2                1195           1176                 NaN   \n",
       "3                2666           2704                 NaN   \n",
       "4               28250          30819                 NaN   \n",
       "...               ...            ...                 ...   \n",
       "6527              447           1089                 NaN   \n",
       "6528             2224           2739                 NaN   \n",
       "6529             3000           4709                 NaN   \n",
       "6530           135163           1284                 NaN   \n",
       "6531              160            712                 NaN   \n",
       "\n",
       "                                               hashtags  \\\n",
       "0                                                    []   \n",
       "1                                                    []   \n",
       "2     [{'text': 'red4research', 'indices': [103, 116]}]   \n",
       "3                                                    []   \n",
       "4                                                    []   \n",
       "...                                                 ...   \n",
       "6527                                                 []   \n",
       "6528                                                 []   \n",
       "6529                                                 []   \n",
       "6530       [{'text': 'COVID19', 'indices': [120, 128]}]   \n",
       "6531                                                 []   \n",
       "\n",
       "                                          user_mentions  \\\n",
       "0     [{'screen_name': 'TelGlobalHealth', 'name': 'T...   \n",
       "1     [{'screen_name': 'globalhlthtwit', 'name': 'An...   \n",
       "2     [{'screen_name': 'NHSRDForum', 'name': 'NHS R&...   \n",
       "3     [{'screen_name': 'HighWireTalk', 'name': 'The ...   \n",
       "4     [{'screen_name': 'PeterHotez', 'name': 'Prof P...   \n",
       "...                                                 ...   \n",
       "6527  [{'screen_name': 'Givenkazeni', 'name': 'le’Gi...   \n",
       "6528  [{'screen_name': 'HighWireTalk', 'name': 'The ...   \n",
       "6529  [{'screen_name': 'Jenfeds73', 'name': 'Bubs 🇨🇦...   \n",
       "6530  [{'screen_name': 'WHOAFRO', 'name': 'WHO Afric...   \n",
       "6531  [{'screen_name': 'shawajason', 'name': 'J. Sha...   \n",
       "\n",
       "                         place  \n",
       "0                         Mass  \n",
       "1          Edinburgh, Scotland  \n",
       "2                          NaN  \n",
       "3                          NaN  \n",
       "4               United Kingdom  \n",
       "...                        ...  \n",
       "6527                       NaN  \n",
       "6528              The boro, MA  \n",
       "6529           Los Angeles, CA  \n",
       "6530  Yorkshire and The Humber  \n",
       "6531                       NaN  \n",
       "\n",
       "[6532 rows x 15 columns]"
      ]
     },
     "execution_count": 27,
     "metadata": {},
     "output_type": "execute_result"
    }
   ],
   "source": [
    "tweet_sent = tweets.groupby(['polarity']).size()\n",
    "tweet_sent"
   ]
  },
  {
   "cell_type": "code",
   "execution_count": 28,
   "metadata": {},
   "outputs": [
    {
     "data": {
      "text/plain": [
       "polarity\n",
       "negative    1216\n",
       "neutral     2508\n",
       "positive    2808\n",
       "dtype: int64"
      ]
     },
     "execution_count": 28,
     "metadata": {},
     "output_type": "execute_result"
    }
   ],
   "source": []
  },
  {
   "cell_type": "markdown",
   "metadata": {},
   "source": [
    "## Visualisations"
   ]
  },
  {
   "cell_type": "markdown",
   "metadata": {},
   "source": [
    "## Save the Data"
   ]
  }
 ],
 "metadata": {
  "interpreter": {
   "hash": "ac2eaa0ea0ebeafcc7822e65e46aa9d4f966f30b695406963e145ea4a91cd4fc"
  },
  "kernelspec": {
   "display_name": "Python 3.9.5 64-bit ('python@3.9')",
   "name": "python3"
  },
  "language_info": {
   "codemirror_mode": {
    "name": "ipython",
    "version": 3
   },
   "file_extension": ".py",
   "mimetype": "text/x-python",
   "name": "python",
   "nbconvert_exporter": "python",
   "pygments_lexer": "ipython3",
   "version": "3.9.5"
  },
  "orig_nbformat": 4
 },
 "nbformat": 4,
 "nbformat_minor": 2
}